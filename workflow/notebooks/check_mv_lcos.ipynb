{
 "cells": [
  {
   "cell_type": "code",
   "execution_count": 62,
   "id": "ba6134fd",
   "metadata": {},
   "outputs": [],
   "source": [
    "import pypsa, pandas as pd"
   ]
  },
  {
   "cell_type": "code",
   "execution_count": 2,
   "id": "37d457d2",
   "metadata": {},
   "outputs": [
    {
     "name": "stderr",
     "output_type": "stream",
     "text": [
      "WARNING:pypsa.io:Importing network from PyPSA version v0.22.0 while current version is v0.22.1. Read the release notes at https://pypsa.readthedocs.io/en/latest/release_notes.html to prepare your network for import.\n",
      "INFO:pypsa.io:Imported network UK-10a-H2u.nc has buses, generators, links, loads, stores\n"
     ]
    }
   ],
   "source": [
    "n = pypsa.Network(\"networks/230405-10a-UK-test/UK-10a-H2u.nc\")"
   ]
  },
  {
   "cell_type": "markdown",
   "id": "8017f4bd",
   "metadata": {},
   "source": [
    "# Check revenues cover costs"
   ]
  },
  {
   "cell_type": "code",
   "execution_count": 3,
   "id": "10a24dbe",
   "metadata": {},
   "outputs": [
    {
     "data": {
      "text/plain": [
       "14.667049087040738"
      ]
     },
     "execution_count": 3,
     "metadata": {},
     "output_type": "execute_result"
    }
   ],
   "source": [
    "elec_mv_electrolyser = (n.buses_t.marginal_price[\"electricity\"]*n.links_t.p0[\"hydrogen_electrolyser\"]).sum()/n.links_t.p0[\"hydrogen_electrolyser\"].sum()\n",
    "elec_mv_electrolyser"
   ]
  },
  {
   "cell_type": "code",
   "execution_count": 4,
   "id": "0eef8da8",
   "metadata": {},
   "outputs": [
    {
     "data": {
      "text/plain": [
       "39.81941460136643"
      ]
     },
     "execution_count": 4,
     "metadata": {},
     "output_type": "execute_result"
    }
   ],
   "source": [
    "h2_mv_electrolyser = (n.buses_t.marginal_price[\"hydrogen\"]*n.links_t.p1[\"hydrogen_electrolyser\"]).sum()/n.links_t.p1[\"hydrogen_electrolyser\"].sum()\n",
    "h2_mv_electrolyser"
   ]
  },
  {
   "cell_type": "code",
   "execution_count": 5,
   "id": "98e7715a",
   "metadata": {},
   "outputs": [
    {
     "data": {
      "text/plain": [
       "18.283331678827754"
      ]
     },
     "execution_count": 5,
     "metadata": {},
     "output_type": "execute_result"
    }
   ],
   "source": [
    "#per MWh_H2 contribution of electrolyser cost\n",
    "total_cost = (n.links.at[\"hydrogen_electrolyser\",\"p_nom_opt\"]*n.links.at[\"hydrogen_electrolyser\",\"capital_cost\"])\n",
    "elec_capex_part = total_cost/(-3*n.links_t.p1[\"hydrogen_electrolyser\"]).sum()\n",
    "elec_capex_part"
   ]
  },
  {
   "cell_type": "code",
   "execution_count": 6,
   "id": "a3c6ea2d",
   "metadata": {},
   "outputs": [
    {
     "data": {
      "text/plain": [
       "39.85252151271119"
      ]
     },
     "execution_count": 6,
     "metadata": {},
     "output_type": "execute_result"
    }
   ],
   "source": [
    "elec_mv_electrolyser/n.links.at[\"hydrogen_electrolyser\",\"efficiency\"] + elec_capex_part"
   ]
  },
  {
   "cell_type": "code",
   "execution_count": 7,
   "id": "9ce3f0d2",
   "metadata": {},
   "outputs": [
    {
     "data": {
      "text/plain": [
       "200.56638782935624"
      ]
     },
     "execution_count": 7,
     "metadata": {},
     "output_type": "execute_result"
    }
   ],
   "source": [
    "elec_mv_turbine = (n.buses_t.marginal_price[\"electricity\"]*n.links_t.p1[\"hydrogen_turbine\"]).sum()/n.links_t.p1[\"hydrogen_turbine\"].sum()\n",
    "elec_mv_turbine"
   ]
  },
  {
   "cell_type": "code",
   "execution_count": 8,
   "id": "0eefe867",
   "metadata": {},
   "outputs": [
    {
     "data": {
      "text/plain": [
       "80.88998238569656"
      ]
     },
     "execution_count": 8,
     "metadata": {},
     "output_type": "execute_result"
    }
   ],
   "source": [
    "h2_mv_turbine = (n.buses_t.marginal_price[\"hydrogen\"]*n.links_t.p0[\"hydrogen_turbine\"]).sum()/n.links_t.p0[\"hydrogen_turbine\"].sum()\n",
    "h2_mv_turbine"
   ]
  },
  {
   "cell_type": "code",
   "execution_count": 9,
   "id": "5709460c",
   "metadata": {},
   "outputs": [
    {
     "data": {
      "text/plain": [
       "61.159387887722545"
      ]
     },
     "execution_count": 9,
     "metadata": {},
     "output_type": "execute_result"
    }
   ],
   "source": [
    "#per MWh_H2 contribution of turbine cost\n",
    "total_cost = (n.links.at[\"hydrogen_turbine\",\"p_nom_opt\"]*n.links.at[\"hydrogen_turbine\",\"capital_cost\"])\n",
    "turbine_capex_part = total_cost/(-3*n.links_t.p1[\"hydrogen_turbine\"]).sum()\n",
    "turbine_capex_part"
   ]
  },
  {
   "cell_type": "code",
   "execution_count": 10,
   "id": "8ce93298",
   "metadata": {},
   "outputs": [
    {
     "data": {
      "text/plain": [
       "200.62487475961316"
      ]
     },
     "execution_count": 10,
     "metadata": {},
     "output_type": "execute_result"
    }
   ],
   "source": [
    "turbine_capex_part + h2_mv_turbine/n.links.at[\"hydrogen_turbine\",\"efficiency\"]"
   ]
  },
  {
   "cell_type": "code",
   "execution_count": 11,
   "id": "39c8da54",
   "metadata": {},
   "outputs": [
    {
     "data": {
      "text/plain": [
       "170.57552626305227"
      ]
     },
     "execution_count": 11,
     "metadata": {},
     "output_type": "execute_result"
    }
   ],
   "source": [
    "#turbine pays for H2\n",
    "(3*n.buses_t.marginal_price[\"hydrogen\"]*n.links_t.p0[\"hydrogen_turbine\"]).sum()/1e6"
   ]
  },
  {
   "cell_type": "code",
   "execution_count": 12,
   "id": "5a5be800",
   "metadata": {},
   "outputs": [
    {
     "data": {
      "text/plain": [
       "83.96858428825237"
      ]
     },
     "execution_count": 12,
     "metadata": {},
     "output_type": "execute_result"
    }
   ],
   "source": [
    "#electrolyser sells H2\n",
    "(-3*n.buses_t.marginal_price[\"hydrogen\"]*n.links_t.p1[\"hydrogen_electrolyser\"]).sum()/1e6"
   ]
  },
  {
   "cell_type": "code",
   "execution_count": 13,
   "id": "4b24c9d2",
   "metadata": {},
   "outputs": [
    {
     "data": {
      "text/plain": [
       "Store\n",
       "battery_energy     34.506414\n",
       "hydrogen_energy    75.007293\n",
       "dtype: float64"
      ]
     },
     "execution_count": 13,
     "metadata": {},
     "output_type": "execute_result"
    }
   ],
   "source": [
    "# also there are costs for compressor\n",
    "n.stores.e_nom_opt*n.stores.capital_cost/1e6"
   ]
  },
  {
   "cell_type": "code",
   "execution_count": 14,
   "id": "59f289de",
   "metadata": {},
   "outputs": [
    {
     "data": {
      "text/html": [
       "<div>\n",
       "<style scoped>\n",
       "    .dataframe tbody tr th:only-of-type {\n",
       "        vertical-align: middle;\n",
       "    }\n",
       "\n",
       "    .dataframe tbody tr th {\n",
       "        vertical-align: top;\n",
       "    }\n",
       "\n",
       "    .dataframe thead th {\n",
       "        text-align: right;\n",
       "    }\n",
       "</style>\n",
       "<table border=\"1\" class=\"dataframe\">\n",
       "  <thead>\n",
       "    <tr style=\"text-align: right;\">\n",
       "      <th></th>\n",
       "      <th>bus0</th>\n",
       "      <th>bus1</th>\n",
       "      <th>carrier</th>\n",
       "      <th>efficiency</th>\n",
       "      <th>p_nom_extendable</th>\n",
       "      <th>capital_cost</th>\n",
       "      <th>p_nom_opt</th>\n",
       "      <th>bus2</th>\n",
       "      <th>efficiency2</th>\n",
       "      <th>type</th>\n",
       "      <th>...</th>\n",
       "      <th>start_up_cost</th>\n",
       "      <th>shut_down_cost</th>\n",
       "      <th>min_up_time</th>\n",
       "      <th>min_down_time</th>\n",
       "      <th>up_time_before</th>\n",
       "      <th>down_time_before</th>\n",
       "      <th>ramp_limit_up</th>\n",
       "      <th>ramp_limit_down</th>\n",
       "      <th>ramp_limit_start_up</th>\n",
       "      <th>ramp_limit_shut_down</th>\n",
       "    </tr>\n",
       "    <tr>\n",
       "      <th>Link</th>\n",
       "      <th></th>\n",
       "      <th></th>\n",
       "      <th></th>\n",
       "      <th></th>\n",
       "      <th></th>\n",
       "      <th></th>\n",
       "      <th></th>\n",
       "      <th></th>\n",
       "      <th></th>\n",
       "      <th></th>\n",
       "      <th></th>\n",
       "      <th></th>\n",
       "      <th></th>\n",
       "      <th></th>\n",
       "      <th></th>\n",
       "      <th></th>\n",
       "      <th></th>\n",
       "      <th></th>\n",
       "      <th></th>\n",
       "      <th></th>\n",
       "      <th></th>\n",
       "    </tr>\n",
       "  </thead>\n",
       "  <tbody>\n",
       "    <tr>\n",
       "      <th>battery_power</th>\n",
       "      <td>electricity</td>\n",
       "      <td>battery</td>\n",
       "      <td>battery inverter</td>\n",
       "      <td>0.979796</td>\n",
       "      <td>True</td>\n",
       "      <td>234842.383964</td>\n",
       "      <td>38.609036</td>\n",
       "      <td></td>\n",
       "      <td>1.00</td>\n",
       "      <td></td>\n",
       "      <td>...</td>\n",
       "      <td>0.0</td>\n",
       "      <td>0.0</td>\n",
       "      <td>0</td>\n",
       "      <td>0</td>\n",
       "      <td>1</td>\n",
       "      <td>0</td>\n",
       "      <td>NaN</td>\n",
       "      <td>NaN</td>\n",
       "      <td>1.0</td>\n",
       "      <td>1.0</td>\n",
       "    </tr>\n",
       "    <tr>\n",
       "      <th>battery_discharge</th>\n",
       "      <td>battery</td>\n",
       "      <td>electricity</td>\n",
       "      <td>battery discharger</td>\n",
       "      <td>0.979796</td>\n",
       "      <td>True</td>\n",
       "      <td>0.000000</td>\n",
       "      <td>39.405178</td>\n",
       "      <td></td>\n",
       "      <td>1.00</td>\n",
       "      <td></td>\n",
       "      <td>...</td>\n",
       "      <td>0.0</td>\n",
       "      <td>0.0</td>\n",
       "      <td>0</td>\n",
       "      <td>0</td>\n",
       "      <td>1</td>\n",
       "      <td>0</td>\n",
       "      <td>NaN</td>\n",
       "      <td>NaN</td>\n",
       "      <td>1.0</td>\n",
       "      <td>1.0</td>\n",
       "    </tr>\n",
       "    <tr>\n",
       "      <th>hydrogen_electrolyser</th>\n",
       "      <td>electricity</td>\n",
       "      <td>hydrogen</td>\n",
       "      <td>hydrogen electrolyser</td>\n",
       "      <td>0.680000</td>\n",
       "      <td>True</td>\n",
       "      <td>422535.529479</td>\n",
       "      <td>91.246048</td>\n",
       "      <td></td>\n",
       "      <td>1.00</td>\n",
       "      <td></td>\n",
       "      <td>...</td>\n",
       "      <td>0.0</td>\n",
       "      <td>0.0</td>\n",
       "      <td>0</td>\n",
       "      <td>0</td>\n",
       "      <td>1</td>\n",
       "      <td>0</td>\n",
       "      <td>NaN</td>\n",
       "      <td>NaN</td>\n",
       "      <td>1.0</td>\n",
       "      <td>1.0</td>\n",
       "    </tr>\n",
       "    <tr>\n",
       "      <th>hydrogen_compressor</th>\n",
       "      <td>hydrogen</td>\n",
       "      <td>compressed hydrogen</td>\n",
       "      <td>hydrogen storing compressor</td>\n",
       "      <td>1.000000</td>\n",
       "      <td>True</td>\n",
       "      <td>119572.186233</td>\n",
       "      <td>62.048115</td>\n",
       "      <td>electricity</td>\n",
       "      <td>-0.12</td>\n",
       "      <td></td>\n",
       "      <td>...</td>\n",
       "      <td>0.0</td>\n",
       "      <td>0.0</td>\n",
       "      <td>0</td>\n",
       "      <td>0</td>\n",
       "      <td>1</td>\n",
       "      <td>0</td>\n",
       "      <td>NaN</td>\n",
       "      <td>NaN</td>\n",
       "      <td>1.0</td>\n",
       "      <td>1.0</td>\n",
       "    </tr>\n",
       "    <tr>\n",
       "      <th>hydrogen_decompressor</th>\n",
       "      <td>compressed hydrogen</td>\n",
       "      <td>hydrogen</td>\n",
       "      <td>hydrogen storing decompressor</td>\n",
       "      <td>1.000000</td>\n",
       "      <td>True</td>\n",
       "      <td>0.000000</td>\n",
       "      <td>143.691255</td>\n",
       "      <td></td>\n",
       "      <td>1.00</td>\n",
       "      <td></td>\n",
       "      <td>...</td>\n",
       "      <td>0.0</td>\n",
       "      <td>0.0</td>\n",
       "      <td>0</td>\n",
       "      <td>0</td>\n",
       "      <td>1</td>\n",
       "      <td>0</td>\n",
       "      <td>NaN</td>\n",
       "      <td>NaN</td>\n",
       "      <td>1.0</td>\n",
       "      <td>1.0</td>\n",
       "    </tr>\n",
       "    <tr>\n",
       "      <th>hydrogen_turbine</th>\n",
       "      <td>hydrogen</td>\n",
       "      <td>electricity</td>\n",
       "      <td>hydrogen turbine</td>\n",
       "      <td>0.580000</td>\n",
       "      <td>True</td>\n",
       "      <td>555177.344840</td>\n",
       "      <td>134.735292</td>\n",
       "      <td></td>\n",
       "      <td>1.00</td>\n",
       "      <td></td>\n",
       "      <td>...</td>\n",
       "      <td>0.0</td>\n",
       "      <td>0.0</td>\n",
       "      <td>0</td>\n",
       "      <td>0</td>\n",
       "      <td>1</td>\n",
       "      <td>0</td>\n",
       "      <td>NaN</td>\n",
       "      <td>NaN</td>\n",
       "      <td>1.0</td>\n",
       "      <td>1.0</td>\n",
       "    </tr>\n",
       "  </tbody>\n",
       "</table>\n",
       "<p>6 rows × 32 columns</p>\n",
       "</div>"
      ],
      "text/plain": [
       "                                      bus0                 bus1  \\\n",
       "Link                                                              \n",
       "battery_power                  electricity              battery   \n",
       "battery_discharge                  battery          electricity   \n",
       "hydrogen_electrolyser          electricity             hydrogen   \n",
       "hydrogen_compressor               hydrogen  compressed hydrogen   \n",
       "hydrogen_decompressor  compressed hydrogen             hydrogen   \n",
       "hydrogen_turbine                  hydrogen          electricity   \n",
       "\n",
       "                                             carrier  efficiency  \\\n",
       "Link                                                               \n",
       "battery_power                       battery inverter    0.979796   \n",
       "battery_discharge                 battery discharger    0.979796   \n",
       "hydrogen_electrolyser          hydrogen electrolyser    0.680000   \n",
       "hydrogen_compressor      hydrogen storing compressor    1.000000   \n",
       "hydrogen_decompressor  hydrogen storing decompressor    1.000000   \n",
       "hydrogen_turbine                    hydrogen turbine    0.580000   \n",
       "\n",
       "                       p_nom_extendable   capital_cost   p_nom_opt  \\\n",
       "Link                                                                 \n",
       "battery_power                      True  234842.383964   38.609036   \n",
       "battery_discharge                  True       0.000000   39.405178   \n",
       "hydrogen_electrolyser              True  422535.529479   91.246048   \n",
       "hydrogen_compressor                True  119572.186233   62.048115   \n",
       "hydrogen_decompressor              True       0.000000  143.691255   \n",
       "hydrogen_turbine                   True  555177.344840  134.735292   \n",
       "\n",
       "                              bus2  efficiency2 type  ...  start_up_cost  \\\n",
       "Link                                                  ...                  \n",
       "battery_power                              1.00       ...            0.0   \n",
       "battery_discharge                          1.00       ...            0.0   \n",
       "hydrogen_electrolyser                      1.00       ...            0.0   \n",
       "hydrogen_compressor    electricity        -0.12       ...            0.0   \n",
       "hydrogen_decompressor                      1.00       ...            0.0   \n",
       "hydrogen_turbine                           1.00       ...            0.0   \n",
       "\n",
       "                       shut_down_cost  min_up_time  min_down_time  \\\n",
       "Link                                                                \n",
       "battery_power                     0.0            0              0   \n",
       "battery_discharge                 0.0            0              0   \n",
       "hydrogen_electrolyser             0.0            0              0   \n",
       "hydrogen_compressor               0.0            0              0   \n",
       "hydrogen_decompressor             0.0            0              0   \n",
       "hydrogen_turbine                  0.0            0              0   \n",
       "\n",
       "                       up_time_before  down_time_before  ramp_limit_up  \\\n",
       "Link                                                                     \n",
       "battery_power                       1                 0            NaN   \n",
       "battery_discharge                   1                 0            NaN   \n",
       "hydrogen_electrolyser               1                 0            NaN   \n",
       "hydrogen_compressor                 1                 0            NaN   \n",
       "hydrogen_decompressor               1                 0            NaN   \n",
       "hydrogen_turbine                    1                 0            NaN   \n",
       "\n",
       "                       ramp_limit_down  ramp_limit_start_up  \\\n",
       "Link                                                          \n",
       "battery_power                      NaN                  1.0   \n",
       "battery_discharge                  NaN                  1.0   \n",
       "hydrogen_electrolyser              NaN                  1.0   \n",
       "hydrogen_compressor                NaN                  1.0   \n",
       "hydrogen_decompressor              NaN                  1.0   \n",
       "hydrogen_turbine                   NaN                  1.0   \n",
       "\n",
       "                       ramp_limit_shut_down  \n",
       "Link                                         \n",
       "battery_power                           1.0  \n",
       "battery_discharge                       1.0  \n",
       "hydrogen_electrolyser                   1.0  \n",
       "hydrogen_compressor                     1.0  \n",
       "hydrogen_decompressor                   1.0  \n",
       "hydrogen_turbine                        1.0  \n",
       "\n",
       "[6 rows x 32 columns]"
      ]
     },
     "execution_count": 14,
     "metadata": {},
     "output_type": "execute_result"
    }
   ],
   "source": [
    "n.links"
   ]
  },
  {
   "cell_type": "markdown",
   "id": "c2ccb699",
   "metadata": {},
   "source": [
    "# Check distribution of LCOE into MVs"
   ]
  },
  {
   "cell_type": "code",
   "execution_count": 101,
   "id": "13ac5dbf",
   "metadata": {},
   "outputs": [
    {
     "data": {
      "text/html": [
       "<div>\n",
       "<style scoped>\n",
       "    .dataframe tbody tr th:only-of-type {\n",
       "        vertical-align: middle;\n",
       "    }\n",
       "\n",
       "    .dataframe tbody tr th {\n",
       "        vertical-align: top;\n",
       "    }\n",
       "\n",
       "    .dataframe thead th {\n",
       "        text-align: right;\n",
       "    }\n",
       "</style>\n",
       "<table border=\"1\" class=\"dataframe\">\n",
       "  <thead>\n",
       "    <tr style=\"text-align: right;\">\n",
       "      <th>Link</th>\n",
       "      <th>battery_power</th>\n",
       "      <th>hydrogen_electrolyser</th>\n",
       "      <th>battery_discharge</th>\n",
       "      <th>hydrogen_turbine</th>\n",
       "      <th>hydrogen_compressor</th>\n",
       "      <th>vre_direct</th>\n",
       "      <th>vre</th>\n",
       "      <th>load</th>\n",
       "    </tr>\n",
       "    <tr>\n",
       "      <th>snapshot</th>\n",
       "      <th></th>\n",
       "      <th></th>\n",
       "      <th></th>\n",
       "      <th></th>\n",
       "      <th></th>\n",
       "      <th></th>\n",
       "      <th></th>\n",
       "      <th></th>\n",
       "    </tr>\n",
       "  </thead>\n",
       "  <tbody>\n",
       "    <tr>\n",
       "      <th>2011-01-01 00:00:00</th>\n",
       "      <td>3.621624</td>\n",
       "      <td>0.213172</td>\n",
       "      <td>3.898406</td>\n",
       "      <td>18.239599</td>\n",
       "      <td>0.095714</td>\n",
       "      <td>77.861996</td>\n",
       "      <td>81.792507</td>\n",
       "      <td>100.0</td>\n",
       "    </tr>\n",
       "    <tr>\n",
       "      <th>2011-01-01 03:00:00</th>\n",
       "      <td>3.326916</td>\n",
       "      <td>0.214600</td>\n",
       "      <td>4.220489</td>\n",
       "      <td>28.553928</td>\n",
       "      <td>0.100032</td>\n",
       "      <td>67.225583</td>\n",
       "      <td>70.867132</td>\n",
       "      <td>100.0</td>\n",
       "    </tr>\n",
       "    <tr>\n",
       "      <th>2011-01-01 06:00:00</th>\n",
       "      <td>3.347008</td>\n",
       "      <td>0.216063</td>\n",
       "      <td>4.222163</td>\n",
       "      <td>30.433456</td>\n",
       "      <td>0.101546</td>\n",
       "      <td>65.344381</td>\n",
       "      <td>69.008998</td>\n",
       "      <td>100.0</td>\n",
       "    </tr>\n",
       "    <tr>\n",
       "      <th>2011-01-01 09:00:00</th>\n",
       "      <td>3.303005</td>\n",
       "      <td>0.218443</td>\n",
       "      <td>4.398936</td>\n",
       "      <td>42.313012</td>\n",
       "      <td>0.104525</td>\n",
       "      <td>53.288052</td>\n",
       "      <td>56.914028</td>\n",
       "      <td>100.0</td>\n",
       "    </tr>\n",
       "    <tr>\n",
       "      <th>2011-01-01 12:00:00</th>\n",
       "      <td>3.215352</td>\n",
       "      <td>0.217564</td>\n",
       "      <td>4.320761</td>\n",
       "      <td>30.650321</td>\n",
       "      <td>0.099377</td>\n",
       "      <td>65.028918</td>\n",
       "      <td>68.561215</td>\n",
       "      <td>100.0</td>\n",
       "    </tr>\n",
       "    <tr>\n",
       "      <th>...</th>\n",
       "      <td>...</td>\n",
       "      <td>...</td>\n",
       "      <td>...</td>\n",
       "      <td>...</td>\n",
       "      <td>...</td>\n",
       "      <td>...</td>\n",
       "      <td>...</td>\n",
       "      <td>...</td>\n",
       "    </tr>\n",
       "    <tr>\n",
       "      <th>2020-12-31 09:00:00</th>\n",
       "      <td>2.907536</td>\n",
       "      <td>0.219242</td>\n",
       "      <td>5.092447</td>\n",
       "      <td>40.908747</td>\n",
       "      <td>0.106672</td>\n",
       "      <td>53.998807</td>\n",
       "      <td>57.232261</td>\n",
       "      <td>100.0</td>\n",
       "    </tr>\n",
       "    <tr>\n",
       "      <th>2020-12-31 12:00:00</th>\n",
       "      <td>20.881291</td>\n",
       "      <td>0.220088</td>\n",
       "      <td>2.220472</td>\n",
       "      <td>5.982246</td>\n",
       "      <td>0.097129</td>\n",
       "      <td>91.797282</td>\n",
       "      <td>112.995794</td>\n",
       "      <td>100.0</td>\n",
       "    </tr>\n",
       "    <tr>\n",
       "      <th>2020-12-31 15:00:00</th>\n",
       "      <td>4.987962</td>\n",
       "      <td>0.214448</td>\n",
       "      <td>2.893466</td>\n",
       "      <td>10.725401</td>\n",
       "      <td>0.098508</td>\n",
       "      <td>86.381133</td>\n",
       "      <td>91.682056</td>\n",
       "      <td>100.0</td>\n",
       "    </tr>\n",
       "    <tr>\n",
       "      <th>2020-12-31 18:00:00</th>\n",
       "      <td>4.058457</td>\n",
       "      <td>0.214379</td>\n",
       "      <td>3.507609</td>\n",
       "      <td>14.661972</td>\n",
       "      <td>0.097853</td>\n",
       "      <td>81.830419</td>\n",
       "      <td>86.201110</td>\n",
       "      <td>100.0</td>\n",
       "    </tr>\n",
       "    <tr>\n",
       "      <th>2020-12-31 21:00:00</th>\n",
       "      <td>11.226432</td>\n",
       "      <td>0.219629</td>\n",
       "      <td>2.210796</td>\n",
       "      <td>7.169861</td>\n",
       "      <td>0.103356</td>\n",
       "      <td>90.619343</td>\n",
       "      <td>102.168760</td>\n",
       "      <td>100.0</td>\n",
       "    </tr>\n",
       "  </tbody>\n",
       "</table>\n",
       "<p>29224 rows × 8 columns</p>\n",
       "</div>"
      ],
      "text/plain": [
       "Link                 battery_power  hydrogen_electrolyser  battery_discharge  \\\n",
       "snapshot                                                                       \n",
       "2011-01-01 00:00:00       3.621624               0.213172           3.898406   \n",
       "2011-01-01 03:00:00       3.326916               0.214600           4.220489   \n",
       "2011-01-01 06:00:00       3.347008               0.216063           4.222163   \n",
       "2011-01-01 09:00:00       3.303005               0.218443           4.398936   \n",
       "2011-01-01 12:00:00       3.215352               0.217564           4.320761   \n",
       "...                            ...                    ...                ...   \n",
       "2020-12-31 09:00:00       2.907536               0.219242           5.092447   \n",
       "2020-12-31 12:00:00      20.881291               0.220088           2.220472   \n",
       "2020-12-31 15:00:00       4.987962               0.214448           2.893466   \n",
       "2020-12-31 18:00:00       4.058457               0.214379           3.507609   \n",
       "2020-12-31 21:00:00      11.226432               0.219629           2.210796   \n",
       "\n",
       "Link                 hydrogen_turbine  hydrogen_compressor  vre_direct  \\\n",
       "snapshot                                                                 \n",
       "2011-01-01 00:00:00         18.239599             0.095714   77.861996   \n",
       "2011-01-01 03:00:00         28.553928             0.100032   67.225583   \n",
       "2011-01-01 06:00:00         30.433456             0.101546   65.344381   \n",
       "2011-01-01 09:00:00         42.313012             0.104525   53.288052   \n",
       "2011-01-01 12:00:00         30.650321             0.099377   65.028918   \n",
       "...                               ...                  ...         ...   \n",
       "2020-12-31 09:00:00         40.908747             0.106672   53.998807   \n",
       "2020-12-31 12:00:00          5.982246             0.097129   91.797282   \n",
       "2020-12-31 15:00:00         10.725401             0.098508   86.381133   \n",
       "2020-12-31 18:00:00         14.661972             0.097853   81.830419   \n",
       "2020-12-31 21:00:00          7.169861             0.103356   90.619343   \n",
       "\n",
       "Link                        vre   load  \n",
       "snapshot                                \n",
       "2011-01-01 00:00:00   81.792507  100.0  \n",
       "2011-01-01 03:00:00   70.867132  100.0  \n",
       "2011-01-01 06:00:00   69.008998  100.0  \n",
       "2011-01-01 09:00:00   56.914028  100.0  \n",
       "2011-01-01 12:00:00   68.561215  100.0  \n",
       "...                         ...    ...  \n",
       "2020-12-31 09:00:00   57.232261  100.0  \n",
       "2020-12-31 12:00:00  112.995794  100.0  \n",
       "2020-12-31 15:00:00   91.682056  100.0  \n",
       "2020-12-31 18:00:00   86.201110  100.0  \n",
       "2020-12-31 21:00:00  102.168760  100.0  \n",
       "\n",
       "[29224 rows x 8 columns]"
      ]
     },
     "execution_count": 101,
     "metadata": {},
     "output_type": "execute_result"
    }
   ],
   "source": [
    "ts = pd.concat([(-1)**i*n.links_t[\"p\"+str(i)][n.links.index[n.links[\"bus\"+str(i)].map(n.buses.carrier) == \"electricity\"]] for i in range(3)],\n",
    "         axis=1)\n",
    "ts[\"vre_direct\"] = vre_direct = n.loads_t.p[\"load\"] + n.links_t.p1[[\"battery_discharge\",\"hydrogen_turbine\"]].sum(axis=1)\n",
    "ts[\"vre\"] = n.generators_t.p[[\"wind\",\"solar\"]].sum(axis=1)\n",
    "ts[\"load\"] = n.loads_t.p[\"load\"]\n",
    "ts"
   ]
  },
  {
   "cell_type": "code",
   "execution_count": 102,
   "id": "20f3ed94",
   "metadata": {},
   "outputs": [
    {
     "name": "stdout",
     "output_type": "stream",
     "text": [
      "count    29224.000000\n",
      "mean        72.122992\n",
      "std         27.192297\n",
      "min         -4.128357\n",
      "25%         55.994345\n",
      "50%         84.040413\n",
      "75%         93.046821\n",
      "max         99.999818\n",
      "Name: vre_direct, dtype: float64\n"
     ]
    },
    {
     "data": {
      "text/plain": [
       "<AxesSubplot: xlabel='snapshot'>"
      ]
     },
     "execution_count": 102,
     "metadata": {},
     "output_type": "execute_result"
    },
    {
     "data": {
      "image/png": "[encoded data removed]",
      "text/plain": [
       "<Figure size 432x288 with 1 Axes>"
      ]
     },
     "metadata": {
      "needs_background": "light"
     },
     "output_type": "display_data"
    }
   ],
   "source": [
    "print(ts[\"vre_direct\"].describe())\n",
    "ts[\"vre_direct\"].plot()"
   ]
  },
  {
   "cell_type": "code",
   "execution_count": 103,
   "id": "cdcdf96c",
   "metadata": {},
   "outputs": [
    {
     "data": {
      "text/plain": [
       "Link\n",
       "battery_power             17.740569\n",
       "hydrogen_electrolyser     14.667049\n",
       "battery_discharge         54.026280\n",
       "hydrogen_turbine         200.566388\n",
       "hydrogen_compressor       13.704262\n",
       "vre_direct                54.484428\n",
       "vre                       37.954248\n",
       "load                      74.799754\n",
       "dtype: float64"
      ]
     },
     "execution_count": 103,
     "metadata": {},
     "output_type": "execute_result"
    }
   ],
   "source": [
    "mvs = ts.multiply(n.buses_t.marginal_price[\"electricity\"],axis=0).sum()/ts.sum()\n",
    "mvs"
   ]
  },
  {
   "cell_type": "code",
   "execution_count": 104,
   "id": "4ce0c5f4",
   "metadata": {},
   "outputs": [
    {
     "data": {
      "text/plain": [
       "Link\n",
       "battery_power            0.145068\n",
       "hydrogen_electrolyser    0.353714\n",
       "battery_discharge        0.139265\n",
       "hydrogen_turbine         0.139505\n",
       "hydrogen_compressor      0.031039\n",
       "vre_direct               0.721230\n",
       "vre                      1.251051\n",
       "load                     1.000000\n",
       "dtype: float64"
      ]
     },
     "execution_count": 104,
     "metadata": {},
     "output_type": "execute_result"
    }
   ],
   "source": [
    "frac = ts.sum()/ts[\"load\"].sum()\n",
    "frac"
   ]
  },
  {
   "cell_type": "code",
   "execution_count": 105,
   "id": "caedaf8a",
   "metadata": {},
   "outputs": [
    {
     "data": {
      "text/plain": [
       "1.0000000000000002"
      ]
     },
     "execution_count": 105,
     "metadata": {},
     "output_type": "execute_result"
    }
   ],
   "source": [
    "gens = ['vre_direct', 'battery_discharge', 'hydrogen_turbine']\n",
    "frac[gens].sum()"
   ]
  },
  {
   "cell_type": "code",
   "execution_count": 106,
   "id": "9d3c8caf",
   "metadata": {},
   "outputs": [
    {
     "data": {
      "text/plain": [
       "74.79975389378293"
      ]
     },
     "execution_count": 106,
     "metadata": {},
     "output_type": "execute_result"
    }
   ],
   "source": [
    "(frac[gens]*mvs[gens]).sum()"
   ]
  },
  {
   "cell_type": "code",
   "execution_count": 108,
   "id": "5bd8ceec",
   "metadata": {},
   "outputs": [
    {
     "data": {
      "text/plain": [
       "1.2510509216879342"
      ]
     },
     "execution_count": 108,
     "metadata": {},
     "output_type": "execute_result"
    }
   ],
   "source": [
    "chargers = [\"battery_power\",\"hydrogen_electrolyser\",\"hydrogen_compressor\"]\n",
    "frac[chargers].sum()+frac[\"vre_direct\"]"
   ]
  },
  {
   "cell_type": "code",
   "execution_count": 111,
   "id": "0b538114",
   "metadata": {},
   "outputs": [
    {
     "data": {
      "text/plain": [
       "Link\n",
       "battery_power            0.115957\n",
       "hydrogen_electrolyser    0.282733\n",
       "battery_discharge        0.111319\n",
       "hydrogen_turbine         0.111510\n",
       "hydrogen_compressor      0.024810\n",
       "vre_direct               0.576499\n",
       "vre                      1.000000\n",
       "load                     0.799328\n",
       "dtype: float64"
      ]
     },
     "execution_count": 111,
     "metadata": {},
     "output_type": "execute_result"
    }
   ],
   "source": [
    "gen_frac = ts.sum()/ts[\"vre\"].sum()\n",
    "gen_frac"
   ]
  },
  {
   "cell_type": "code",
   "execution_count": 112,
   "id": "577ab58d",
   "metadata": {},
   "outputs": [
    {
     "data": {
      "text/plain": [
       "37.95424714679843"
      ]
     },
     "execution_count": 112,
     "metadata": {},
     "output_type": "execute_result"
    }
   ],
   "source": [
    "(gen_frac[chargers]*mvs[chargers]).sum() + gen_frac[\"vre_direct\"]*mvs[\"vre_direct\"]"
   ]
  },
  {
   "cell_type": "markdown",
   "id": "06ac6aa5",
   "metadata": {},
   "source": [
    "# Check for MeOH turbine"
   ]
  },
  {
   "cell_type": "code",
   "execution_count": 127,
   "id": "ed754657",
   "metadata": {},
   "outputs": [
    {
     "name": "stderr",
     "output_type": "stream",
     "text": [
      "INFO:pypsa.io:Imported network DE-10a-3H-H2s-wm-nH2t-mflex0-ramp10-ccgt.nc has buses, generators, links, loads, stores\n"
     ]
    }
   ],
   "source": [
    "fn = \"networks/230405-10a-UK-test/UK-10a-H2s-wm-nH2t.nc\"\n",
    "#fn = \"networks/230403-20a/DE-20a-H2s-wm-nH2t.nc\"\n",
    "fn = \"networks/230410-20a-UK-DE-vent/UK-20a-H2s-wm-nH2t.nc\"\n",
    "#fn = \"networks/230410-20a-UK-DE-mflex/DE-20a-H2s-wm-nH2t-mflex.nc\"\n",
    "#fn = \"networks/230410-20a-UK-DE-bioco2/UK-20a-H2s-wm-nH2t-mflex50-bioco2.nc\"\n",
    "fn = \"networks/230417-10a-onlyccgt/UK-10a-H2s-wm-nH2t.nc\"\n",
    "#fn = \"networks/230417-10a-onlyccgt/UK-10a-H2s-wm-nH2t-bioco2.nc\"\n",
    "fn = \"networks/230503-10a-ccgtccs/DE-10a-3H-H2s-wm-nH2t-mflex0-ramp10-ccgt.nc\"\n",
    "#fn = \"networks/230503-10a-ccgtccs/DE-10a-1H-H2s-wm-nH2t-mflex0-ramp10.nc\"\n",
    "m = pypsa.Network(fn)"
   ]
  },
  {
   "cell_type": "code",
   "execution_count": 128,
   "id": "3c43638d",
   "metadata": {},
   "outputs": [
    {
     "data": {
      "text/html": [
       "<div>\n",
       "<style scoped>\n",
       "    .dataframe tbody tr th:only-of-type {\n",
       "        vertical-align: middle;\n",
       "    }\n",
       "\n",
       "    .dataframe tbody tr th {\n",
       "        vertical-align: top;\n",
       "    }\n",
       "\n",
       "    .dataframe thead th {\n",
       "        text-align: right;\n",
       "    }\n",
       "</style>\n",
       "<table border=\"1\" class=\"dataframe\">\n",
       "  <thead>\n",
       "    <tr style=\"text-align: right;\">\n",
       "      <th></th>\n",
       "      <th>bus0</th>\n",
       "      <th>bus1</th>\n",
       "      <th>carrier</th>\n",
       "      <th>efficiency</th>\n",
       "      <th>p_nom_extendable</th>\n",
       "      <th>capital_cost</th>\n",
       "      <th>ramp_limit_up</th>\n",
       "      <th>ramp_limit_down</th>\n",
       "      <th>p_nom_opt</th>\n",
       "      <th>bus2</th>\n",
       "      <th>...</th>\n",
       "      <th>terrain_factor</th>\n",
       "      <th>committable</th>\n",
       "      <th>start_up_cost</th>\n",
       "      <th>shut_down_cost</th>\n",
       "      <th>min_up_time</th>\n",
       "      <th>min_down_time</th>\n",
       "      <th>up_time_before</th>\n",
       "      <th>down_time_before</th>\n",
       "      <th>ramp_limit_start_up</th>\n",
       "      <th>ramp_limit_shut_down</th>\n",
       "    </tr>\n",
       "    <tr>\n",
       "      <th>Link</th>\n",
       "      <th></th>\n",
       "      <th></th>\n",
       "      <th></th>\n",
       "      <th></th>\n",
       "      <th></th>\n",
       "      <th></th>\n",
       "      <th></th>\n",
       "      <th></th>\n",
       "      <th></th>\n",
       "      <th></th>\n",
       "      <th></th>\n",
       "      <th></th>\n",
       "      <th></th>\n",
       "      <th></th>\n",
       "      <th></th>\n",
       "      <th></th>\n",
       "      <th></th>\n",
       "      <th></th>\n",
       "      <th></th>\n",
       "      <th></th>\n",
       "      <th></th>\n",
       "    </tr>\n",
       "  </thead>\n",
       "  <tbody>\n",
       "    <tr>\n",
       "      <th>battery_power</th>\n",
       "      <td>electricity</td>\n",
       "      <td>battery</td>\n",
       "      <td>battery inverter</td>\n",
       "      <td>0.979796</td>\n",
       "      <td>True</td>\n",
       "      <td>1.489347e+05</td>\n",
       "      <td>NaN</td>\n",
       "      <td>NaN</td>\n",
       "      <td>135.543451</td>\n",
       "      <td></td>\n",
       "      <td>...</td>\n",
       "      <td>1.0</td>\n",
       "      <td>False</td>\n",
       "      <td>0.0</td>\n",
       "      <td>0.0</td>\n",
       "      <td>0</td>\n",
       "      <td>0</td>\n",
       "      <td>1</td>\n",
       "      <td>0</td>\n",
       "      <td>1.0</td>\n",
       "      <td>1.0</td>\n",
       "    </tr>\n",
       "    <tr>\n",
       "      <th>battery_discharge</th>\n",
       "      <td>battery</td>\n",
       "      <td>electricity</td>\n",
       "      <td>battery discharger</td>\n",
       "      <td>0.979796</td>\n",
       "      <td>True</td>\n",
       "      <td>0.000000e+00</td>\n",
       "      <td>NaN</td>\n",
       "      <td>NaN</td>\n",
       "      <td>138.338441</td>\n",
       "      <td></td>\n",
       "      <td>...</td>\n",
       "      <td>1.0</td>\n",
       "      <td>False</td>\n",
       "      <td>0.0</td>\n",
       "      <td>0.0</td>\n",
       "      <td>0</td>\n",
       "      <td>0</td>\n",
       "      <td>1</td>\n",
       "      <td>0</td>\n",
       "      <td>1.0</td>\n",
       "      <td>1.0</td>\n",
       "    </tr>\n",
       "    <tr>\n",
       "      <th>air separation unit</th>\n",
       "      <td>electricity</td>\n",
       "      <td>oxygen</td>\n",
       "      <td>air separation unit</td>\n",
       "      <td>0.243000</td>\n",
       "      <td>True</td>\n",
       "      <td>7.290000e+05</td>\n",
       "      <td>NaN</td>\n",
       "      <td>NaN</td>\n",
       "      <td>0.000036</td>\n",
       "      <td></td>\n",
       "      <td>...</td>\n",
       "      <td>1.0</td>\n",
       "      <td>False</td>\n",
       "      <td>0.0</td>\n",
       "      <td>0.0</td>\n",
       "      <td>0</td>\n",
       "      <td>0</td>\n",
       "      <td>1</td>\n",
       "      <td>0</td>\n",
       "      <td>1.0</td>\n",
       "      <td>1.0</td>\n",
       "    </tr>\n",
       "    <tr>\n",
       "      <th>hydrogen_electrolyser</th>\n",
       "      <td>electricity</td>\n",
       "      <td>hydrogen</td>\n",
       "      <td>hydrogen electrolyser</td>\n",
       "      <td>0.720000</td>\n",
       "      <td>True</td>\n",
       "      <td>2.758247e+05</td>\n",
       "      <td>NaN</td>\n",
       "      <td>NaN</td>\n",
       "      <td>41.263181</td>\n",
       "      <td>oxygen</td>\n",
       "      <td>...</td>\n",
       "      <td>1.0</td>\n",
       "      <td>False</td>\n",
       "      <td>0.0</td>\n",
       "      <td>0.0</td>\n",
       "      <td>0</td>\n",
       "      <td>0</td>\n",
       "      <td>1</td>\n",
       "      <td>0</td>\n",
       "      <td>1.0</td>\n",
       "      <td>1.0</td>\n",
       "    </tr>\n",
       "    <tr>\n",
       "      <th>hydrogen_compressor</th>\n",
       "      <td>hydrogen</td>\n",
       "      <td>compressed hydrogen</td>\n",
       "      <td>hydrogen storing compressor</td>\n",
       "      <td>1.000000</td>\n",
       "      <td>True</td>\n",
       "      <td>1.195722e+05</td>\n",
       "      <td>NaN</td>\n",
       "      <td>NaN</td>\n",
       "      <td>12.593983</td>\n",
       "      <td>electricity</td>\n",
       "      <td>...</td>\n",
       "      <td>1.0</td>\n",
       "      <td>False</td>\n",
       "      <td>0.0</td>\n",
       "      <td>0.0</td>\n",
       "      <td>0</td>\n",
       "      <td>0</td>\n",
       "      <td>1</td>\n",
       "      <td>0</td>\n",
       "      <td>1.0</td>\n",
       "      <td>1.0</td>\n",
       "    </tr>\n",
       "    <tr>\n",
       "      <th>hydrogen_decompressor</th>\n",
       "      <td>compressed hydrogen</td>\n",
       "      <td>hydrogen</td>\n",
       "      <td>hydrogen storing decompressor</td>\n",
       "      <td>1.000000</td>\n",
       "      <td>True</td>\n",
       "      <td>0.000000e+00</td>\n",
       "      <td>NaN</td>\n",
       "      <td>NaN</td>\n",
       "      <td>15.250887</td>\n",
       "      <td></td>\n",
       "      <td>...</td>\n",
       "      <td>1.0</td>\n",
       "      <td>False</td>\n",
       "      <td>0.0</td>\n",
       "      <td>0.0</td>\n",
       "      <td>0</td>\n",
       "      <td>0</td>\n",
       "      <td>1</td>\n",
       "      <td>0</td>\n",
       "      <td>1.0</td>\n",
       "      <td>1.0</td>\n",
       "    </tr>\n",
       "    <tr>\n",
       "      <th>heat pump</th>\n",
       "      <td>electricity</td>\n",
       "      <td>heat</td>\n",
       "      <td>heat pump</td>\n",
       "      <td>2.800000</td>\n",
       "      <td>True</td>\n",
       "      <td>1.835740e+06</td>\n",
       "      <td>NaN</td>\n",
       "      <td>NaN</td>\n",
       "      <td>2.333255</td>\n",
       "      <td></td>\n",
       "      <td>...</td>\n",
       "      <td>1.0</td>\n",
       "      <td>False</td>\n",
       "      <td>0.0</td>\n",
       "      <td>0.0</td>\n",
       "      <td>0</td>\n",
       "      <td>0</td>\n",
       "      <td>1</td>\n",
       "      <td>0</td>\n",
       "      <td>1.0</td>\n",
       "      <td>1.0</td>\n",
       "    </tr>\n",
       "    <tr>\n",
       "      <th>dac</th>\n",
       "      <td>electricity</td>\n",
       "      <td>co2</td>\n",
       "      <td>dac</td>\n",
       "      <td>3.571429</td>\n",
       "      <td>True</td>\n",
       "      <td>2.557970e+07</td>\n",
       "      <td>NaN</td>\n",
       "      <td>NaN</td>\n",
       "      <td>1.219513</td>\n",
       "      <td>heat</td>\n",
       "      <td>...</td>\n",
       "      <td>1.0</td>\n",
       "      <td>False</td>\n",
       "      <td>0.0</td>\n",
       "      <td>0.0</td>\n",
       "      <td>0</td>\n",
       "      <td>0</td>\n",
       "      <td>1</td>\n",
       "      <td>0</td>\n",
       "      <td>1.0</td>\n",
       "      <td>1.0</td>\n",
       "    </tr>\n",
       "    <tr>\n",
       "      <th>methanol synthesis</th>\n",
       "      <td>hydrogen</td>\n",
       "      <td>methanol</td>\n",
       "      <td>methanol synthesis</td>\n",
       "      <td>0.878747</td>\n",
       "      <td>True</td>\n",
       "      <td>6.050067e+05</td>\n",
       "      <td>0.1</td>\n",
       "      <td>0.1</td>\n",
       "      <td>28.150912</td>\n",
       "      <td>electricity</td>\n",
       "      <td>...</td>\n",
       "      <td>1.0</td>\n",
       "      <td>False</td>\n",
       "      <td>0.0</td>\n",
       "      <td>0.0</td>\n",
       "      <td>0</td>\n",
       "      <td>0</td>\n",
       "      <td>1</td>\n",
       "      <td>0</td>\n",
       "      <td>1.0</td>\n",
       "      <td>1.0</td>\n",
       "    </tr>\n",
       "    <tr>\n",
       "      <th>Allam</th>\n",
       "      <td>methanol</td>\n",
       "      <td>electricity</td>\n",
       "      <td>Allam cycle</td>\n",
       "      <td>0.650000</td>\n",
       "      <td>True</td>\n",
       "      <td>9.119801e+05</td>\n",
       "      <td>NaN</td>\n",
       "      <td>NaN</td>\n",
       "      <td>0.683065</td>\n",
       "      <td>co2</td>\n",
       "      <td>...</td>\n",
       "      <td>1.0</td>\n",
       "      <td>False</td>\n",
       "      <td>0.0</td>\n",
       "      <td>0.0</td>\n",
       "      <td>0</td>\n",
       "      <td>0</td>\n",
       "      <td>1</td>\n",
       "      <td>0</td>\n",
       "      <td>1.0</td>\n",
       "      <td>1.0</td>\n",
       "    </tr>\n",
       "    <tr>\n",
       "      <th>CCGT</th>\n",
       "      <td>methanol</td>\n",
       "      <td>electricity</td>\n",
       "      <td>CCGT</td>\n",
       "      <td>0.600000</td>\n",
       "      <td>True</td>\n",
       "      <td>5.612185e+05</td>\n",
       "      <td>NaN</td>\n",
       "      <td>NaN</td>\n",
       "      <td>99.981415</td>\n",
       "      <td></td>\n",
       "      <td>...</td>\n",
       "      <td>1.0</td>\n",
       "      <td>False</td>\n",
       "      <td>0.0</td>\n",
       "      <td>0.0</td>\n",
       "      <td>0</td>\n",
       "      <td>0</td>\n",
       "      <td>1</td>\n",
       "      <td>0</td>\n",
       "      <td>1.0</td>\n",
       "      <td>1.0</td>\n",
       "    </tr>\n",
       "    <tr>\n",
       "      <th>CCGT+CC</th>\n",
       "      <td>methanol</td>\n",
       "      <td>electricity</td>\n",
       "      <td>CCGT+CC</td>\n",
       "      <td>0.500000</td>\n",
       "      <td>True</td>\n",
       "      <td>1.169205e+06</td>\n",
       "      <td>NaN</td>\n",
       "      <td>NaN</td>\n",
       "      <td>0.000041</td>\n",
       "      <td>co2</td>\n",
       "      <td>...</td>\n",
       "      <td>1.0</td>\n",
       "      <td>False</td>\n",
       "      <td>0.0</td>\n",
       "      <td>0.0</td>\n",
       "      <td>0</td>\n",
       "      <td>0</td>\n",
       "      <td>1</td>\n",
       "      <td>0</td>\n",
       "      <td>1.0</td>\n",
       "      <td>1.0</td>\n",
       "    </tr>\n",
       "  </tbody>\n",
       "</table>\n",
       "<p>12 rows × 34 columns</p>\n",
       "</div>"
      ],
      "text/plain": [
       "                                      bus0                 bus1  \\\n",
       "Link                                                              \n",
       "battery_power                  electricity              battery   \n",
       "battery_discharge                  battery          electricity   \n",
       "air separation unit            electricity               oxygen   \n",
       "hydrogen_electrolyser          electricity             hydrogen   \n",
       "hydrogen_compressor               hydrogen  compressed hydrogen   \n",
       "hydrogen_decompressor  compressed hydrogen             hydrogen   \n",
       "heat pump                      electricity                 heat   \n",
       "dac                            electricity                  co2   \n",
       "methanol synthesis                hydrogen             methanol   \n",
       "Allam                             methanol          electricity   \n",
       "CCGT                              methanol          electricity   \n",
       "CCGT+CC                           methanol          electricity   \n",
       "\n",
       "                                             carrier  efficiency  \\\n",
       "Link                                                               \n",
       "battery_power                       battery inverter    0.979796   \n",
       "battery_discharge                 battery discharger    0.979796   \n",
       "air separation unit              air separation unit    0.243000   \n",
       "hydrogen_electrolyser          hydrogen electrolyser    0.720000   \n",
       "hydrogen_compressor      hydrogen storing compressor    1.000000   \n",
       "hydrogen_decompressor  hydrogen storing decompressor    1.000000   \n",
       "heat pump                                  heat pump    2.800000   \n",
       "dac                                              dac    3.571429   \n",
       "methanol synthesis                methanol synthesis    0.878747   \n",
       "Allam                                    Allam cycle    0.650000   \n",
       "CCGT                                            CCGT    0.600000   \n",
       "CCGT+CC                                      CCGT+CC    0.500000   \n",
       "\n",
       "                       p_nom_extendable  capital_cost  ramp_limit_up  \\\n",
       "Link                                                                   \n",
       "battery_power                      True  1.489347e+05            NaN   \n",
       "battery_discharge                  True  0.000000e+00            NaN   \n",
       "air separation unit                True  7.290000e+05            NaN   \n",
       "hydrogen_electrolyser              True  2.758247e+05            NaN   \n",
       "hydrogen_compressor                True  1.195722e+05            NaN   \n",
       "hydrogen_decompressor              True  0.000000e+00            NaN   \n",
       "heat pump                          True  1.835740e+06            NaN   \n",
       "dac                                True  2.557970e+07            NaN   \n",
       "methanol synthesis                 True  6.050067e+05            0.1   \n",
       "Allam                              True  9.119801e+05            NaN   \n",
       "CCGT                               True  5.612185e+05            NaN   \n",
       "CCGT+CC                            True  1.169205e+06            NaN   \n",
       "\n",
       "                       ramp_limit_down   p_nom_opt         bus2  ...  \\\n",
       "Link                                                             ...   \n",
       "battery_power                      NaN  135.543451               ...   \n",
       "battery_discharge                  NaN  138.338441               ...   \n",
       "air separation unit                NaN    0.000036               ...   \n",
       "hydrogen_electrolyser              NaN   41.263181       oxygen  ...   \n",
       "hydrogen_compressor                NaN   12.593983  electricity  ...   \n",
       "hydrogen_decompressor              NaN   15.250887               ...   \n",
       "heat pump                          NaN    2.333255               ...   \n",
       "dac                                NaN    1.219513         heat  ...   \n",
       "methanol synthesis                 0.1   28.150912  electricity  ...   \n",
       "Allam                              NaN    0.683065          co2  ...   \n",
       "CCGT                               NaN   99.981415               ...   \n",
       "CCGT+CC                            NaN    0.000041          co2  ...   \n",
       "\n",
       "                      terrain_factor  committable  start_up_cost  \\\n",
       "Link                                                               \n",
       "battery_power                    1.0        False            0.0   \n",
       "battery_discharge                1.0        False            0.0   \n",
       "air separation unit              1.0        False            0.0   \n",
       "hydrogen_electrolyser            1.0        False            0.0   \n",
       "hydrogen_compressor              1.0        False            0.0   \n",
       "hydrogen_decompressor            1.0        False            0.0   \n",
       "heat pump                        1.0        False            0.0   \n",
       "dac                              1.0        False            0.0   \n",
       "methanol synthesis               1.0        False            0.0   \n",
       "Allam                            1.0        False            0.0   \n",
       "CCGT                             1.0        False            0.0   \n",
       "CCGT+CC                          1.0        False            0.0   \n",
       "\n",
       "                      shut_down_cost  min_up_time  min_down_time  \\\n",
       "Link                                                               \n",
       "battery_power                    0.0            0              0   \n",
       "battery_discharge                0.0            0              0   \n",
       "air separation unit              0.0            0              0   \n",
       "hydrogen_electrolyser            0.0            0              0   \n",
       "hydrogen_compressor              0.0            0              0   \n",
       "hydrogen_decompressor            0.0            0              0   \n",
       "heat pump                        0.0            0              0   \n",
       "dac                              0.0            0              0   \n",
       "methanol synthesis               0.0            0              0   \n",
       "Allam                            0.0            0              0   \n",
       "CCGT                             0.0            0              0   \n",
       "CCGT+CC                          0.0            0              0   \n",
       "\n",
       "                       up_time_before  down_time_before  ramp_limit_start_up  \\\n",
       "Link                                                                           \n",
       "battery_power                       1                 0                  1.0   \n",
       "battery_discharge                   1                 0                  1.0   \n",
       "air separation unit                 1                 0                  1.0   \n",
       "hydrogen_electrolyser               1                 0                  1.0   \n",
       "hydrogen_compressor                 1                 0                  1.0   \n",
       "hydrogen_decompressor               1                 0                  1.0   \n",
       "heat pump                           1                 0                  1.0   \n",
       "dac                                 1                 0                  1.0   \n",
       "methanol synthesis                  1                 0                  1.0   \n",
       "Allam                               1                 0                  1.0   \n",
       "CCGT                                1                 0                  1.0   \n",
       "CCGT+CC                             1                 0                  1.0   \n",
       "\n",
       "                       ramp_limit_shut_down  \n",
       "Link                                         \n",
       "battery_power                           1.0  \n",
       "battery_discharge                       1.0  \n",
       "air separation unit                     1.0  \n",
       "hydrogen_electrolyser                   1.0  \n",
       "hydrogen_compressor                     1.0  \n",
       "hydrogen_decompressor                   1.0  \n",
       "heat pump                               1.0  \n",
       "dac                                     1.0  \n",
       "methanol synthesis                      1.0  \n",
       "Allam                                   1.0  \n",
       "CCGT                                    1.0  \n",
       "CCGT+CC                                 1.0  \n",
       "\n",
       "[12 rows x 34 columns]"
      ]
     },
     "execution_count": 128,
     "metadata": {},
     "output_type": "execute_result"
    }
   ],
   "source": [
    "m.links"
   ]
  },
  {
   "cell_type": "code",
   "execution_count": 129,
   "id": "f3d65dd1",
   "metadata": {},
   "outputs": [
    {
     "data": {
      "text/plain": [
       "93.13255117797638"
      ]
     },
     "execution_count": 129,
     "metadata": {},
     "output_type": "execute_result"
    }
   ],
   "source": [
    "meoh_mv_turbine = (m.buses_t.marginal_price[\"methanol\"]*m.links_t.p0[\"Allam\"]).sum()/m.links_t.p0[\"Allam\"].sum()\n",
    "meoh_mv_turbine"
   ]
  },
  {
   "cell_type": "code",
   "execution_count": 130,
   "id": "9997f626",
   "metadata": {},
   "outputs": [
    {
     "data": {
      "text/plain": [
       "count    29224.000000\n",
       "mean        91.060583\n",
       "std         26.935998\n",
       "min         67.496778\n",
       "25%         67.496783\n",
       "50%         67.496794\n",
       "75%        121.851118\n",
       "max        121.851121\n",
       "Name: methanol, dtype: float64"
      ]
     },
     "execution_count": 130,
     "metadata": {},
     "output_type": "execute_result"
    }
   ],
   "source": [
    "m.buses_t.marginal_price[\"methanol\"].describe()"
   ]
  },
  {
   "cell_type": "code",
   "execution_count": 131,
   "id": "be95b744",
   "metadata": {},
   "outputs": [
    {
     "data": {
      "text/plain": [
       "201.80237356214312"
      ]
     },
     "execution_count": 131,
     "metadata": {},
     "output_type": "execute_result"
    }
   ],
   "source": [
    "elec_mv_turbine = (m.buses_t.marginal_price[\"electricity\"]*m.links_t.p1[\"Allam\"]).sum()/m.links_t.p1[\"Allam\"].sum()\n",
    "elec_mv_turbine"
   ]
  },
  {
   "cell_type": "code",
   "execution_count": 132,
   "id": "68c2e577",
   "metadata": {},
   "outputs": [
    {
     "data": {
      "text/plain": [
       "72.32996084495925"
      ]
     },
     "execution_count": 132,
     "metadata": {},
     "output_type": "execute_result"
    }
   ],
   "source": [
    "#per MWh_H2 contribution of turbine cost\n",
    "total_cost = (m.links.at[\"Allam\",\"p_nom_opt\"]*m.links.at[\"Allam\",\"capital_cost\"])\n",
    "turbine_capex_part = total_cost/(-m.snapshot_weightings[\"generators\"]*m.links_t.p1[\"Allam\"]).sum()\n",
    "turbine_capex_part"
   ]
  },
  {
   "cell_type": "code",
   "execution_count": 133,
   "id": "3cd8ebd0",
   "metadata": {},
   "outputs": [
    {
     "data": {
      "text/plain": [
       "73.79936115475407"
      ]
     },
     "execution_count": 133,
     "metadata": {},
     "output_type": "execute_result"
    }
   ],
   "source": [
    "#price negative is artefact: since CO2 is constrained, would be good for demand to relieve it\n",
    "co2_mv_turbine = (m.buses_t.marginal_price[\"co2\"]*m.links_t.p2[\"Allam\"]).sum()/m.links_t.p2[\"Allam\"].sum()\n",
    "co2_mv_turbine"
   ]
  },
  {
   "cell_type": "code",
   "execution_count": 134,
   "id": "0a18cfc3",
   "metadata": {},
   "outputs": [
    {
     "name": "stdout",
     "output_type": "stream",
     "text": [
      "72.32996084495925 143.2808479661175 -27.595097467438972\n"
     ]
    },
    {
     "data": {
      "text/plain": [
       "188.0157113436378"
      ]
     },
     "execution_count": 134,
     "metadata": {},
     "output_type": "execute_result"
    }
   ],
   "source": [
    "#have to pay to have CO2 removed\n",
    "print(turbine_capex_part,meoh_mv_turbine/m.links.at[\"Allam\",\"efficiency\"],- co2_mv_turbine*m.links.at[\"Allam\",\"efficiency2\"]/m.links.at[\"Allam\",\"efficiency\"])\n",
    "turbine_capex_part + meoh_mv_turbine/m.links.at[\"Allam\",\"efficiency\"] - co2_mv_turbine*m.links.at[\"Allam\",\"efficiency2\"]/m.links.at[\"Allam\",\"efficiency\"]"
   ]
  },
  {
   "cell_type": "code",
   "execution_count": 135,
   "id": "97de8c57",
   "metadata": {},
   "outputs": [
    {
     "data": {
      "text/html": [
       "<div>\n",
       "<style scoped>\n",
       "    .dataframe tbody tr th:only-of-type {\n",
       "        vertical-align: middle;\n",
       "    }\n",
       "\n",
       "    .dataframe tbody tr th {\n",
       "        vertical-align: top;\n",
       "    }\n",
       "\n",
       "    .dataframe thead th {\n",
       "        text-align: right;\n",
       "    }\n",
       "</style>\n",
       "<table border=\"1\" class=\"dataframe\">\n",
       "  <thead>\n",
       "    <tr style=\"text-align: right;\">\n",
       "      <th>Bus</th>\n",
       "      <th>electricity</th>\n",
       "      <th>battery</th>\n",
       "      <th>hydrogen</th>\n",
       "      <th>oxygen</th>\n",
       "      <th>compressed hydrogen</th>\n",
       "      <th>co2</th>\n",
       "      <th>heat</th>\n",
       "      <th>methanol</th>\n",
       "    </tr>\n",
       "  </thead>\n",
       "  <tbody>\n",
       "    <tr>\n",
       "      <th>count</th>\n",
       "      <td>29224.000000</td>\n",
       "      <td>29224.000000</td>\n",
       "      <td>29224.000000</td>\n",
       "      <td>29224.000000</td>\n",
       "      <td>29224.000000</td>\n",
       "      <td>29224.000000</td>\n",
       "      <td>29224.000000</td>\n",
       "      <td>29224.000000</td>\n",
       "    </tr>\n",
       "    <tr>\n",
       "      <th>mean</th>\n",
       "      <td>71.570989</td>\n",
       "      <td>72.567197</td>\n",
       "      <td>40.247947</td>\n",
       "      <td>16.154351</td>\n",
       "      <td>44.561271</td>\n",
       "      <td>125.258017</td>\n",
       "      <td>33.039182</td>\n",
       "      <td>91.060583</td>\n",
       "    </tr>\n",
       "    <tr>\n",
       "      <th>std</th>\n",
       "      <td>304.941741</td>\n",
       "      <td>301.525788</td>\n",
       "      <td>36.432228</td>\n",
       "      <td>39.512734</td>\n",
       "      <td>35.861654</td>\n",
       "      <td>119.581897</td>\n",
       "      <td>107.635738</td>\n",
       "      <td>26.935998</td>\n",
       "    </tr>\n",
       "    <tr>\n",
       "      <th>min</th>\n",
       "      <td>0.100000</td>\n",
       "      <td>0.102066</td>\n",
       "      <td>-327.112647</td>\n",
       "      <td>0.000005</td>\n",
       "      <td>0.150888</td>\n",
       "      <td>27.811025</td>\n",
       "      <td>4.015961</td>\n",
       "      <td>67.496778</td>\n",
       "    </tr>\n",
       "    <tr>\n",
       "      <th>25%</th>\n",
       "      <td>0.200006</td>\n",
       "      <td>0.204125</td>\n",
       "      <td>0.293383</td>\n",
       "      <td>0.000010</td>\n",
       "      <td>0.311112</td>\n",
       "      <td>53.452201</td>\n",
       "      <td>13.196037</td>\n",
       "      <td>67.496783</td>\n",
       "    </tr>\n",
       "    <tr>\n",
       "      <th>50%</th>\n",
       "      <td>31.875286</td>\n",
       "      <td>32.704546</td>\n",
       "      <td>41.230292</td>\n",
       "      <td>0.000029</td>\n",
       "      <td>46.102227</td>\n",
       "      <td>88.091658</td>\n",
       "      <td>22.003898</td>\n",
       "      <td>67.496794</td>\n",
       "    </tr>\n",
       "    <tr>\n",
       "      <th>75%</th>\n",
       "      <td>112.494631</td>\n",
       "      <td>110.221801</td>\n",
       "      <td>69.288767</td>\n",
       "      <td>0.000590</td>\n",
       "      <td>73.253553</td>\n",
       "      <td>141.901024</td>\n",
       "      <td>40.176669</td>\n",
       "      <td>121.851118</td>\n",
       "    </tr>\n",
       "    <tr>\n",
       "      <th>max</th>\n",
       "      <td>8362.252704</td>\n",
       "      <td>8193.301751</td>\n",
       "      <td>188.828132</td>\n",
       "      <td>201.162672</td>\n",
       "      <td>188.828138</td>\n",
       "      <td>489.790868</td>\n",
       "      <td>2986.518841</td>\n",
       "      <td>121.851121</td>\n",
       "    </tr>\n",
       "  </tbody>\n",
       "</table>\n",
       "</div>"
      ],
      "text/plain": [
       "Bus     electricity       battery      hydrogen        oxygen  \\\n",
       "count  29224.000000  29224.000000  29224.000000  29224.000000   \n",
       "mean      71.570989     72.567197     40.247947     16.154351   \n",
       "std      304.941741    301.525788     36.432228     39.512734   \n",
       "min        0.100000      0.102066   -327.112647      0.000005   \n",
       "25%        0.200006      0.204125      0.293383      0.000010   \n",
       "50%       31.875286     32.704546     41.230292      0.000029   \n",
       "75%      112.494631    110.221801     69.288767      0.000590   \n",
       "max     8362.252704   8193.301751    188.828132    201.162672   \n",
       "\n",
       "Bus    compressed hydrogen           co2          heat      methanol  \n",
       "count         29224.000000  29224.000000  29224.000000  29224.000000  \n",
       "mean             44.561271    125.258017     33.039182     91.060583  \n",
       "std              35.861654    119.581897    107.635738     26.935998  \n",
       "min               0.150888     27.811025      4.015961     67.496778  \n",
       "25%               0.311112     53.452201     13.196037     67.496783  \n",
       "50%              46.102227     88.091658     22.003898     67.496794  \n",
       "75%              73.253553    141.901024     40.176669    121.851118  \n",
       "max             188.828138    489.790868   2986.518841    121.851121  "
      ]
     },
     "execution_count": 135,
     "metadata": {},
     "output_type": "execute_result"
    }
   ],
   "source": [
    "m.buses_t.marginal_price.describe()"
   ]
  },
  {
   "cell_type": "code",
   "execution_count": 136,
   "id": "05113a33",
   "metadata": {},
   "outputs": [
    {
     "data": {
      "text/plain": [
       "<AxesSubplot: xlabel='snapshot'>"
      ]
     },
     "execution_count": 136,
     "metadata": {},
     "output_type": "execute_result"
    },
    {
     "data": {
      "image/png": "[encoded data removed]",
      "text/plain": [
       "<Figure size 432x288 with 1 Axes>"
      ]
     },
     "metadata": {
      "needs_background": "light"
     },
     "output_type": "display_data"
    }
   ],
   "source": [
    "m.buses_t.marginal_price.plot()"
   ]
  },
  {
   "cell_type": "code",
   "execution_count": 137,
   "id": "dbed7f14",
   "metadata": {},
   "outputs": [
    {
     "data": {
      "text/plain": [
       "<AxesSubplot: xlabel='snapshot'>"
      ]
     },
     "execution_count": 137,
     "metadata": {},
     "output_type": "execute_result"
    },
    {
     "data": {
      "image/png": "[encoded data removed]",
      "text/plain": [
       "<Figure size 432x288 with 1 Axes>"
      ]
     },
     "metadata": {
      "needs_background": "light"
     },
     "output_type": "display_data"
    }
   ],
   "source": [
    "m.buses_t.marginal_price[\"co2\"].plot()"
   ]
  },
  {
   "cell_type": "code",
   "execution_count": 138,
   "id": "81c39d54",
   "metadata": {},
   "outputs": [
    {
     "data": {
      "text/plain": [
       "<AxesSubplot: xlabel='snapshot'>"
      ]
     },
     "execution_count": 138,
     "metadata": {},
     "output_type": "execute_result"
    },
    {
     "data": {
      "image/png": "[encoded data removed]",
      "text/plain": [
       "<Figure size 432x288 with 1 Axes>"
      ]
     },
     "metadata": {
      "needs_background": "light"
     },
     "output_type": "display_data"
    }
   ],
   "source": [
    "m.generators_t.p[\"co2 vent\"].plot()"
   ]
  },
  {
   "cell_type": "markdown",
   "id": "e3948645",
   "metadata": {},
   "source": [
    "# Check for MeOH production"
   ]
  },
  {
   "cell_type": "code",
   "execution_count": 139,
   "id": "42c33ef8",
   "metadata": {},
   "outputs": [
    {
     "data": {
      "text/plain": [
       "88.95103037843327"
      ]
     },
     "execution_count": 139,
     "metadata": {},
     "output_type": "execute_result"
    }
   ],
   "source": [
    "meoh_mv_meth = (m.buses_t.marginal_price[\"methanol\"]*m.links_t.p1[\"methanol synthesis\"]).sum()/m.links_t.p1[\"methanol synthesis\"].sum()\n",
    "meoh_mv_meth"
   ]
  },
  {
   "cell_type": "code",
   "execution_count": 140,
   "id": "4d2f7062",
   "metadata": {},
   "outputs": [
    {
     "data": {
      "text/plain": [
       "25.010330478091383"
      ]
     },
     "execution_count": 140,
     "metadata": {},
     "output_type": "execute_result"
    }
   ],
   "source": [
    "h2_mv_meth = (m.buses_t.marginal_price[\"hydrogen\"]*m.links_t.p0[\"methanol synthesis\"]).sum()/m.links_t.p0[\"methanol synthesis\"].sum()\n",
    "h2_mv_meth"
   ]
  },
  {
   "cell_type": "code",
   "execution_count": 141,
   "id": "30892edb",
   "metadata": {},
   "outputs": [
    {
     "data": {
      "text/plain": [
       "14.289387209673984"
      ]
     },
     "execution_count": 141,
     "metadata": {},
     "output_type": "execute_result"
    }
   ],
   "source": [
    "elec_mv_meth = (m.buses_t.marginal_price[\"electricity\"]*m.links_t.p2[\"methanol synthesis\"]).sum()/m.links_t.p2[\"methanol synthesis\"].sum()\n",
    "elec_mv_meth"
   ]
  },
  {
   "cell_type": "code",
   "execution_count": 142,
   "id": "ce9fde72",
   "metadata": {},
   "outputs": [
    {
     "data": {
      "text/plain": [
       "162.9319476404592"
      ]
     },
     "execution_count": 142,
     "metadata": {},
     "output_type": "execute_result"
    }
   ],
   "source": [
    "co2_mv_meth = (m.buses_t.marginal_price[\"co2\"]*m.links_t.p3[\"methanol synthesis\"]).sum()/m.links_t.p3[\"methanol synthesis\"].sum()\n",
    "co2_mv_meth"
   ]
  },
  {
   "cell_type": "code",
   "execution_count": 143,
   "id": "8f0f738a",
   "metadata": {},
   "outputs": [
    {
     "data": {
      "text/plain": [
       "16.20946281727303"
      ]
     },
     "execution_count": 143,
     "metadata": {},
     "output_type": "execute_result"
    }
   ],
   "source": [
    "#per MWh_MeOH contribution of synthesis\n",
    "total_cost = (m.links.at[\"methanol synthesis\",\"p_nom_opt\"]*m.links.at[\"methanol synthesis\",\"capital_cost\"])\n",
    "capex_part = total_cost/(-m.snapshot_weightings[\"generators\"]*m.links_t.p1[\"methanol synthesis\"]).sum()\n",
    "capex_part"
   ]
  },
  {
   "cell_type": "code",
   "execution_count": 144,
   "id": "c728e760",
   "metadata": {},
   "outputs": [
    {
     "name": "stdout",
     "output_type": "stream",
     "text": [
      "16.20946281727303 28.461358076424503 40.40851214941032 3.871693216255302\n"
     ]
    },
    {
     "data": {
      "text/plain": [
       "88.95102625936315"
      ]
     },
     "execution_count": 144,
     "metadata": {},
     "output_type": "execute_result"
    }
   ],
   "source": [
    "print(capex_part, h2_mv_meth/m.links.at[\"methanol synthesis\",\"efficiency\"], - co2_mv_meth*m.links.at[\"methanol synthesis\",\"efficiency3\"]/m.links.at[\"methanol synthesis\",\"efficiency\"],  - elec_mv_meth*m.links.at[\"methanol synthesis\",\"efficiency2\"]/m.links.at[\"methanol synthesis\",\"efficiency\"])\n",
    "capex_part + h2_mv_meth/m.links.at[\"methanol synthesis\",\"efficiency\"] - co2_mv_meth*m.links.at[\"methanol synthesis\",\"efficiency3\"]/m.links.at[\"methanol synthesis\",\"efficiency\"]  - elec_mv_meth*m.links.at[\"methanol synthesis\",\"efficiency2\"]/m.links.at[\"methanol synthesis\",\"efficiency\"]"
   ]
  },
  {
   "cell_type": "code",
   "execution_count": 145,
   "id": "db92b9fc",
   "metadata": {},
   "outputs": [
    {
     "data": {
      "text/plain": [
       "1029463.0294664365"
      ]
     },
     "execution_count": 145,
     "metadata": {},
     "output_type": "execute_result"
    }
   ],
   "source": [
    "-m.links_t.p1[\"dac\"].sum()*3*4"
   ]
  },
  {
   "cell_type": "code",
   "execution_count": 146,
   "id": "712f5e93",
   "metadata": {},
   "outputs": [
    {
     "data": {
      "text/plain": [
       "1037462.0526882748"
      ]
     },
     "execution_count": 146,
     "metadata": {},
     "output_type": "execute_result"
    }
   ],
   "source": [
    "m.links_t.p0[\"CCGT\"].sum()*3"
   ]
  },
  {
   "cell_type": "markdown",
   "id": "0e63afc4",
   "metadata": {},
   "source": [
    "# Check CCGT+DAC"
   ]
  },
  {
   "cell_type": "code",
   "execution_count": 147,
   "id": "0672ae91",
   "metadata": {},
   "outputs": [
    {
     "data": {
      "text/plain": [
       "bus0                        electricity\n",
       "bus1                                co2\n",
       "carrier                             dac\n",
       "efficiency                     3.571429\n",
       "p_nom_extendable                   True\n",
       "capital_cost            25579696.332066\n",
       "ramp_limit_up                       NaN\n",
       "ramp_limit_down                     NaN\n",
       "p_nom_opt                      1.219513\n",
       "bus2                               heat\n",
       "bus3                                   \n",
       "efficiency2                   -5.357143\n",
       "efficiency3                         1.0\n",
       "type                                   \n",
       "build_year                            0\n",
       "lifetime                            inf\n",
       "p_nom                               0.0\n",
       "p_nom_min                           0.0\n",
       "p_nom_max                           inf\n",
       "p_set                               0.0\n",
       "p_min_pu                            0.0\n",
       "p_max_pu                            1.0\n",
       "marginal_cost                       0.0\n",
       "length                              0.0\n",
       "terrain_factor                      1.0\n",
       "committable                       False\n",
       "start_up_cost                       0.0\n",
       "shut_down_cost                      0.0\n",
       "min_up_time                           0\n",
       "min_down_time                         0\n",
       "up_time_before                        1\n",
       "down_time_before                      0\n",
       "ramp_limit_start_up                 1.0\n",
       "ramp_limit_shut_down                1.0\n",
       "Name: dac, dtype: object"
      ]
     },
     "execution_count": 147,
     "metadata": {},
     "output_type": "execute_result"
    }
   ],
   "source": [
    "m.links.loc[\"dac\"]"
   ]
  },
  {
   "cell_type": "code",
   "execution_count": 151,
   "id": "51b9af30",
   "metadata": {},
   "outputs": [
    {
     "data": {
      "text/plain": [
       "0.674002644986847"
      ]
     },
     "execution_count": 151,
     "metadata": {},
     "output_type": "execute_result"
    }
   ],
   "source": [
    "# capacity factor\n",
    "m.links_t.p0[\"dac\"].mean()/m.links.at[\"dac\",\"p_nom_opt\"]"
   ]
  },
  {
   "cell_type": "code",
   "execution_count": 156,
   "id": "eba36453",
   "metadata": {},
   "outputs": [
    {
     "data": {
      "text/plain": [
       "<AxesSubplot: xlabel='snapshot'>"
      ]
     },
     "execution_count": 156,
     "metadata": {},
     "output_type": "execute_result"
    },
    {
     "data": {
      "image/png": "[encoded data removed]",
      "text/plain": [
       "<Figure size 432x288 with 1 Axes>"
      ]
     },
     "metadata": {
      "needs_background": "light"
     },
     "output_type": "display_data"
    }
   ],
   "source": [
    "start = \"2015-01\"\n",
    "end = \"2015-03\"\n",
    "\n",
    "(m.links_t.p0[\"dac\"]/m.links.at[\"dac\",\"p_nom_opt\"]).loc[start:end].plot()\n",
    "m.generators_t.p_max_pu[[\"wind\",\"solar\"]].sum(axis=1).loc[start:end].plot()"
   ]
  },
  {
   "cell_type": "code",
   "execution_count": 100,
   "id": "99cae6b7",
   "metadata": {},
   "outputs": [
    {
     "data": {
      "text/plain": [
       "108.91813065096642"
      ]
     },
     "execution_count": 100,
     "metadata": {},
     "output_type": "execute_result"
    }
   ],
   "source": [
    "co2_mv_meth = (m.buses_t.marginal_price[\"co2\"]*m.links_t.p3[\"methanol synthesis\"]).sum()/m.links_t.p3[\"methanol synthesis\"].sum()\n",
    "co2_mv_meth"
   ]
  },
  {
   "cell_type": "code",
   "execution_count": 101,
   "id": "a16b7ba6",
   "metadata": {},
   "outputs": [
    {
     "data": {
      "text/plain": [
       "2.240622776374926"
      ]
     },
     "execution_count": 101,
     "metadata": {},
     "output_type": "execute_result"
    }
   ],
   "source": [
    "elec_mv_dac = (m.buses_t.marginal_price[\"electricity\"]*m.links_t.p0[\"dac\"]).sum()/m.links_t.p0[\"dac\"].sum()\n",
    "elec_mv_dac"
   ]
  },
  {
   "cell_type": "code",
   "execution_count": 102,
   "id": "fea530c9",
   "metadata": {},
   "outputs": [
    {
     "data": {
      "text/plain": [
       "12.382004617785958"
      ]
     },
     "execution_count": 102,
     "metadata": {},
     "output_type": "execute_result"
    }
   ],
   "source": [
    "heat_mv_dac = (m.buses_t.marginal_price[\"heat\"]*m.links_t.p2[\"dac\"]).sum()/m.links_t.p2[\"dac\"].sum()\n",
    "heat_mv_dac"
   ]
  },
  {
   "cell_type": "code",
   "execution_count": 103,
   "id": "099ced9e",
   "metadata": {},
   "outputs": [
    {
     "data": {
      "text/plain": [
       "145.72548877193515"
      ]
     },
     "execution_count": 103,
     "metadata": {},
     "output_type": "execute_result"
    }
   ],
   "source": [
    "co2_mv_dac = (m.buses_t.marginal_price[\"co2\"]*m.links_t.p1[\"dac\"]).sum()/m.links_t.p1[\"dac\"].sum()\n",
    "co2_mv_dac"
   ]
  },
  {
   "cell_type": "code",
   "execution_count": 107,
   "id": "f5845dfe",
   "metadata": {},
   "outputs": [
    {
     "data": {
      "text/plain": [
       "126.52592324946487"
      ]
     },
     "execution_count": 107,
     "metadata": {},
     "output_type": "execute_result"
    }
   ],
   "source": [
    "#per tCO2 contribution of DAC capex\n",
    "total_cost = (m.links.at[\"dac\",\"p_nom_opt\"]*m.links.at[\"dac\",\"capital_cost\"])\n",
    "capex_part = total_cost/(-m.links_t.p1[\"dac\"]*m.snapshot_weightings[\"generators\"]).sum()\n",
    "capex_part"
   ]
  },
  {
   "cell_type": "code",
   "execution_count": 108,
   "id": "99f241d1",
   "metadata": {},
   "outputs": [
    {
     "name": "stdout",
     "output_type": "stream",
     "text": [
      "126.52592324946487 0.6273743773849793 18.57300692667894\n"
     ]
    },
    {
     "data": {
      "text/plain": [
       "145.7263045535288"
      ]
     },
     "execution_count": 108,
     "metadata": {},
     "output_type": "execute_result"
    }
   ],
   "source": [
    "print(capex_part, elec_mv_dac/m.links.at[\"dac\",\"efficiency\"], - heat_mv_dac*m.links.at[\"dac\",\"efficiency2\"]/m.links.at[\"dac\",\"efficiency\"])\n",
    "capex_part+ elec_mv_dac/m.links.at[\"dac\",\"efficiency\"] - heat_mv_dac*m.links.at[\"dac\",\"efficiency2\"]/m.links.at[\"dac\",\"efficiency\"]"
   ]
  },
  {
   "cell_type": "markdown",
   "id": "542e6f79",
   "metadata": {},
   "source": [
    "# How much demand is met directly by VRE?"
   ]
  },
  {
   "cell_type": "code",
   "execution_count": 113,
   "id": "22ff022a",
   "metadata": {},
   "outputs": [
    {
     "data": {
      "text/html": [
       "<div>\n",
       "<style scoped>\n",
       "    .dataframe tbody tr th:only-of-type {\n",
       "        vertical-align: middle;\n",
       "    }\n",
       "\n",
       "    .dataframe tbody tr th {\n",
       "        vertical-align: top;\n",
       "    }\n",
       "\n",
       "    .dataframe thead th {\n",
       "        text-align: right;\n",
       "    }\n",
       "</style>\n",
       "<table border=\"1\" class=\"dataframe\">\n",
       "  <thead>\n",
       "    <tr style=\"text-align: right;\">\n",
       "      <th>Link</th>\n",
       "      <th>battery_power</th>\n",
       "      <th>hydrogen_electrolyser</th>\n",
       "      <th>heat pump</th>\n",
       "      <th>dac</th>\n",
       "      <th>battery_discharge</th>\n",
       "      <th>Allam</th>\n",
       "      <th>hydrogen_compressor</th>\n",
       "      <th>methanol synthesis</th>\n",
       "      <th>vre_direct</th>\n",
       "      <th>vre</th>\n",
       "      <th>load</th>\n",
       "    </tr>\n",
       "    <tr>\n",
       "      <th>snapshot</th>\n",
       "      <th></th>\n",
       "      <th></th>\n",
       "      <th></th>\n",
       "      <th></th>\n",
       "      <th></th>\n",
       "      <th></th>\n",
       "      <th></th>\n",
       "      <th></th>\n",
       "      <th></th>\n",
       "      <th></th>\n",
       "      <th></th>\n",
       "    </tr>\n",
       "  </thead>\n",
       "  <tbody>\n",
       "    <tr>\n",
       "      <th>2001-01-01 00:00:00</th>\n",
       "      <td>69.823309</td>\n",
       "      <td>5.199638e+01</td>\n",
       "      <td>2.105618e-07</td>\n",
       "      <td>1.061231e-07</td>\n",
       "      <td>0.005017</td>\n",
       "      <td>3.247090e-07</td>\n",
       "      <td>1.748857e+00</td>\n",
       "      <td>4.948917</td>\n",
       "      <td>99.994982</td>\n",
       "      <td>228.512436</td>\n",
       "      <td>100.0</td>\n",
       "    </tr>\n",
       "    <tr>\n",
       "      <th>2001-01-01 03:00:00</th>\n",
       "      <td>15.570315</td>\n",
       "      <td>5.199638e+01</td>\n",
       "      <td>2.102200e-07</td>\n",
       "      <td>1.059509e-07</td>\n",
       "      <td>0.004414</td>\n",
       "      <td>3.241183e-07</td>\n",
       "      <td>1.748858e+00</td>\n",
       "      <td>4.948917</td>\n",
       "      <td>99.995586</td>\n",
       "      <td>174.260046</td>\n",
       "      <td>100.0</td>\n",
       "    </tr>\n",
       "    <tr>\n",
       "      <th>2001-01-01 06:00:00</th>\n",
       "      <td>0.004385</td>\n",
       "      <td>5.199638e+01</td>\n",
       "      <td>2.099534e-07</td>\n",
       "      <td>1.058165e-07</td>\n",
       "      <td>8.104679</td>\n",
       "      <td>3.239940e-07</td>\n",
       "      <td>1.748848e+00</td>\n",
       "      <td>4.948917</td>\n",
       "      <td>91.895320</td>\n",
       "      <td>150.593840</td>\n",
       "      <td>100.0</td>\n",
       "    </tr>\n",
       "    <tr>\n",
       "      <th>2001-01-01 09:00:00</th>\n",
       "      <td>0.004383</td>\n",
       "      <td>5.199638e+01</td>\n",
       "      <td>2.098917e-07</td>\n",
       "      <td>1.057854e-07</td>\n",
       "      <td>6.965582</td>\n",
       "      <td>3.241064e-07</td>\n",
       "      <td>1.748848e+00</td>\n",
       "      <td>4.948917</td>\n",
       "      <td>93.034418</td>\n",
       "      <td>151.732936</td>\n",
       "      <td>100.0</td>\n",
       "    </tr>\n",
       "    <tr>\n",
       "      <th>2001-01-01 12:00:00</th>\n",
       "      <td>44.696654</td>\n",
       "      <td>5.199638e+01</td>\n",
       "      <td>2.099210e-07</td>\n",
       "      <td>1.058002e-07</td>\n",
       "      <td>0.004481</td>\n",
       "      <td>3.244604e-07</td>\n",
       "      <td>1.748858e+00</td>\n",
       "      <td>4.948917</td>\n",
       "      <td>99.995519</td>\n",
       "      <td>203.386318</td>\n",
       "      <td>100.0</td>\n",
       "    </tr>\n",
       "    <tr>\n",
       "      <th>...</th>\n",
       "      <td>...</td>\n",
       "      <td>...</td>\n",
       "      <td>...</td>\n",
       "      <td>...</td>\n",
       "      <td>...</td>\n",
       "      <td>...</td>\n",
       "      <td>...</td>\n",
       "      <td>...</td>\n",
       "      <td>...</td>\n",
       "      <td>...</td>\n",
       "      <td>...</td>\n",
       "    </tr>\n",
       "    <tr>\n",
       "      <th>2020-12-31 09:00:00</th>\n",
       "      <td>0.000008</td>\n",
       "      <td>4.857567e-07</td>\n",
       "      <td>1.220436e-07</td>\n",
       "      <td>6.151000e-08</td>\n",
       "      <td>15.451320</td>\n",
       "      <td>2.844882e+01</td>\n",
       "      <td>3.153951e-07</td>\n",
       "      <td>2.474460</td>\n",
       "      <td>56.099856</td>\n",
       "      <td>58.574318</td>\n",
       "      <td>100.0</td>\n",
       "    </tr>\n",
       "    <tr>\n",
       "      <th>2020-12-31 12:00:00</th>\n",
       "      <td>20.784691</td>\n",
       "      <td>1.011300e+00</td>\n",
       "      <td>1.722492e-07</td>\n",
       "      <td>8.681358e-08</td>\n",
       "      <td>0.000022</td>\n",
       "      <td>4.838587e-07</td>\n",
       "      <td>9.248751e-07</td>\n",
       "      <td>2.474462</td>\n",
       "      <td>99.999977</td>\n",
       "      <td>124.270426</td>\n",
       "      <td>100.0</td>\n",
       "    </tr>\n",
       "    <tr>\n",
       "      <th>2020-12-31 15:00:00</th>\n",
       "      <td>0.000022</td>\n",
       "      <td>2.186811e-05</td>\n",
       "      <td>1.707130e-07</td>\n",
       "      <td>8.603933e-08</td>\n",
       "      <td>4.521480</td>\n",
       "      <td>4.929074e-07</td>\n",
       "      <td>8.883691e-07</td>\n",
       "      <td>2.474462</td>\n",
       "      <td>95.478520</td>\n",
       "      <td>97.953021</td>\n",
       "      <td>100.0</td>\n",
       "    </tr>\n",
       "    <tr>\n",
       "      <th>2020-12-31 18:00:00</th>\n",
       "      <td>0.000022</td>\n",
       "      <td>2.192720e-05</td>\n",
       "      <td>1.714239e-07</td>\n",
       "      <td>8.639764e-08</td>\n",
       "      <td>15.431813</td>\n",
       "      <td>4.913698e-07</td>\n",
       "      <td>8.893824e-07</td>\n",
       "      <td>2.474462</td>\n",
       "      <td>84.568186</td>\n",
       "      <td>87.042686</td>\n",
       "      <td>100.0</td>\n",
       "    </tr>\n",
       "    <tr>\n",
       "      <th>2020-12-31 21:00:00</th>\n",
       "      <td>0.000035</td>\n",
       "      <td>6.718032e-01</td>\n",
       "      <td>1.736343e-07</td>\n",
       "      <td>8.751166e-08</td>\n",
       "      <td>0.000066</td>\n",
       "      <td>4.774006e-07</td>\n",
       "      <td>9.318754e-07</td>\n",
       "      <td>2.474462</td>\n",
       "      <td>99.999934</td>\n",
       "      <td>103.146230</td>\n",
       "      <td>100.0</td>\n",
       "    </tr>\n",
       "  </tbody>\n",
       "</table>\n",
       "<p>58440 rows × 11 columns</p>\n",
       "</div>"
      ],
      "text/plain": [
       "Link                 battery_power  hydrogen_electrolyser     heat pump  \\\n",
       "snapshot                                                                  \n",
       "2001-01-01 00:00:00      69.823309           5.199638e+01  2.105618e-07   \n",
       "2001-01-01 03:00:00      15.570315           5.199638e+01  2.102200e-07   \n",
       "2001-01-01 06:00:00       0.004385           5.199638e+01  2.099534e-07   \n",
       "2001-01-01 09:00:00       0.004383           5.199638e+01  2.098917e-07   \n",
       "2001-01-01 12:00:00      44.696654           5.199638e+01  2.099210e-07   \n",
       "...                            ...                    ...           ...   \n",
       "2020-12-31 09:00:00       0.000008           4.857567e-07  1.220436e-07   \n",
       "2020-12-31 12:00:00      20.784691           1.011300e+00  1.722492e-07   \n",
       "2020-12-31 15:00:00       0.000022           2.186811e-05  1.707130e-07   \n",
       "2020-12-31 18:00:00       0.000022           2.192720e-05  1.714239e-07   \n",
       "2020-12-31 21:00:00       0.000035           6.718032e-01  1.736343e-07   \n",
       "\n",
       "Link                          dac  battery_discharge         Allam  \\\n",
       "snapshot                                                             \n",
       "2001-01-01 00:00:00  1.061231e-07           0.005017  3.247090e-07   \n",
       "2001-01-01 03:00:00  1.059509e-07           0.004414  3.241183e-07   \n",
       "2001-01-01 06:00:00  1.058165e-07           8.104679  3.239940e-07   \n",
       "2001-01-01 09:00:00  1.057854e-07           6.965582  3.241064e-07   \n",
       "2001-01-01 12:00:00  1.058002e-07           0.004481  3.244604e-07   \n",
       "...                           ...                ...           ...   \n",
       "2020-12-31 09:00:00  6.151000e-08          15.451320  2.844882e+01   \n",
       "2020-12-31 12:00:00  8.681358e-08           0.000022  4.838587e-07   \n",
       "2020-12-31 15:00:00  8.603933e-08           4.521480  4.929074e-07   \n",
       "2020-12-31 18:00:00  8.639764e-08          15.431813  4.913698e-07   \n",
       "2020-12-31 21:00:00  8.751166e-08           0.000066  4.774006e-07   \n",
       "\n",
       "Link                 hydrogen_compressor  methanol synthesis  vre_direct  \\\n",
       "snapshot                                                                   \n",
       "2001-01-01 00:00:00         1.748857e+00            4.948917   99.994982   \n",
       "2001-01-01 03:00:00         1.748858e+00            4.948917   99.995586   \n",
       "2001-01-01 06:00:00         1.748848e+00            4.948917   91.895320   \n",
       "2001-01-01 09:00:00         1.748848e+00            4.948917   93.034418   \n",
       "2001-01-01 12:00:00         1.748858e+00            4.948917   99.995519   \n",
       "...                                  ...                 ...         ...   \n",
       "2020-12-31 09:00:00         3.153951e-07            2.474460   56.099856   \n",
       "2020-12-31 12:00:00         9.248751e-07            2.474462   99.999977   \n",
       "2020-12-31 15:00:00         8.883691e-07            2.474462   95.478520   \n",
       "2020-12-31 18:00:00         8.893824e-07            2.474462   84.568186   \n",
       "2020-12-31 21:00:00         9.318754e-07            2.474462   99.999934   \n",
       "\n",
       "Link                        vre   load  \n",
       "snapshot                                \n",
       "2001-01-01 00:00:00  228.512436  100.0  \n",
       "2001-01-01 03:00:00  174.260046  100.0  \n",
       "2001-01-01 06:00:00  150.593840  100.0  \n",
       "2001-01-01 09:00:00  151.732936  100.0  \n",
       "2001-01-01 12:00:00  203.386318  100.0  \n",
       "...                         ...    ...  \n",
       "2020-12-31 09:00:00   58.574318  100.0  \n",
       "2020-12-31 12:00:00  124.270426  100.0  \n",
       "2020-12-31 15:00:00   97.953021  100.0  \n",
       "2020-12-31 18:00:00   87.042686  100.0  \n",
       "2020-12-31 21:00:00  103.146230  100.0  \n",
       "\n",
       "[58440 rows x 11 columns]"
      ]
     },
     "execution_count": 113,
     "metadata": {},
     "output_type": "execute_result"
    }
   ],
   "source": [
    "ts = pd.concat([(-1)**i*m.links_t[\"p\"+str(i)][m.links.index[m.links[\"bus\"+str(i)].map(m.buses.carrier) == \"electricity\"]] for i in range(3)],\n",
    "         axis=1)\n",
    "ts[\"vre_direct\"] = vre_direct = m.loads_t.p[\"load\"] + m.links_t.p1[[\"battery_discharge\",\"Allam\"]].sum(axis=1)\n",
    "ts[\"vre\"] = m.generators_t.p[[\"wind\",\"solar\"]].sum(axis=1)\n",
    "ts[\"load\"] = m.loads_t.p[\"load\"]\n",
    "ts"
   ]
  },
  {
   "cell_type": "code",
   "execution_count": 114,
   "id": "2212cd0e",
   "metadata": {},
   "outputs": [
    {
     "data": {
      "text/html": [
       "<div>\n",
       "<style scoped>\n",
       "    .dataframe tbody tr th:only-of-type {\n",
       "        vertical-align: middle;\n",
       "    }\n",
       "\n",
       "    .dataframe tbody tr th {\n",
       "        vertical-align: top;\n",
       "    }\n",
       "\n",
       "    .dataframe thead th {\n",
       "        text-align: right;\n",
       "    }\n",
       "</style>\n",
       "<table border=\"1\" class=\"dataframe\">\n",
       "  <thead>\n",
       "    <tr style=\"text-align: right;\">\n",
       "      <th>Link</th>\n",
       "      <th>battery_power</th>\n",
       "      <th>hydrogen_electrolyser</th>\n",
       "      <th>heat pump</th>\n",
       "      <th>dac</th>\n",
       "      <th>battery_discharge</th>\n",
       "      <th>Allam</th>\n",
       "      <th>hydrogen_compressor</th>\n",
       "      <th>methanol synthesis</th>\n",
       "      <th>vre_direct</th>\n",
       "      <th>vre</th>\n",
       "      <th>load</th>\n",
       "    </tr>\n",
       "  </thead>\n",
       "  <tbody>\n",
       "    <tr>\n",
       "      <th>count</th>\n",
       "      <td>5.844000e+04</td>\n",
       "      <td>5.844000e+04</td>\n",
       "      <td>5.844000e+04</td>\n",
       "      <td>5.844000e+04</td>\n",
       "      <td>5.844000e+04</td>\n",
       "      <td>5.844000e+04</td>\n",
       "      <td>5.844000e+04</td>\n",
       "      <td>58440.000000</td>\n",
       "      <td>58440.000000</td>\n",
       "      <td>58440.000000</td>\n",
       "      <td>58440.0</td>\n",
       "    </tr>\n",
       "    <tr>\n",
       "      <th>mean</th>\n",
       "      <td>1.604485e+01</td>\n",
       "      <td>2.494110e+01</td>\n",
       "      <td>2.087874e-07</td>\n",
       "      <td>1.052289e-07</td>\n",
       "      <td>1.540306e+01</td>\n",
       "      <td>8.942101e+00</td>\n",
       "      <td>5.468608e-01</td>\n",
       "      <td>4.038086</td>\n",
       "      <td>75.654840</td>\n",
       "      <td>121.225726</td>\n",
       "      <td>100.0</td>\n",
       "    </tr>\n",
       "    <tr>\n",
       "      <th>std</th>\n",
       "      <td>2.699073e+01</td>\n",
       "      <td>2.025026e+01</td>\n",
       "      <td>6.888412e-08</td>\n",
       "      <td>3.471760e-08</td>\n",
       "      <td>2.232379e+01</td>\n",
       "      <td>1.849172e+01</td>\n",
       "      <td>7.329610e-01</td>\n",
       "      <td>1.148375</td>\n",
       "      <td>30.992515</td>\n",
       "      <td>66.190382</td>\n",
       "      <td>0.0</td>\n",
       "    </tr>\n",
       "    <tr>\n",
       "      <th>min</th>\n",
       "      <td>2.652979e-08</td>\n",
       "      <td>1.009377e-09</td>\n",
       "      <td>7.573427e-10</td>\n",
       "      <td>3.817007e-10</td>\n",
       "      <td>2.613530e-08</td>\n",
       "      <td>1.269269e-07</td>\n",
       "      <td>1.192183e-09</td>\n",
       "      <td>2.474460</td>\n",
       "      <td>-3.178892</td>\n",
       "      <td>3.191535</td>\n",
       "      <td>100.0</td>\n",
       "    </tr>\n",
       "    <tr>\n",
       "      <th>25%</th>\n",
       "      <td>9.425541e-06</td>\n",
       "      <td>1.133901e+00</td>\n",
       "      <td>1.597250e-07</td>\n",
       "      <td>8.050142e-08</td>\n",
       "      <td>4.728296e-03</td>\n",
       "      <td>3.779795e-07</td>\n",
       "      <td>3.780677e-07</td>\n",
       "      <td>2.474460</td>\n",
       "      <td>48.610726</td>\n",
       "      <td>61.818110</td>\n",
       "      <td>100.0</td>\n",
       "    </tr>\n",
       "    <tr>\n",
       "      <th>50%</th>\n",
       "      <td>5.979922e-03</td>\n",
       "      <td>3.056512e+01</td>\n",
       "      <td>2.398601e-07</td>\n",
       "      <td>1.208895e-07</td>\n",
       "      <td>1.283269e-02</td>\n",
       "      <td>3.849011e-07</td>\n",
       "      <td>3.672492e-04</td>\n",
       "      <td>4.948919</td>\n",
       "      <td>99.931443</td>\n",
       "      <td>129.497151</td>\n",
       "      <td>100.0</td>\n",
       "    </tr>\n",
       "    <tr>\n",
       "      <th>75%</th>\n",
       "      <td>1.786321e+01</td>\n",
       "      <td>4.494896e+01</td>\n",
       "      <td>2.699284e-07</td>\n",
       "      <td>1.360439e-07</td>\n",
       "      <td>2.735281e+01</td>\n",
       "      <td>5.912926e+00</td>\n",
       "      <td>1.230285e+00</td>\n",
       "      <td>4.948920</td>\n",
       "      <td>99.995263</td>\n",
       "      <td>166.303741</td>\n",
       "      <td>100.0</td>\n",
       "    </tr>\n",
       "    <tr>\n",
       "      <th>max</th>\n",
       "      <td>8.264946e+01</td>\n",
       "      <td>5.199638e+01</td>\n",
       "      <td>3.827788e-07</td>\n",
       "      <td>1.929205e-07</td>\n",
       "      <td>8.264945e+01</td>\n",
       "      <td>7.103122e+01</td>\n",
       "      <td>2.405821e+00</td>\n",
       "      <td>4.948920</td>\n",
       "      <td>100.000000</td>\n",
       "      <td>241.345521</td>\n",
       "      <td>100.0</td>\n",
       "    </tr>\n",
       "  </tbody>\n",
       "</table>\n",
       "</div>"
      ],
      "text/plain": [
       "Link   battery_power  hydrogen_electrolyser     heat pump           dac  \\\n",
       "count   5.844000e+04           5.844000e+04  5.844000e+04  5.844000e+04   \n",
       "mean    1.604485e+01           2.494110e+01  2.087874e-07  1.052289e-07   \n",
       "std     2.699073e+01           2.025026e+01  6.888412e-08  3.471760e-08   \n",
       "min     2.652979e-08           1.009377e-09  7.573427e-10  3.817007e-10   \n",
       "25%     9.425541e-06           1.133901e+00  1.597250e-07  8.050142e-08   \n",
       "50%     5.979922e-03           3.056512e+01  2.398601e-07  1.208895e-07   \n",
       "75%     1.786321e+01           4.494896e+01  2.699284e-07  1.360439e-07   \n",
       "max     8.264946e+01           5.199638e+01  3.827788e-07  1.929205e-07   \n",
       "\n",
       "Link   battery_discharge         Allam  hydrogen_compressor  \\\n",
       "count       5.844000e+04  5.844000e+04         5.844000e+04   \n",
       "mean        1.540306e+01  8.942101e+00         5.468608e-01   \n",
       "std         2.232379e+01  1.849172e+01         7.329610e-01   \n",
       "min         2.613530e-08  1.269269e-07         1.192183e-09   \n",
       "25%         4.728296e-03  3.779795e-07         3.780677e-07   \n",
       "50%         1.283269e-02  3.849011e-07         3.672492e-04   \n",
       "75%         2.735281e+01  5.912926e+00         1.230285e+00   \n",
       "max         8.264945e+01  7.103122e+01         2.405821e+00   \n",
       "\n",
       "Link   methanol synthesis    vre_direct           vre     load  \n",
       "count        58440.000000  58440.000000  58440.000000  58440.0  \n",
       "mean             4.038086     75.654840    121.225726    100.0  \n",
       "std              1.148375     30.992515     66.190382      0.0  \n",
       "min              2.474460     -3.178892      3.191535    100.0  \n",
       "25%              2.474460     48.610726     61.818110    100.0  \n",
       "50%              4.948919     99.931443    129.497151    100.0  \n",
       "75%              4.948920     99.995263    166.303741    100.0  \n",
       "max              4.948920    100.000000    241.345521    100.0  "
      ]
     },
     "execution_count": 114,
     "metadata": {},
     "output_type": "execute_result"
    }
   ],
   "source": [
    "ts.describe()"
   ]
  },
  {
   "cell_type": "code",
   "execution_count": 115,
   "id": "4ed7882f",
   "metadata": {},
   "outputs": [
    {
     "data": {
      "text/plain": [
       "Link\n",
       "battery_power            1.604485e-01\n",
       "hydrogen_electrolyser    2.494110e-01\n",
       "heat pump                2.087874e-09\n",
       "dac                      1.052289e-09\n",
       "battery_discharge        1.540306e-01\n",
       "Allam                    8.942101e-02\n",
       "hydrogen_compressor      5.468608e-03\n",
       "methanol synthesis       4.038086e-02\n",
       "vre_direct               7.565484e-01\n",
       "vre                      1.212257e+00\n",
       "load                     1.000000e+00\n",
       "dtype: float64"
      ]
     },
     "execution_count": 115,
     "metadata": {},
     "output_type": "execute_result"
    }
   ],
   "source": [
    "frac = ts.sum()/ts[\"load\"].sum()\n",
    "frac"
   ]
  },
  {
   "cell_type": "code",
   "execution_count": 116,
   "id": "1e481ec8",
   "metadata": {},
   "outputs": [
    {
     "data": {
      "text/plain": [
       "Link\n",
       "battery_power             31.834536\n",
       "hydrogen_electrolyser     16.775115\n",
       "heat pump                 37.833985\n",
       "dac                       37.833985\n",
       "battery_discharge        106.218415\n",
       "Allam                    345.122136\n",
       "hydrogen_compressor        8.608983\n",
       "methanol synthesis        59.576749\n",
       "vre_direct                51.840602\n",
       "vre                       42.040960\n",
       "load                      86.441979\n",
       "dtype: float64"
      ]
     },
     "execution_count": 116,
     "metadata": {},
     "output_type": "execute_result"
    }
   ],
   "source": [
    "mvs = ts.multiply(m.buses_t.marginal_price[\"electricity\"],axis=0).sum()/ts.sum()\n",
    "mvs"
   ]
  },
  {
   "cell_type": "code",
   "execution_count": 117,
   "id": "fe3c47ab",
   "metadata": {},
   "outputs": [
    {
     "data": {
      "text/plain": [
       "1.0"
      ]
     },
     "execution_count": 117,
     "metadata": {},
     "output_type": "execute_result"
    }
   ],
   "source": [
    "gens = ['vre_direct', 'battery_discharge', 'Allam']\n",
    "frac[gens].sum()"
   ]
  },
  {
   "cell_type": "code",
   "execution_count": 118,
   "id": "37212562",
   "metadata": {},
   "outputs": [
    {
     "data": {
      "text/plain": [
       "86.44197914707084"
      ]
     },
     "execution_count": 118,
     "metadata": {},
     "output_type": "execute_result"
    }
   ],
   "source": [
    "(frac[gens]*mvs[gens]).sum()"
   ]
  },
  {
   "cell_type": "code",
   "execution_count": 119,
   "id": "73b503da",
   "metadata": {},
   "outputs": [
    {
     "data": {
      "text/plain": [
       "Link\n",
       "battery_power            1.323552e-01\n",
       "hydrogen_electrolyser    2.057410e-01\n",
       "heat pump                1.722303e-09\n",
       "dac                      8.680406e-10\n",
       "battery_discharge        1.270610e-01\n",
       "Allam                    7.376405e-02\n",
       "hydrogen_compressor      4.511096e-03\n",
       "methanol synthesis       3.331047e-02\n",
       "vre_direct               6.240824e-01\n",
       "vre                      1.000000e+00\n",
       "load                     8.249074e-01\n",
       "dtype: float64"
      ]
     },
     "execution_count": 119,
     "metadata": {},
     "output_type": "execute_result"
    }
   ],
   "source": [
    "gen_frac = ts.sum()/ts[\"vre\"].sum()\n",
    "gen_frac"
   ]
  },
  {
   "cell_type": "code",
   "execution_count": 121,
   "id": "1d255f01",
   "metadata": {},
   "outputs": [
    {
     "data": {
      "text/plain": [
       "42.040965700245934"
      ]
     },
     "execution_count": 121,
     "metadata": {},
     "output_type": "execute_result"
    }
   ],
   "source": [
    "chargers= ['battery_power', 'hydrogen_electrolyser', 'hydrogen_compressor',\"dac\",\"heat pump\",\"methanol synthesis\"]\n",
    "\n",
    "(gen_frac[chargers]*mvs[chargers]).sum() + gen_frac[\"vre_direct\"]*mvs[\"vre_direct\"]\n"
   ]
  },
  {
   "cell_type": "code",
   "execution_count": 76,
   "id": "c88ab107",
   "metadata": {},
   "outputs": [
    {
     "data": {
      "text/html": [
       "<div>\n",
       "<style scoped>\n",
       "    .dataframe tbody tr th:only-of-type {\n",
       "        vertical-align: middle;\n",
       "    }\n",
       "\n",
       "    .dataframe tbody tr th {\n",
       "        vertical-align: top;\n",
       "    }\n",
       "\n",
       "    .dataframe thead th {\n",
       "        text-align: right;\n",
       "    }\n",
       "</style>\n",
       "<table border=\"1\" class=\"dataframe\">\n",
       "  <thead>\n",
       "    <tr style=\"text-align: right;\">\n",
       "      <th></th>\n",
       "      <th>Capacity Factor</th>\n",
       "      <th>Capital Expenditure</th>\n",
       "      <th>Curtailment</th>\n",
       "      <th>Installed Capacity</th>\n",
       "      <th>Operational Expenditure</th>\n",
       "      <th>Optimal Capacity</th>\n",
       "      <th>Revenue</th>\n",
       "      <th>Supply</th>\n",
       "      <th>Withdrawal</th>\n",
       "    </tr>\n",
       "    <tr>\n",
       "      <th>carrier</th>\n",
       "      <th></th>\n",
       "      <th></th>\n",
       "      <th></th>\n",
       "      <th></th>\n",
       "      <th></th>\n",
       "      <th></th>\n",
       "      <th></th>\n",
       "      <th></th>\n",
       "      <th></th>\n",
       "    </tr>\n",
       "  </thead>\n",
       "  <tbody>\n",
       "    <tr>\n",
       "      <th>battery discharger</th>\n",
       "      <td>0.360707</td>\n",
       "      <td>0.000000e+00</td>\n",
       "      <td>0.000000</td>\n",
       "      <td>0.0</td>\n",
       "      <td>0.000000</td>\n",
       "      <td>39.405178</td>\n",
       "      <td>11.596551</td>\n",
       "      <td>13.926531</td>\n",
       "      <td>-14.213706</td>\n",
       "    </tr>\n",
       "    <tr>\n",
       "      <th>battery inverter</th>\n",
       "      <td>0.375736</td>\n",
       "      <td>9.067038e+06</td>\n",
       "      <td>0.000000</td>\n",
       "      <td>0.0</td>\n",
       "      <td>0.000000</td>\n",
       "      <td>38.609036</td>\n",
       "      <td>90.374896</td>\n",
       "      <td>14.213705</td>\n",
       "      <td>-14.506801</td>\n",
       "    </tr>\n",
       "    <tr>\n",
       "      <th>battery storage</th>\n",
       "      <td>0.504361</td>\n",
       "      <td>3.450641e+07</td>\n",
       "      <td>0.000000</td>\n",
       "      <td>0.0</td>\n",
       "      <td>0.000000</td>\n",
       "      <td>310.160385</td>\n",
       "      <td>393.068260</td>\n",
       "      <td>8.535403</td>\n",
       "      <td>-8.535403</td>\n",
       "    </tr>\n",
       "    <tr>\n",
       "      <th>hydrogen</th>\n",
       "      <td>0.000000</td>\n",
       "      <td>0.000000e+00</td>\n",
       "      <td>0.000000</td>\n",
       "      <td>0.0</td>\n",
       "      <td>0.000000</td>\n",
       "      <td>0.000000</td>\n",
       "      <td>0.000000</td>\n",
       "      <td>0.000000</td>\n",
       "      <td>0.000000</td>\n",
       "    </tr>\n",
       "    <tr>\n",
       "      <th>hydrogen electrolyser</th>\n",
       "      <td>0.387648</td>\n",
       "      <td>3.855470e+07</td>\n",
       "      <td>0.000000</td>\n",
       "      <td>0.0</td>\n",
       "      <td>0.000000</td>\n",
       "      <td>91.246048</td>\n",
       "      <td>438.964363</td>\n",
       "      <td>24.052546</td>\n",
       "      <td>-35.371391</td>\n",
       "    </tr>\n",
       "    <tr>\n",
       "      <th>hydrogen storage</th>\n",
       "      <td>0.549065</td>\n",
       "      <td>7.500729e+07</td>\n",
       "      <td>0.000000</td>\n",
       "      <td>0.0</td>\n",
       "      <td>0.000000</td>\n",
       "      <td>67669.910061</td>\n",
       "      <td>861.569536</td>\n",
       "      <td>23.437873</td>\n",
       "      <td>-23.437873</td>\n",
       "    </tr>\n",
       "    <tr>\n",
       "      <th>hydrogen storing compressor</th>\n",
       "      <td>0.416868</td>\n",
       "      <td>7.419229e+06</td>\n",
       "      <td>0.000000</td>\n",
       "      <td>0.0</td>\n",
       "      <td>0.000000</td>\n",
       "      <td>62.048115</td>\n",
       "      <td>126.576723</td>\n",
       "      <td>25.865875</td>\n",
       "      <td>-25.865875</td>\n",
       "    </tr>\n",
       "    <tr>\n",
       "      <th>hydrogen storing decompressor</th>\n",
       "      <td>0.180010</td>\n",
       "      <td>0.000000e+00</td>\n",
       "      <td>0.000000</td>\n",
       "      <td>0.0</td>\n",
       "      <td>0.000000</td>\n",
       "      <td>143.691255</td>\n",
       "      <td>-0.294532</td>\n",
       "      <td>25.865875</td>\n",
       "      <td>-25.865875</td>\n",
       "    </tr>\n",
       "    <tr>\n",
       "      <th>hydrogen turbine</th>\n",
       "      <td>0.178517</td>\n",
       "      <td>7.480198e+07</td>\n",
       "      <td>0.000000</td>\n",
       "      <td>0.0</td>\n",
       "      <td>0.000000</td>\n",
       "      <td>134.735292</td>\n",
       "      <td>852.386716</td>\n",
       "      <td>13.950477</td>\n",
       "      <td>-24.052547</td>\n",
       "    </tr>\n",
       "    <tr>\n",
       "      <th>load</th>\n",
       "      <td>0.000000</td>\n",
       "      <td>0.000000e+00</td>\n",
       "      <td>0.000000</td>\n",
       "      <td>0.0</td>\n",
       "      <td>0.000000</td>\n",
       "      <td>0.000000</td>\n",
       "      <td>7479.975389</td>\n",
       "      <td>0.000000</td>\n",
       "      <td>-100.000000</td>\n",
       "    </tr>\n",
       "    <tr>\n",
       "      <th>solar</th>\n",
       "      <td>0.104568</td>\n",
       "      <td>1.247935e+08</td>\n",
       "      <td>0.698474</td>\n",
       "      <td>0.0</td>\n",
       "      <td>4.093667</td>\n",
       "      <td>391.483451</td>\n",
       "      <td>1426.995941</td>\n",
       "      <td>40.936671</td>\n",
       "      <td>0.000000</td>\n",
       "    </tr>\n",
       "    <tr>\n",
       "      <th>wind</th>\n",
       "      <td>0.256518</td>\n",
       "      <td>2.897999e+08</td>\n",
       "      <td>12.976143</td>\n",
       "      <td>0.0</td>\n",
       "      <td>16.833684</td>\n",
       "      <td>328.119088</td>\n",
       "      <td>3321.273700</td>\n",
       "      <td>84.168420</td>\n",
       "      <td>0.000000</td>\n",
       "    </tr>\n",
       "  </tbody>\n",
       "</table>\n",
       "</div>"
      ],
      "text/plain": [
       "                               Capacity Factor  Capital Expenditure  \\\n",
       "carrier                                                               \n",
       "battery discharger                    0.360707         0.000000e+00   \n",
       "battery inverter                      0.375736         9.067038e+06   \n",
       "battery storage                       0.504361         3.450641e+07   \n",
       "hydrogen                              0.000000         0.000000e+00   \n",
       "hydrogen electrolyser                 0.387648         3.855470e+07   \n",
       "hydrogen storage                      0.549065         7.500729e+07   \n",
       "hydrogen storing compressor           0.416868         7.419229e+06   \n",
       "hydrogen storing decompressor         0.180010         0.000000e+00   \n",
       "hydrogen turbine                      0.178517         7.480198e+07   \n",
       "load                                  0.000000         0.000000e+00   \n",
       "solar                                 0.104568         1.247935e+08   \n",
       "wind                                  0.256518         2.897999e+08   \n",
       "\n",
       "                               Curtailment  Installed Capacity  \\\n",
       "carrier                                                          \n",
       "battery discharger                0.000000                 0.0   \n",
       "battery inverter                  0.000000                 0.0   \n",
       "battery storage                   0.000000                 0.0   \n",
       "hydrogen                          0.000000                 0.0   \n",
       "hydrogen electrolyser             0.000000                 0.0   \n",
       "hydrogen storage                  0.000000                 0.0   \n",
       "hydrogen storing compressor       0.000000                 0.0   \n",
       "hydrogen storing decompressor     0.000000                 0.0   \n",
       "hydrogen turbine                  0.000000                 0.0   \n",
       "load                              0.000000                 0.0   \n",
       "solar                             0.698474                 0.0   \n",
       "wind                             12.976143                 0.0   \n",
       "\n",
       "                               Operational Expenditure  Optimal Capacity  \\\n",
       "carrier                                                                    \n",
       "battery discharger                            0.000000         39.405178   \n",
       "battery inverter                              0.000000         38.609036   \n",
       "battery storage                               0.000000        310.160385   \n",
       "hydrogen                                      0.000000          0.000000   \n",
       "hydrogen electrolyser                         0.000000         91.246048   \n",
       "hydrogen storage                              0.000000      67669.910061   \n",
       "hydrogen storing compressor                   0.000000         62.048115   \n",
       "hydrogen storing decompressor                 0.000000        143.691255   \n",
       "hydrogen turbine                              0.000000        134.735292   \n",
       "load                                          0.000000          0.000000   \n",
       "solar                                         4.093667        391.483451   \n",
       "wind                                         16.833684        328.119088   \n",
       "\n",
       "                                   Revenue     Supply  Withdrawal  \n",
       "carrier                                                            \n",
       "battery discharger               11.596551  13.926531  -14.213706  \n",
       "battery inverter                 90.374896  14.213705  -14.506801  \n",
       "battery storage                 393.068260   8.535403   -8.535403  \n",
       "hydrogen                          0.000000   0.000000    0.000000  \n",
       "hydrogen electrolyser           438.964363  24.052546  -35.371391  \n",
       "hydrogen storage                861.569536  23.437873  -23.437873  \n",
       "hydrogen storing compressor     126.576723  25.865875  -25.865875  \n",
       "hydrogen storing decompressor    -0.294532  25.865875  -25.865875  \n",
       "hydrogen turbine                852.386716  13.950477  -24.052547  \n",
       "load                           7479.975389   0.000000 -100.000000  \n",
       "solar                          1426.995941  40.936671    0.000000  \n",
       "wind                           3321.273700  84.168420    0.000000  "
      ]
     },
     "execution_count": 76,
     "metadata": {},
     "output_type": "execute_result"
    }
   ],
   "source": [
    "stats = n.statistics().groupby(level=1).sum()\n",
    "stats"
   ]
  },
  {
   "cell_type": "code",
   "execution_count": 77,
   "id": "ccefdcc1",
   "metadata": {},
   "outputs": [
    {
     "data": {
      "text/plain": [
       "125.10509098467267"
      ]
     },
     "execution_count": 77,
     "metadata": {},
     "output_type": "execute_result"
    }
   ],
   "source": [
    "vre = stats.loc[[\"wind\",\"solar\"],\"Supply\"].sum()\n",
    "vre"
   ]
  },
  {
   "cell_type": "code",
   "execution_count": 78,
   "id": "737e506a",
   "metadata": {},
   "outputs": [
    {
     "data": {
      "text/plain": [
       "-0.12000012000011999"
      ]
     },
     "execution_count": 78,
     "metadata": {},
     "output_type": "execute_result"
    }
   ],
   "source": [
    "n.links.at[\"hydrogen_compressor\",\"efficiency2\"]"
   ]
  },
  {
   "cell_type": "code",
   "execution_count": 79,
   "id": "999d59eb",
   "metadata": {},
   "outputs": [
    {
     "data": {
      "text/plain": [
       "52.98210016555471"
      ]
     },
     "execution_count": 79,
     "metadata": {},
     "output_type": "execute_result"
    }
   ],
   "source": [
    "storage_load = -stats.loc[[\"battery inverter\",\"hydrogen electrolyser\"],\"Withdrawal\"].sum() + n.links.at[\"hydrogen_compressor\",\"efficiency2\"]*stats.at[\"hydrogen storing compressor\",\"Withdrawal\"]\n",
    "storage_load"
   ]
  },
  {
   "cell_type": "code",
   "execution_count": 80,
   "id": "1708ad83",
   "metadata": {},
   "outputs": [
    {
     "data": {
      "text/plain": [
       "72.12299081911796"
      ]
     },
     "execution_count": 80,
     "metadata": {},
     "output_type": "execute_result"
    }
   ],
   "source": [
    "vre - storage_load"
   ]
  },
  {
   "cell_type": "code",
   "execution_count": 81,
   "id": "fd91b69c",
   "metadata": {},
   "outputs": [
    {
     "data": {
      "text/plain": [
       "(27.8770079967613,\n",
       " carrier\n",
       " battery discharger    13.926531\n",
       " hydrogen turbine      13.950477\n",
       " Name: Supply, dtype: float64)"
      ]
     },
     "execution_count": 81,
     "metadata": {},
     "output_type": "execute_result"
    }
   ],
   "source": [
    "storage_supply = stats.loc[[\"battery discharger\",\"hydrogen turbine\"],\"Supply\"]\n",
    "storage_supply.sum(),storage_supply"
   ]
  },
  {
   "cell_type": "code",
   "execution_count": 82,
   "id": "ad622dd4",
   "metadata": {},
   "outputs": [
    {
     "data": {
      "text/plain": [
       "99.99999881587925"
      ]
     },
     "execution_count": 82,
     "metadata": {},
     "output_type": "execute_result"
    }
   ],
   "source": [
    "vre - storage_load + storage_supply.sum()"
   ]
  },
  {
   "cell_type": "code",
   "execution_count": 83,
   "id": "d9d4c459",
   "metadata": {},
   "outputs": [
    {
     "data": {
      "text/plain": [
       "<AxesSubplot: xlabel='snapshot'>"
      ]
     },
     "execution_count": 83,
     "metadata": {},
     "output_type": "execute_result"
    },
    {
     "data": {
      "image/png": "[encoded data removed]",
      "text/plain": [
       "<Figure size 432x288 with 1 Axes>"
      ]
     },
     "metadata": {
      "needs_background": "light"
     },
     "output_type": "display_data"
    }
   ],
   "source": [
    "vre_s = n.generators_t.p[[\"wind\",\"solar\"]].sum(axis=1)\n",
    "vre_s.plot()"
   ]
  },
  {
   "cell_type": "code",
   "execution_count": 84,
   "id": "180af59f",
   "metadata": {},
   "outputs": [
    {
     "data": {
      "text/plain": [
       "vre     125.105091\n",
       "load    100.000000\n",
       "dtype: float64"
      ]
     },
     "execution_count": 84,
     "metadata": {},
     "output_type": "execute_result"
    }
   ],
   "source": [
    "df = pd.DataFrame(index=n.snapshots)\n",
    "df[\"vre\"] = vre_s\n",
    "df[\"load\"] = n.loads_t.p[\"load\"]\n",
    "df.mean()"
   ]
  },
  {
   "cell_type": "code",
   "execution_count": 88,
   "id": "c7526731",
   "metadata": {},
   "outputs": [
    {
     "data": {
      "text/plain": [
       "<AxesSubplot: xlabel='snapshot'>"
      ]
     },
     "execution_count": 88,
     "metadata": {},
     "output_type": "execute_result"
    },
    {
     "data": {
      "image/png": "[encoded data removed]",
      "text/plain": [
       "<Figure size 432x288 with 1 Axes>"
      ]
     },
     "metadata": {
      "needs_background": "light"
     },
     "output_type": "display_data"
    }
   ],
   "source": [
    "#this definition is different to above since batteries can charge electrolyser etc.\n",
    "vre_direct = df.min(axis=1)\n",
    "vre_direct.plot()"
   ]
  },
  {
   "cell_type": "code",
   "execution_count": 86,
   "id": "9da10b26",
   "metadata": {},
   "outputs": [
    {
     "data": {
      "text/plain": [
       "80.29315574371539"
      ]
     },
     "execution_count": 86,
     "metadata": {},
     "output_type": "execute_result"
    }
   ],
   "source": [
    "vre_direct.mean()"
   ]
  },
  {
   "cell_type": "code",
   "execution_count": 87,
   "id": "f295333c",
   "metadata": {},
   "outputs": [
    {
     "data": {
      "text/plain": [
       "<AxesSubplot: xlabel='snapshot'>"
      ]
     },
     "execution_count": 87,
     "metadata": {},
     "output_type": "execute_result"
    },
    {
     "data": {
      "image/png": "[encoded data removed]",
      "text/plain": [
       "<Figure size 432x288 with 1 Axes>"
      ]
     },
     "metadata": {
      "needs_background": "light"
     },
     "output_type": "display_data"
    }
   ],
   "source": [
    "ts[\"vre_direct\"].plot()"
   ]
  },
  {
   "cell_type": "code",
   "execution_count": 89,
   "id": "424bbef1",
   "metadata": {},
   "outputs": [
    {
     "data": {
      "text/plain": [
       "75.65483982691327"
      ]
     },
     "execution_count": 89,
     "metadata": {},
     "output_type": "execute_result"
    }
   ],
   "source": [
    "ts[\"vre_direct\"].mean()"
   ]
  },
  {
   "cell_type": "markdown",
   "id": "a5defc7e",
   "metadata": {},
   "source": [
    "# calculate balances"
   ]
  },
  {
   "cell_type": "code",
   "execution_count": 334,
   "id": "62591b2b",
   "metadata": {},
   "outputs": [
    {
     "name": "stderr",
     "output_type": "stream",
     "text": [
      "INFO:pypsa.io:Imported network UK-20a-H2u-inelastic.nc has buses, generators, links, stores\n",
      "INFO:pypsa.io:Imported network UK-20a-H2u.nc has buses, generators, links, loads, stores\n"
     ]
    }
   ],
   "source": [
    "inel = pypsa.Network(\"networks/230410-20a-UK-inelastic-fixed/UK-20a-H2u-inelastic.nc\")\n",
    "el = pypsa.Network(\"networks/230410-20a-UK-inelastic-fixed/UK-20a-H2u.nc\")"
   ]
  },
  {
   "cell_type": "code",
   "execution_count": 329,
   "id": "498270b1",
   "metadata": {},
   "outputs": [],
   "source": [
    "def calculate_balances(n):\n",
    "    \n",
    "    balances = pd.Series()\n",
    "\n",
    "    bus_carriers = n.buses.carrier.unique()\n",
    "\n",
    "    for i in bus_carriers:\n",
    "        bus_map = (n.buses.carrier == i)\n",
    "        bus_map.at[\"\"] = False\n",
    "\n",
    "        for c in n.iterate_components(n.one_port_components):\n",
    "\n",
    "            items = c.df.index[c.df.bus.map(bus_map).fillna(False)]\n",
    "            if len(items) == 0:\n",
    "                continue\n",
    "\n",
    "            s = c.pnl.p[items].multiply(n.snapshot_weightings.generators,axis=0).sum().multiply(c.df.loc[items, 'sign']).groupby(c.df.loc[items, 'carrier']).sum()\n",
    "            s = pd.concat([s], keys=[i])\n",
    "            balances = balances.reindex(s.index.union(balances.index))\n",
    "            balances.loc[s.index] = s\n",
    "\n",
    "        for c in n.iterate_components(n.branch_components):\n",
    "\n",
    "            for end in [col[3:] for col in c.df.columns if col[:3] == \"bus\"]:\n",
    "\n",
    "                items = c.df.index[c.df[\"bus\" + str(end)].map(bus_map, na_action=False)]\n",
    "\n",
    "                if len(items) == 0:\n",
    "                    continue\n",
    "\n",
    "                s = (-1)*c.pnl[\"p\"+end][items].multiply(n.snapshot_weightings.generators,axis=0).sum().groupby(c.df.loc[items, 'carrier']).sum()\n",
    "                s.index = s.index + end\n",
    "                s = pd.concat([s], keys=[i])\n",
    "                balances = balances.reindex(s.index.union(balances.index))\n",
    "                balances.loc[s.index] = s\n",
    "    return balances"
   ]
  },
  {
   "cell_type": "code",
   "execution_count": 330,
   "id": "bb89e83e",
   "metadata": {},
   "outputs": [
    {
     "name": "stderr",
     "output_type": "stream",
     "text": [
      "<ipython-input-329-dbfe400e6da0>:3: FutureWarning: The default dtype for empty Series will be 'object' instead of 'float64' in a future version. Specify a dtype explicitly to silence this warning.\n",
      "  balances = pd.Series()\n"
     ]
    },
    {
     "data": {
      "text/plain": [
       "battery              battery discharger0              -1.144549e+06\n",
       "                     battery inverter1                 1.144549e+06\n",
       "                     battery storage                  -8.043344e-12\n",
       "compressed hydrogen  hydrogen storage                 -9.094947e-12\n",
       "                     hydrogen storing compressor1      3.582781e+06\n",
       "                     hydrogen storing decompressor0   -3.582781e+06\n",
       "electricity          battery discharger1               1.121424e+06\n",
       "                     battery inverter0                -1.168150e+06\n",
       "                     hydrogen electrolyser0           -5.221619e+06\n",
       "                     hydrogen storing compressor2     -4.299342e+05\n",
       "                     hydrogen turbine1                 2.059406e+06\n",
       "                     load                             -1.752153e+07\n",
       "                     solar                             6.736925e+06\n",
       "                     wind                              1.442348e+07\n",
       "hydrogen             hydrogen electrolyser1            3.550701e+06\n",
       "                     hydrogen storing compressor0     -3.582781e+06\n",
       "                     hydrogen storing decompressor1    3.582781e+06\n",
       "                     hydrogen turbine0                -3.550701e+06\n",
       "dtype: float64"
      ]
     },
     "execution_count": 330,
     "metadata": {},
     "output_type": "execute_result"
    }
   ],
   "source": [
    "balances = calculate_balances(n)\n",
    "balances"
   ]
  },
  {
   "cell_type": "code",
   "execution_count": 331,
   "id": "b88eef13",
   "metadata": {},
   "outputs": [
    {
     "data": {
      "text/html": [
       "<div>\n",
       "<style scoped>\n",
       "    .dataframe tbody tr th:only-of-type {\n",
       "        vertical-align: middle;\n",
       "    }\n",
       "\n",
       "    .dataframe tbody tr th {\n",
       "        vertical-align: top;\n",
       "    }\n",
       "\n",
       "    .dataframe thead th {\n",
       "        text-align: right;\n",
       "    }\n",
       "</style>\n",
       "<table border=\"1\" class=\"dataframe\">\n",
       "  <thead>\n",
       "    <tr style=\"text-align: right;\">\n",
       "      <th>attribute</th>\n",
       "      <th>bus</th>\n",
       "      <th>carrier</th>\n",
       "      <th>type</th>\n",
       "      <th>p_set</th>\n",
       "      <th>q_set</th>\n",
       "      <th>sign</th>\n",
       "    </tr>\n",
       "    <tr>\n",
       "      <th>Load</th>\n",
       "      <th></th>\n",
       "      <th></th>\n",
       "      <th></th>\n",
       "      <th></th>\n",
       "      <th></th>\n",
       "      <th></th>\n",
       "    </tr>\n",
       "  </thead>\n",
       "  <tbody>\n",
       "  </tbody>\n",
       "</table>\n",
       "</div>"
      ],
      "text/plain": [
       "Empty DataFrame\n",
       "Columns: [bus, carrier, type, p_set, q_set, sign]\n",
       "Index: []"
      ]
     },
     "execution_count": 331,
     "metadata": {},
     "output_type": "execute_result"
    }
   ],
   "source": [
    "n.loads"
   ]
  },
  {
   "cell_type": "code",
   "execution_count": 333,
   "id": "891bfeed",
   "metadata": {},
   "outputs": [
    {
     "data": {
      "text/plain": [
       "<AxesSubplot: xlabel='snapshot'>"
      ]
     },
     "execution_count": 333,
     "metadata": {},
     "output_type": "execute_result"
    },
    {
     "data": {
      "image/png": "[encoded data removed]",
      "text/plain": [
       "<Figure size 432x288 with 1 Axes>"
      ]
     },
     "metadata": {
      "needs_background": "light"
     },
     "output_type": "display_data"
    }
   ],
   "source": [
    "n.generators_t.p[\"load\"].plot()"
   ]
  },
  {
   "cell_type": "code",
   "execution_count": 335,
   "id": "c57e0b4a",
   "metadata": {},
   "outputs": [
    {
     "name": "stderr",
     "output_type": "stream",
     "text": [
      "INFO:pypsa.io:Imported network UK-20a-H2u-inelastic.nc has buses, generators, links, stores\n",
      "INFO:pypsa.io:Imported network UK-20a-H2u.nc has buses, generators, links, loads, stores\n"
     ]
    }
   ],
   "source": [
    "inel = pypsa.Network(\"networks/230410-20a-UK-inelastic-fixed/UK-20a-H2u-inelastic.nc\")\n",
    "el = pypsa.Network(\"networks/230410-20a-UK-inelastic-fixed/UK-20a-H2u.nc\")"
   ]
  },
  {
   "cell_type": "code",
   "execution_count": 342,
   "id": "650a7637",
   "metadata": {},
   "outputs": [
    {
     "data": {
      "text/plain": [
       "0.000596981657830753"
      ]
     },
     "execution_count": 342,
     "metadata": {},
     "output_type": "execute_result"
    }
   ],
   "source": [
    "(100+inel.generators_t.p[\"load\"].mean())/100"
   ]
  },
  {
   "cell_type": "code",
   "execution_count": 352,
   "id": "21ad5c79",
   "metadata": {},
   "outputs": [
    {
     "data": {
      "text/plain": [
       "<AxesSubplot: xlabel='snapshot'>"
      ]
     },
     "execution_count": 352,
     "metadata": {},
     "output_type": "execute_result"
    },
    {
     "data": {
      "image/png": "[encoded data removed]",
      "text/plain": [
       "<Figure size 432x288 with 1 Axes>"
      ]
     },
     "metadata": {
      "needs_background": "light"
     },
     "output_type": "display_data"
    }
   ],
   "source": [
    "el.buses_t.marginal_price[\"electricity\"].loc[\"2017\"].plot()"
   ]
  },
  {
   "cell_type": "code",
   "execution_count": 340,
   "id": "41eb0252",
   "metadata": {},
   "outputs": [
    {
     "data": {
      "text/plain": [
       "<AxesSubplot: xlabel='snapshot'>"
      ]
     },
     "execution_count": 340,
     "metadata": {},
     "output_type": "execute_result"
    },
    {
     "data": {
      "image/png": "[encoded data removed]",
      "text/plain": [
       "<Figure size 432x288 with 1 Axes>"
      ]
     },
     "metadata": {
      "needs_background": "light"
     },
     "output_type": "display_data"
    }
   ],
   "source": [
    "el.buses_t.marginal_price[\"electricity\"].plot()"
   ]
  },
  {
   "cell_type": "code",
   "execution_count": 347,
   "id": "f96b6c85",
   "metadata": {},
   "outputs": [
    {
     "name": "stdout",
     "output_type": "stream",
     "text": [
      "2001 28.97105058113951\n",
      "2002 137.6669394520763\n",
      "2003 19.49773411345628\n",
      "2004 13.058731939562845\n",
      "2005 8.136863595373338\n",
      "2006 53.849959531998536\n",
      "2007 8.941070673218736\n",
      "2008 21.91683668751286\n",
      "2009 112.74475799819717\n",
      "2010 826.5533663725835\n",
      "2011 305.7449812776099\n",
      "2012 0.33310136008598434\n",
      "2013 3.9047394141811163\n",
      "2014 13.847988759476259\n",
      "2015 7.5027176794029025\n",
      "2016 16.735939129386594\n",
      "2017 0.3100187529862477\n",
      "2018 0.3231303124558135\n",
      "2019 4.631685527834868\n",
      "2020 5.330265832631398\n"
     ]
    }
   ],
   "source": [
    "for year in range(2001,2021):\n",
    "    print(year,inel.buses_t.marginal_price[\"electricity\"].loc[str(year)].mean())"
   ]
  },
  {
   "cell_type": "code",
   "execution_count": 348,
   "id": "42ce3b7f",
   "metadata": {},
   "outputs": [
    {
     "name": "stdout",
     "output_type": "stream",
     "text": [
      "2001 0.3305102254069614\n",
      "2002 1.2174542626368992\n",
      "2003 0.33316336889942294\n",
      "2004 0.32167948436610766\n",
      "2005 0.31160890797344115\n",
      "2006 0.338779101970587\n",
      "2007 0.3124216016792246\n",
      "2008 0.31322455695654017\n",
      "2009 178.67428558190036\n",
      "2010 1026.0714692248935\n",
      "2011 172.49179963835766\n",
      "2012 0.3329763368732172\n",
      "2013 0.31040268007323885\n",
      "2014 0.3332935545064165\n",
      "2015 0.3142120876575524\n",
      "2016 218.25092406101584\n",
      "2017 0.31074739485911224\n",
      "2018 0.32272880716164426\n",
      "2019 0.3178564312353397\n",
      "2020 0.3113269834246511\n"
     ]
    }
   ],
   "source": [
    "for year in range(2001,2021):\n",
    "    print(year,el.buses_t.marginal_price[\"electricity\"].loc[str(year)].mean())"
   ]
  },
  {
   "cell_type": "code",
   "execution_count": 349,
   "id": "8bcefceb",
   "metadata": {},
   "outputs": [
    {
     "data": {
      "text/plain": [
       "80.0512861872611"
      ]
     },
     "execution_count": 349,
     "metadata": {},
     "output_type": "execute_result"
    }
   ],
   "source": [
    "el.buses_t.marginal_price[\"electricity\"].mean()"
   ]
  },
  {
   "cell_type": "code",
   "execution_count": 350,
   "id": "f8e59d32",
   "metadata": {},
   "outputs": [
    {
     "data": {
      "text/plain": [
       "79.45353329318671"
      ]
     },
     "execution_count": 350,
     "metadata": {},
     "output_type": "execute_result"
    }
   ],
   "source": [
    "inel.buses_t.marginal_price[\"electricity\"].mean()"
   ]
  },
  {
   "cell_type": "code",
   "execution_count": null,
   "id": "136ebf1e",
   "metadata": {},
   "outputs": [],
   "source": []
  }
 ],
 "metadata": {
  "kernelspec": {
   "display_name": "Python 3",
   "language": "python",
   "name": "python3"
  },
  "language_info": {
   "codemirror_mode": {
    "name": "ipython",
    "version": 3
   },
   "file_extension": ".py",
   "mimetype": "text/x-python",
   "name": "python",
   "nbconvert_exporter": "python",
   "pygments_lexer": "ipython3",
   "version": "3.8.10"
  }
 },
 "nbformat": 4,
 "nbformat_minor": 5
}
