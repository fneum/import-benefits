{
 "cells": [
  {
   "cell_type": "code",
   "execution_count": null,
   "metadata": {},
   "outputs": [],
   "source": [
    "import powerplantmatching as pm\n",
    "from powerplantmatching.utils import (\n",
    "    config_filter,\n",
    "    convert_to_short_name,\n",
    "    set_column_name,\n",
    ")\n",
    "from powerplantmatching.cleaning import clean_name\n",
    "import pandas as pd"
   ]
  },
  {
   "cell_type": "code",
   "execution_count": null,
   "metadata": {},
   "outputs": [],
   "source": [
    "config = pm.get_config()\n",
    "config[\"GNPT\"][\"status\"] = [\n",
    "    \"operating\",\n",
    "    \"construction\",\n",
    "    \"pre-construction\",\n",
    "    \"announced\",\n",
    "]\n",
    "config[\"target_columns\"] += [\"Status\"]"
   ]
  },
  {
   "cell_type": "code",
   "execution_count": null,
   "metadata": {},
   "outputs": [],
   "source": [
    "df = pm.data.GNPT(raw=True)"
   ]
  },
  {
   "cell_type": "code",
   "execution_count": null,
   "metadata": {},
   "outputs": [],
   "source": [
    "RENAME_COLUMNS = {\n",
    "    \"Project Name\": \"Name\",\n",
    "    \"Capacity (MW)\": \"Capacity\",\n",
    "    \"Latitude\": \"lat\",\n",
    "    \"Longitude\": \"lon\",\n",
    "    \"Start Year\": \"DateIn\",\n",
    "    \"Retirement Year\": \"DateOut\",\n",
    "    \"Country/Area\": \"Country\",\n",
    "    \"GEM unit ID\": \"projectID\",\n",
    "}\n",
    "\n",
    "status_list = config[\"GNPT\"][\"status\"]\n",
    "\n",
    "df = df.rename(columns=RENAME_COLUMNS)\n",
    "df = (\n",
    "    df.pipe(clean_name)\n",
    "    .pipe(set_column_name, \"GNPT\")\n",
    "    .pipe(convert_to_short_name)\n",
    "    .dropna(subset=\"Capacity\")\n",
    "    .assign(\n",
    "        DateIn=df[\"DateIn\"].apply(pd.to_numeric, errors=\"coerce\"),\n",
    "        DateOut=df[\"DateOut\"].apply(pd.to_numeric, errors=\"coerce\"),\n",
    "        lat=df[\"lat\"].apply(pd.to_numeric, errors=\"coerce\"),\n",
    "        lon=df[\"lon\"].apply(pd.to_numeric, errors=\"coerce\"),\n",
    "    )\n",
    "    .query(\"Status in @status_list\")\n",
    "    .pipe(lambda x: x[df.columns.intersection(config.get(\"target_columns\"))])\n",
    "    .assign(Fueltype=\"Nuclear\")\n",
    "    .assign(Technology=\"Steam Turbine\")\n",
    "    .assign(Set=\"PP\")\n",
    "    .pipe(config_filter, config)\n",
    "    .query(\"Country != 'Ukraine'\")\n",
    "    .powerplant.convert_country_to_alpha2()\n",
    ")"
   ]
  },
  {
   "cell_type": "code",
   "execution_count": null,
   "metadata": {},
   "outputs": [],
   "source": [
    "df.query(\"Country == 'SE'\")"
   ]
  },
  {
   "cell_type": "code",
   "execution_count": null,
   "metadata": {},
   "outputs": [],
   "source": [
    "rebuild_i = df.query(\"DateIn <= 1990 or DateOut <= 2045 or Status == 'announced'\").index\n",
    "df.loc[rebuild_i, \"Capacity\"] = 0.0\n",
    "df.loc[rebuild_i, \"DateIn\"] = 2045\n",
    "# df.drop(\"Status\", axis=1, inplace=True, errors=\"ignore\")\n",
    "df.fillna({\"DateIn\": 2045}, inplace=True)\n",
    "df"
   ]
  },
  {
   "cell_type": "code",
   "execution_count": null,
   "metadata": {},
   "outputs": [],
   "source": [
    "df.to_csv(\"../pypsa-eur/data/custom_powerplants.csv\")"
   ]
  },
  {
   "cell_type": "code",
   "execution_count": null,
   "metadata": {},
   "outputs": [],
   "source": []
  },
  {
   "cell_type": "code",
   "execution_count": null,
   "metadata": {},
   "outputs": [],
   "source": [
    "import geopandas as gpd\n",
    "\n",
    "import cartopy.crs as ccrs\n",
    "import matplotlib.pyplot as plt\n",
    "\n",
    "regions_fn = \"../pypsa-eur/resources/20240826-z1/regions_onshore_base_s_115.geojson\"\n",
    "regions = gpd.read_file(regions_fn).set_index(\"name\")\n",
    "\n",
    "gdf = gpd.GeoDataFrame(\n",
    "    df,\n",
    "    geometry=gpd.points_from_xy(df.lon, df.lat),\n",
    "    crs=\"EPSG:4326\",\n",
    ")\n",
    "\n",
    "crs = ccrs.EqualEarth()\n",
    "fig, ax = plt.subplots(figsize=(7, 7), subplot_kw={\"projection\": crs})\n",
    "regions.to_crs(crs.proj4_init).plot(\n",
    "    ax=ax, color=\"lightgrey\", edgecolor=\"grey\", linewidth=0.5\n",
    ")\n",
    "gdf.to_crs(crs.proj4_init).plot(\n",
    "    ax=ax,\n",
    "    column=gdf.Status,\n",
    "    cmap=\"tab10\",\n",
    "    markersize=gdf.Capacity / 10,\n",
    "    alpha=0.5,\n",
    "    legend=True,\n",
    "    legend_kwds={\"title\": \"Status\", \"loc\": \"upper left\"},\n",
    ")\n",
    "\n",
    "plt.tight_layout()\n",
    "\n",
    "plt.savefig(\"nuclear.pdf\")"
   ]
  },
  {
   "cell_type": "code",
   "execution_count": null,
   "metadata": {},
   "outputs": [],
   "source": []
  },
  {
   "cell_type": "code",
   "execution_count": null,
   "metadata": {},
   "outputs": [],
   "source": []
  }
 ],
 "metadata": {
  "kernelspec": {
   "display_name": "pypsa-eur-240812",
   "language": "python",
   "name": "python3"
  },
  "language_info": {
   "codemirror_mode": {
    "name": "ipython",
    "version": 3
   },
   "file_extension": ".py",
   "mimetype": "text/x-python",
   "name": "python",
   "nbconvert_exporter": "python",
   "pygments_lexer": "ipython3",
   "version": "3.12.5"
  }
 },
 "nbformat": 4,
 "nbformat_minor": 2
}
