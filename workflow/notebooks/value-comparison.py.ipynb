{
 "cells": [
  {
   "cell_type": "code",
   "execution_count": null,
   "metadata": {},
   "outputs": [],
   "source": [
    "import pypsa\n",
    "import pandas as pd\n",
    "import numpy as np\n",
    "import geopandas as gpd\n",
    "import cartopy.crs as ccrs\n",
    "import yaml\n",
    "import matplotlib.pyplot as plt\n",
    "from matplotlib.patches import Circle"
   ]
  },
  {
   "cell_type": "code",
   "execution_count": null,
   "metadata": {},
   "outputs": [],
   "source": [
    "RUN = \"20231025-zecm\""
   ]
  },
  {
   "cell_type": "code",
   "execution_count": null,
   "metadata": {},
   "outputs": [],
   "source": [
    "matplotlibrc_fn = \"../pypsa-eur/matplotlibrc\"\n",
    "config_fn = \"../../config/config.yaml\"\n",
    "\n",
    "plt.style.use([\"bmh\", matplotlibrc_fn])\n",
    "\n",
    "with open(config_fn, \"r\") as f:\n",
    "    config = yaml.safe_load(f)\n",
    "\n",
    "tech_colors = config[\"plotting\"][\"tech_colors\"]\n",
    "\n",
    "# for EU: https://ec.europa.eu/eurostat/databrowser/view/prc_hicp_aind__custom_9900786/default/table?lang=en\n",
    "# EUR_2015_TO_2020 = 1.002 * 1.017 * 1.019 * 1.015 * 1.007\n",
    "# EUR_2015_TO_2020"
   ]
  },
  {
   "cell_type": "code",
   "execution_count": null,
   "metadata": {},
   "outputs": [],
   "source": [
    "fn = \"/home/fneum/bwss/papers/import-benefits/workflow/pypsa-eur/results/20231025-zecm/postnetworks/elec_s_110_lvopt__Co2L0-2190SEG-T-H-B-I-S-A-onwind+p0.5-imp_2050.nc\""
   ]
  },
  {
   "cell_type": "code",
   "execution_count": null,
   "metadata": {},
   "outputs": [],
   "source": [
    "ni = pypsa.Network(fn)"
   ]
  },
  {
   "cell_type": "code",
   "execution_count": null,
   "metadata": {},
   "outputs": [],
   "source": [
    "NICE_NAMES = {\n",
    "    \"import pipeline-h2\": \"hydrogen\",\n",
    "    \"import shipping-lh2\": \"hydrogen (ship)\",\n",
    "    \"import shipping-ftfuel\": \"Fischer-Tropsch\",\n",
    "    \"import shipping-meoh\": \"methanol\",\n",
    "    \"import shipping-lch4\": \"methane\",\n",
    "    \"import shipping-lnh3\": \"ammonia\",\n",
    "    \"import shipping-steel\": \"steel\",\n",
    "}\n",
    "\n",
    "min_import_costs = pd.concat(\n",
    "    [\n",
    "        ni.generators.filter(like=\"import\", axis=0)\n",
    "        .groupby(\"carrier\")\n",
    "        .marginal_cost.describe(),\n",
    "        ni.links.filter(like=\"import\", axis=0)\n",
    "        .groupby(\"carrier\")\n",
    "        .marginal_cost.describe(),\n",
    "    ]\n",
    ")\n",
    "min_import_costs = (\n",
    "    min_import_costs[[\"min\", \"max\"]]\n",
    "    .rename(index=NICE_NAMES)\n",
    "    .drop(\"import hvdc-to-elec\")\n",
    ")\n",
    "# min_import_costs *= EUR_2015_TO_2020\n",
    "min_import_costs"
   ]
  },
  {
   "cell_type": "code",
   "execution_count": null,
   "metadata": {},
   "outputs": [],
   "source": [
    "scenarios_fn = {\n",
    "    \"imp+H2\": \"/home/fneum/bwss/papers/import-benefits/workflow/pypsa-eur/results/20231025-zecm/postnetworks/elec_s_110_lvopt__Co2L0-2190SEG-T-H-B-I-S-A-onwind+p0.5-imp+H2_2050.nc\",\n",
    "    \"imp\": \"/home/fneum/bwss/papers/import-benefits/workflow/pypsa-eur/results/20231025-zecm/postnetworks/elec_s_110_lvopt__Co2L0-2190SEG-T-H-B-I-S-A-onwind+p0.5-imp_2050.nc\",\n",
    "    \"noimp\": \"/home/fneum/bwss/papers/import-benefits/workflow/pypsa-eur/results/20231025-zecm/postnetworks/elec_s_110_lvopt__Co2L0-2190SEG-T-H-B-I-S-A-onwind+p0.5_2050.nc\",\n",
    "}\n",
    "\n",
    "scenario_name = \"imp+H2\"\n",
    "\n",
    "fn = scenarios_fn[scenario_name]"
   ]
  },
  {
   "cell_type": "code",
   "execution_count": null,
   "metadata": {},
   "outputs": [],
   "source": [
    "n = pypsa.Network(fn)\n",
    "# n.buses_t.marginal_price *= EUR_2015_TO_2020\n",
    "# n.lines[\"capital_cost\"] *= EUR_2015_TO_2020\n",
    "# for c in n.iterate_components({\"Generator\", \"Store\", \"Link\", \"StorageUnit\"}):\n",
    "#     c.df.marginal_cost *= EUR_2015_TO_2020"
   ]
  },
  {
   "cell_type": "code",
   "execution_count": null,
   "metadata": {},
   "outputs": [],
   "source": [
    "x = (\n",
    "    n.statistics.energy_balance()\n",
    "    .xs(\"co2 stored\", level=\"bus_carrier\")\n",
    "    .div(1e6)\n",
    "    .round(1)\n",
    "    .sort_values()\n",
    ")\n",
    "x.where(x > 0).sum() - 4"
   ]
  },
  {
   "cell_type": "code",
   "execution_count": null,
   "metadata": {},
   "outputs": [],
   "source": [
    "ac_prices = n.buses_t.marginal_price.loc[\n",
    "    :, (n.buses.carrier == \"AC\") & (n.buses.index.str.len() != 2)\n",
    "]\n",
    "h2_prices = n.buses_t.marginal_price.loc[:, n.buses.carrier == \"H2\"].rename(\n",
    "    columns=n.buses.location\n",
    ")\n",
    "gas_prices = n.buses_t.marginal_price.loc[:, n.buses.carrier == \"gas\"].rename(\n",
    "    columns=n.buses.location\n",
    ")\n",
    "biogas_prices = n.buses_t.marginal_price.loc[:, n.buses.carrier == \"biogas\"].rename(\n",
    "    columns=n.buses.location\n",
    ")\n",
    "heat_prices = n.buses_t.marginal_price.loc[\n",
    "    :, n.buses.carrier == \"urban central heat\"\n",
    "].rename(columns=n.buses.location)\n",
    "nh3_prices = n.buses_t.marginal_price[\"EU NH3\"]\n",
    "oil_prices = n.buses_t.marginal_price[\"EU oil\"]\n",
    "steel_prices = n.buses_t.marginal_price[\"EU steel\"]\n",
    "meoh_prices = n.buses_t.marginal_price[\"EU methanol\"]\n",
    "co2_prices = n.buses_t.marginal_price[\"co2 stored\"]\n",
    "co2_tax = n.buses_t.marginal_price[\"co2 atmosphere\"]"
   ]
  },
  {
   "cell_type": "markdown",
   "metadata": {},
   "source": [
    "## Breakdown electrolyser market value"
   ]
  },
  {
   "cell_type": "code",
   "execution_count": null,
   "metadata": {},
   "outputs": [],
   "source": [
    "mapper = n.links.bus1.map(n.buses.location)\n",
    "carrier = \"H2 Electrolysis\"\n",
    "threshold = 1\n",
    "weights = n.snapshot_weightings.generators"
   ]
  },
  {
   "cell_type": "code",
   "execution_count": null,
   "metadata": {},
   "outputs": [],
   "source": [
    "electrolysers = n.links.query(\"carrier == @carrier and p_nom_opt > @threshold\").rename(\n",
    "    index=mapper\n",
    ")"
   ]
  },
  {
   "cell_type": "code",
   "execution_count": null,
   "metadata": {},
   "outputs": [],
   "source": [
    "electrolysers_capex = electrolysers.eval(\"p_nom_opt * capital_cost\").rename(\n",
    "    index=mapper\n",
    ")"
   ]
  },
  {
   "cell_type": "code",
   "execution_count": null,
   "metadata": {},
   "outputs": [],
   "source": [
    "sel = (n.links.carrier == carrier) & (n.links.p_nom_opt > threshold)\n",
    "electrolysers_ac = n.links_t.p0.loc[:, sel].rename(columns=mapper)\n",
    "electrolysers_h2 = -n.links_t.p1.loc[:, sel].rename(columns=mapper)\n",
    "electrolysers_heat = -n.links_t.p2.loc[:, sel].rename(columns=mapper)"
   ]
  },
  {
   "cell_type": "code",
   "execution_count": null,
   "metadata": {},
   "outputs": [],
   "source": [
    "electrolysers_h2_output = weights @ electrolysers_h2"
   ]
  },
  {
   "cell_type": "code",
   "execution_count": null,
   "metadata": {},
   "outputs": [],
   "source": [
    "## start time series"
   ]
  },
  {
   "cell_type": "code",
   "execution_count": null,
   "metadata": {},
   "outputs": [],
   "source": [
    "electrolysers_ac_cost_t = (\n",
    "    ac_prices[electrolysers.index] * electrolysers_ac\n",
    ") / electrolysers_h2\n",
    "electrolysers_heat_revenue_t = (\n",
    "    heat_prices[electrolysers.index] * electrolysers_heat\n",
    ") / electrolysers_h2\n",
    "electrolysers_capex_t = (\n",
    "    electrolysers_capex\n",
    "    * electrolysers_h2.mul(weights, axis=0).div(electrolysers_h2_output)\n",
    ") / electrolysers_h2_output"
   ]
  },
  {
   "cell_type": "code",
   "execution_count": null,
   "metadata": {},
   "outputs": [],
   "source": [
    "electrolysers_cost_t = (\n",
    "    electrolysers_ac_cost_t + electrolysers_heat_revenue_t + electrolysers_capex_t\n",
    ")"
   ]
  },
  {
   "cell_type": "code",
   "execution_count": null,
   "metadata": {},
   "outputs": [],
   "source": [
    "mean_values = (electrolysers_cost_t * electrolysers_h2_output).sum(\n",
    "    axis=1\n",
    ") / electrolysers_h2_output.sum()\n",
    "min_values = electrolysers_cost_t.min(axis=1)\n",
    "max_values = electrolysers_cost_t.max(axis=1)\n",
    "\n",
    "fig, ax = plt.subplots(figsize=(10, 4))\n",
    "\n",
    "mean_values.plot(\n",
    "    ax=ax, label=\"weighted mean\", color=tech_colors[\"Fischer-Tropsch\"], linewidth=1\n",
    ")\n",
    "plt.fill_between(\n",
    "    electrolysers_cost_t.index,\n",
    "    min_values,\n",
    "    max_values,\n",
    "    color=tech_colors[\"Fischer-Tropsch\"],\n",
    "    alpha=0.3,\n",
    "    label=\"regional range\",\n",
    ")\n",
    "\n",
    "ax.axhline(\n",
    "    min_import_costs.at[\"Fischer-Tropsch\", \"min\"],\n",
    "    color=\"black\",\n",
    "    lw=1,\n",
    "    label=\"import cost\",\n",
    ")\n",
    "\n",
    "\n",
    "ax_twin = ax.twinx()\n",
    "\n",
    "total_capacity = electrolysers.eval(\"p_nom_opt * efficiency\").sum()\n",
    "\n",
    "electrolysers_h2.sum(axis=1).div(total_capacity).mul(100).plot(\n",
    "    ax=ax_twin, linewidth=1, color=\"coral\", label=\"total production\"\n",
    ")\n",
    "\n",
    "ax_twin.axhline(100, lw=1, label=\"total capacity\", linestyle=\":\", color=\"coral\")\n",
    "\n",
    "ax_twin.grid(False)\n",
    "\n",
    "ax_twin.set_ylim(0, 500)\n",
    "\n",
    "ax_twin.set_ylabel(\"capacity utilisation rate [%]\", color=\"coral\")\n",
    "\n",
    "\n",
    "import matplotlib.dates as mdates\n",
    "\n",
    "ax.xaxis.set_major_formatter(mdates.DateFormatter(\"%b\"))\n",
    "for label in ax.get_xticklabels():\n",
    "    label.set_rotation(0)\n",
    "    label.set_horizontalalignment(\"left\")\n",
    "\n",
    "ax.set_ylim(0, 250)\n",
    "\n",
    "ax.set_ylabel(\"domestic production cost [€/MWh]\", color=tech_colors[\"Fischer-Tropsch\"])\n",
    "ax.set_xlabel(\"\")\n",
    "ax.set_xlim(\"2013-01-01 00:00\", \"2013-12-31 23:00\")\n",
    "\n",
    "handles, labels = [], []\n",
    "for ax in [ax, ax_twin]:\n",
    "    h, l = ax.get_legend_handles_labels()\n",
    "    handles.extend(h)\n",
    "    labels.extend(l)\n",
    "\n",
    "# Create a single combined legend\n",
    "plt.legend(handles, labels, ncol=5, loc=(0, 1.01))\n",
    "\n",
    "plt.savefig(f\"electrolysers-t-{scenario_name}.png\")"
   ]
  },
  {
   "cell_type": "code",
   "execution_count": null,
   "metadata": {},
   "outputs": [],
   "source": [
    "# end time series"
   ]
  },
  {
   "cell_type": "code",
   "execution_count": null,
   "metadata": {},
   "outputs": [],
   "source": [
    "electrolysers_ac_cost = weights @ (ac_prices[electrolysers.index] * electrolysers_ac)\n",
    "electrolysers_h2_revenue = weights @ (h2_prices[electrolysers.index] * electrolysers_h2)\n",
    "electrolysers_heat_revenue = weights @ (\n",
    "    heat_prices[electrolysers.index] * electrolysers_heat\n",
    ")"
   ]
  },
  {
   "cell_type": "code",
   "execution_count": null,
   "metadata": {},
   "outputs": [],
   "source": [
    "electrolysers_cost = (\n",
    "    electrolysers_ac_cost + electrolysers_capex - electrolysers_heat_revenue\n",
    ") / electrolysers_h2_output"
   ]
  },
  {
   "cell_type": "code",
   "execution_count": null,
   "metadata": {},
   "outputs": [],
   "source": [
    "electrolysers_revenue = electrolysers_h2_revenue / electrolysers_h2_output"
   ]
  },
  {
   "cell_type": "code",
   "execution_count": null,
   "metadata": {},
   "outputs": [],
   "source": [
    "electrolysers_balance = pd.DataFrame(\n",
    "    {\n",
    "        \"electricity cost\": electrolysers_ac_cost,\n",
    "        \"investment cost\": electrolysers_capex,\n",
    "        \"heat revenue\": -electrolysers_heat_revenue,\n",
    "        \"product revenue\": -electrolysers_h2_revenue,\n",
    "    }\n",
    ").div(electrolysers_h2_output, axis=0)\n",
    "\n",
    "electrolysers_balance = pd.Series(\n",
    "    np.average(electrolysers_balance, weights=electrolysers_h2_output, axis=0),\n",
    "    index=electrolysers_balance.columns,\n",
    ")\n",
    "electrolysers_balance"
   ]
  },
  {
   "cell_type": "markdown",
   "metadata": {},
   "source": [
    "## Breakdown Haber-Bosch market value"
   ]
  },
  {
   "cell_type": "code",
   "execution_count": null,
   "metadata": {},
   "outputs": [],
   "source": [
    "mapper = n.links.bus0.map(n.buses.location)\n",
    "carrier = \"Haber-Bosch\"\n",
    "threshold = 1\n",
    "weights = n.snapshot_weightings.generators"
   ]
  },
  {
   "cell_type": "code",
   "execution_count": null,
   "metadata": {},
   "outputs": [],
   "source": [
    "haberbosch = n.links.query(\"carrier == @carrier and p_nom_opt > @threshold\").rename(\n",
    "    index=mapper\n",
    ")"
   ]
  },
  {
   "cell_type": "code",
   "execution_count": null,
   "metadata": {},
   "outputs": [],
   "source": [
    "haberbosch_capex = haberbosch.eval(\"p_nom_opt * capital_cost\").rename(index=mapper)"
   ]
  },
  {
   "cell_type": "code",
   "execution_count": null,
   "metadata": {},
   "outputs": [],
   "source": [
    "sel = (n.links.carrier == carrier) & (n.links.p_nom_opt > threshold)\n",
    "haberbosch_ac = n.links_t.p0.loc[:, sel].rename(columns=mapper)\n",
    "haberbosch_nh3 = -n.links_t.p1.loc[:, sel].rename(columns=mapper)\n",
    "haberbosch_h2 = n.links_t.p2.loc[:, sel].rename(columns=mapper)\n",
    "haberbosch_heat = -n.links_t.p3.loc[:, sel].rename(columns=mapper)"
   ]
  },
  {
   "cell_type": "code",
   "execution_count": null,
   "metadata": {},
   "outputs": [],
   "source": [
    "haberbosch_nh3_output = weights @ haberbosch_nh3"
   ]
  },
  {
   "cell_type": "code",
   "execution_count": null,
   "metadata": {},
   "outputs": [],
   "source": [
    "haberbosch_ac_cost = weights @ (ac_prices[haberbosch.index] * haberbosch_ac)\n",
    "haberbosch_h2_cost = weights @ (h2_prices[haberbosch.index] * haberbosch_h2)\n",
    "haberbosch_nh3_revenue = weights @ haberbosch_nh3.mul(nh3_prices, axis=0)\n",
    "haberbosch_heat_revenue = weights @ (heat_prices[haberbosch.index] * haberbosch_heat)"
   ]
  },
  {
   "cell_type": "code",
   "execution_count": null,
   "metadata": {},
   "outputs": [],
   "source": [
    "haberbosch_cost = (\n",
    "    haberbosch_ac_cost + haberbosch_h2_cost + haberbosch_capex - haberbosch_heat_revenue\n",
    ") / haberbosch_nh3_output"
   ]
  },
  {
   "cell_type": "code",
   "execution_count": null,
   "metadata": {},
   "outputs": [],
   "source": [
    "haberbosch_revenue = haberbosch_nh3_revenue / haberbosch_nh3_output"
   ]
  },
  {
   "cell_type": "code",
   "execution_count": null,
   "metadata": {},
   "outputs": [],
   "source": [
    "haberbosch_balance = pd.DataFrame(\n",
    "    {\n",
    "        \"electricity cost\": haberbosch_ac_cost,\n",
    "        \"hydrogen cost\": haberbosch_h2_cost,\n",
    "        \"investment cost\": haberbosch_capex,\n",
    "        \"heat revenue\": -haberbosch_heat_revenue,\n",
    "        \"product revenue\": -haberbosch_nh3_revenue,\n",
    "    }\n",
    ").div(haberbosch_nh3_output, axis=0)\n",
    "\n",
    "haberbosch_balance = pd.Series(\n",
    "    np.average(haberbosch_balance, weights=haberbosch_nh3_output, axis=0),\n",
    "    index=haberbosch_balance.columns,\n",
    ")\n",
    "haberbosch_balance"
   ]
  },
  {
   "cell_type": "markdown",
   "metadata": {},
   "source": [
    "## Breakdown Fischer-Tropsch market value"
   ]
  },
  {
   "cell_type": "code",
   "execution_count": null,
   "metadata": {},
   "outputs": [],
   "source": [
    "mapper = n.links.bus0.map(n.buses.location)\n",
    "carrier = \"Fischer-Tropsch\"\n",
    "threshold = 1\n",
    "weights = n.snapshot_weightings.generators"
   ]
  },
  {
   "cell_type": "code",
   "execution_count": null,
   "metadata": {},
   "outputs": [],
   "source": [
    "ft = n.links.query(\"carrier == @carrier and p_nom_opt > @threshold\").rename(\n",
    "    index=mapper\n",
    ")"
   ]
  },
  {
   "cell_type": "code",
   "execution_count": null,
   "metadata": {},
   "outputs": [],
   "source": [
    "ft_capex = ft.eval(\"p_nom_opt * capital_cost\").rename(index=mapper)"
   ]
  },
  {
   "cell_type": "code",
   "execution_count": null,
   "metadata": {},
   "outputs": [],
   "source": [
    "sel = (n.links.carrier == carrier) & (n.links.p_nom_opt > threshold)\n",
    "ft_h2 = n.links_t.p0.loc[:, sel].rename(columns=mapper)\n",
    "ft_oil = -n.links_t.p1.loc[:, sel].rename(columns=mapper)\n",
    "ft_co2 = n.links_t.p2.loc[:, sel].rename(columns=mapper)\n",
    "ft_heat = -n.links_t.p3.loc[:, sel].rename(columns=mapper)"
   ]
  },
  {
   "cell_type": "code",
   "execution_count": null,
   "metadata": {},
   "outputs": [],
   "source": [
    "ft_oil_output = weights @ ft_oil"
   ]
  },
  {
   "cell_type": "code",
   "execution_count": null,
   "metadata": {},
   "outputs": [],
   "source": [
    "## start time series"
   ]
  },
  {
   "cell_type": "code",
   "execution_count": null,
   "metadata": {},
   "outputs": [],
   "source": [
    "ft_co2_cost_t = ft_co2.mul(co2_prices - co2_tax, axis=0) / ft_oil\n",
    "ft_h2_cost_t = (h2_prices[ft.index] * ft_h2) / ft_oil\n",
    "ft_oil_revenue_t = (\n",
    "    ft_oil.mul(oil_prices, axis=0) - ft_co2.mul(co2_tax, axis=0)\n",
    ") / ft_oil\n",
    "ft_heat_revenue_t = (heat_prices[ft.index] * ft_heat) / ft_oil\n",
    "ft_capex_t = (ft_capex * ft_oil.mul(weights, axis=0).div(ft_oil_output)) / ft_oil_output"
   ]
  },
  {
   "cell_type": "code",
   "execution_count": null,
   "metadata": {},
   "outputs": [],
   "source": [
    "ft_cost_t = ft_co2_cost_t + ft_h2_cost_t + ft_heat_revenue_t + ft_capex_t"
   ]
  },
  {
   "cell_type": "code",
   "execution_count": null,
   "metadata": {},
   "outputs": [],
   "source": [
    "mean_values = (ft_cost_t * ft_oil_output).sum(axis=1) / ft_oil_output.sum()\n",
    "min_values = ft_cost_t.min(axis=1)\n",
    "max_values = ft_cost_t.max(axis=1)\n",
    "\n",
    "fig, ax = plt.subplots(figsize=(10, 4))\n",
    "\n",
    "mean_values.plot(\n",
    "    ax=ax, label=\"weighted mean\", color=tech_colors[\"Fischer-Tropsch\"], linewidth=1\n",
    ")\n",
    "plt.fill_between(\n",
    "    ft_cost_t.index,\n",
    "    min_values,\n",
    "    max_values,\n",
    "    color=tech_colors[\"Fischer-Tropsch\"],\n",
    "    alpha=0.3,\n",
    "    label=\"regional range\",\n",
    ")\n",
    "\n",
    "ax.axhline(\n",
    "    min_import_costs.at[\"Fischer-Tropsch\", \"min\"],\n",
    "    color=\"black\",\n",
    "    lw=1,\n",
    "    label=\"import cost\",\n",
    ")\n",
    "\n",
    "\n",
    "ax_twin = ax.twinx()\n",
    "\n",
    "total_capacity = ft.eval(\"p_nom_opt * efficiency\").sum()\n",
    "\n",
    "ft_oil.sum(axis=1).div(total_capacity).mul(100).plot(\n",
    "    ax=ax_twin, linewidth=1, color=\"coral\", label=\"total production\"\n",
    ")\n",
    "\n",
    "ax_twin.axhline(100, lw=1, label=\"total capacity\", linestyle=\":\", color=\"coral\")\n",
    "\n",
    "ax_twin.grid(False)\n",
    "\n",
    "ax_twin.set_ylim(0, 500)\n",
    "\n",
    "ax_twin.set_ylabel(\"capacity utilisation rate [%]\", color=\"coral\")\n",
    "\n",
    "\n",
    "import matplotlib.dates as mdates\n",
    "\n",
    "ax.xaxis.set_major_formatter(mdates.DateFormatter(\"%b\"))\n",
    "for label in ax.get_xticklabels():\n",
    "    label.set_rotation(0)\n",
    "    label.set_horizontalalignment(\"left\")\n",
    "\n",
    "ax.set_ylim(0, 250)\n",
    "\n",
    "ax.set_ylabel(\"domestic production cost [€/MWh]\", color=tech_colors[\"Fischer-Tropsch\"])\n",
    "ax.set_xlabel(\"\")\n",
    "ax.set_xlim(\"2013-01-01 00:00\", \"2013-12-31 23:00\")\n",
    "\n",
    "handles, labels = [], []\n",
    "for ax in [ax, ax_twin]:\n",
    "    h, l = ax.get_legend_handles_labels()\n",
    "    handles.extend(h)\n",
    "    labels.extend(l)\n",
    "\n",
    "# Create a single combined legend\n",
    "plt.legend(handles, labels, ncol=5, loc=(0, 1.01))\n",
    "\n",
    "plt.savefig(f\"ft-t-{scenario_name}.png\")"
   ]
  },
  {
   "cell_type": "code",
   "execution_count": null,
   "metadata": {},
   "outputs": [],
   "source": [
    "# end time series"
   ]
  },
  {
   "cell_type": "code",
   "execution_count": null,
   "metadata": {},
   "outputs": [],
   "source": [
    "ft_co2_cost = weights @ ft_co2.mul(co2_prices - co2_tax, axis=0)\n",
    "ft_h2_cost = weights @ (h2_prices[ft.index] * ft_h2)\n",
    "ft_oil_revenue = weights @ (\n",
    "    ft_oil.mul(oil_prices, axis=0) - ft_co2.mul(co2_tax, axis=0)\n",
    ")\n",
    "ft_heat_revenue = weights @ (heat_prices[ft.index] * ft_heat)"
   ]
  },
  {
   "cell_type": "code",
   "execution_count": null,
   "metadata": {},
   "outputs": [],
   "source": [
    "ft_cost = (ft_co2_cost + ft_h2_cost + ft_capex - ft_heat_revenue) / ft_oil_output"
   ]
  },
  {
   "cell_type": "code",
   "execution_count": null,
   "metadata": {},
   "outputs": [],
   "source": [
    "ft_revenue = ft_oil_revenue / ft_oil_output"
   ]
  },
  {
   "cell_type": "code",
   "execution_count": null,
   "metadata": {},
   "outputs": [],
   "source": [
    "ft_balance = pd.DataFrame(\n",
    "    {\n",
    "        \"hydrogen cost\": ft_h2_cost,\n",
    "        \"carbon dioxide cost\": ft_co2_cost,\n",
    "        \"investment cost\": ft_capex,\n",
    "        \"heat revenue\": -ft_heat_revenue,\n",
    "        \"product revenue\": -ft_oil_revenue,\n",
    "    }\n",
    ").div(ft_oil_output, axis=0)\n",
    "\n",
    "ft_balance = pd.Series(\n",
    "    np.average(ft_balance, weights=ft_oil_output, axis=0), index=ft_balance.columns\n",
    ")\n",
    "ft_balance"
   ]
  },
  {
   "cell_type": "markdown",
   "metadata": {},
   "source": [
    "## Breakdown methanol market value"
   ]
  },
  {
   "cell_type": "code",
   "execution_count": null,
   "metadata": {},
   "outputs": [],
   "source": [
    "mapper = n.links.bus0.map(n.buses.location)\n",
    "carrier = \"methanolisation\"\n",
    "threshold = 1\n",
    "weights = n.snapshot_weightings.generators"
   ]
  },
  {
   "cell_type": "code",
   "execution_count": null,
   "metadata": {},
   "outputs": [],
   "source": [
    "meoh = n.links.query(\"carrier == @carrier and p_nom_opt > @threshold\").rename(\n",
    "    index=mapper\n",
    ")"
   ]
  },
  {
   "cell_type": "code",
   "execution_count": null,
   "metadata": {},
   "outputs": [],
   "source": [
    "meoh_capex = meoh.eval(\"p_nom_opt * capital_cost\").rename(index=mapper)"
   ]
  },
  {
   "cell_type": "code",
   "execution_count": null,
   "metadata": {},
   "outputs": [],
   "source": [
    "sel = (n.links.carrier == carrier) & (n.links.p_nom_opt > threshold)\n",
    "meoh_h2 = n.links_t.p0.loc[:, sel].rename(columns=mapper)\n",
    "meoh_meoh = -n.links_t.p1.loc[:, sel].rename(columns=mapper)\n",
    "meoh_ac = n.links_t.p2.loc[:, sel].rename(columns=mapper)\n",
    "meoh_co2 = n.links_t.p3.loc[:, sel].rename(columns=mapper)\n",
    "meoh_heat = -n.links_t.p4.loc[:, sel].rename(columns=mapper)"
   ]
  },
  {
   "cell_type": "code",
   "execution_count": null,
   "metadata": {},
   "outputs": [],
   "source": [
    "meoh_meoh_output = weights @ meoh_meoh"
   ]
  },
  {
   "cell_type": "code",
   "execution_count": null,
   "metadata": {},
   "outputs": [],
   "source": [
    "## start time series"
   ]
  },
  {
   "cell_type": "code",
   "execution_count": null,
   "metadata": {},
   "outputs": [],
   "source": [
    "meoh_ac_cost_t = (ac_prices[meoh.index] * meoh_ac) / meoh_meoh\n",
    "meoh_co2_cost_t = meoh_co2.mul(co2_prices - co2_tax, axis=0) / meoh_meoh\n",
    "meoh_h2_cost_t = (h2_prices[meoh.index] * meoh_h2) / meoh_meoh\n",
    "meoh_meoh_revenue_t = (\n",
    "    meoh_meoh.mul(oil_prices, axis=0) - meoh_co2.mul(co2_tax, axis=0)\n",
    ") / meoh_meoh\n",
    "meoh_heat_revenue_t = (heat_prices[meoh.index] * meoh_heat) / meoh_meoh\n",
    "meoh_capex_t = (\n",
    "    meoh_capex * meoh_meoh.mul(weights, axis=0).div(meoh_meoh_output)\n",
    ") / meoh_meoh_output"
   ]
  },
  {
   "cell_type": "code",
   "execution_count": null,
   "metadata": {},
   "outputs": [],
   "source": [
    "meoh_cost_t = (\n",
    "    meoh_co2_cost_t\n",
    "    + meoh_h2_cost_t\n",
    "    + meoh_ac_cost_t\n",
    "    + meoh_heat_revenue_t\n",
    "    + meoh_capex_t\n",
    ")"
   ]
  },
  {
   "cell_type": "code",
   "execution_count": null,
   "metadata": {},
   "outputs": [],
   "source": [
    "mean_values = (meoh_cost_t * meoh_meoh_output).sum(axis=1) / meoh_meoh_output.sum()\n",
    "min_values = meoh_cost_t.min(axis=1)\n",
    "max_values = meoh_cost_t.max(axis=1)\n",
    "\n",
    "fig, ax = plt.subplots(figsize=(10, 4))\n",
    "\n",
    "mean_values.plot(\n",
    "    ax=ax, label=\"weighted mean\", color=tech_colors[\"methanolisation\"], linewidth=1\n",
    ")\n",
    "plt.fill_between(\n",
    "    meoh_cost_t.index,\n",
    "    min_values,\n",
    "    max_values,\n",
    "    color=tech_colors[\"methanolisation\"],\n",
    "    alpha=0.3,\n",
    "    label=\"regional range\",\n",
    ")\n",
    "\n",
    "ax.axhline(\n",
    "    min_import_costs.at[\"methanol\", \"min\"], color=\"black\", lw=1, label=\"import cost\"\n",
    ")\n",
    "\n",
    "\n",
    "ax_twin = ax.twinx()\n",
    "\n",
    "total_capacity = meoh.eval(\"p_nom_opt * efficiency\").sum()\n",
    "\n",
    "meoh_meoh.sum(axis=1).div(total_capacity).mul(100).plot(\n",
    "    ax=ax_twin, linewidth=1, color=\"coral\", label=\"total production\"\n",
    ")\n",
    "\n",
    "ax_twin.axhline(100, lw=1, label=\"total capacity\", linestyle=\":\", color=\"coral\")\n",
    "\n",
    "ax_twin.grid(False)\n",
    "\n",
    "ax_twin.set_ylim(0, 500)\n",
    "\n",
    "ax_twin.set_ylabel(\"capacity utilisation rate [%]\", color=\"coral\")\n",
    "\n",
    "\n",
    "import matplotlib.dates as mdates\n",
    "\n",
    "ax.xaxis.set_major_formatter(mdates.DateFormatter(\"%b\"))\n",
    "for label in ax.get_xticklabels():\n",
    "    label.set_rotation(0)\n",
    "    label.set_horizontalalignment(\"left\")\n",
    "\n",
    "ax.set_ylim(0, 250)\n",
    "\n",
    "ax.set_ylabel(\"domestic production cost [€/MWh]\", color=tech_colors[\"methanolisation\"])\n",
    "ax.set_xlabel(\"\")\n",
    "ax.set_xlim(\"2013-01-01 00:00\", \"2013-12-31 23:00\")\n",
    "\n",
    "handles, labels = [], []\n",
    "for ax in [ax, ax_twin]:\n",
    "    h, l = ax.get_legend_handles_labels()\n",
    "    handles.extend(h)\n",
    "    labels.extend(l)\n",
    "\n",
    "# Create a single combined legend\n",
    "plt.legend(handles, labels, ncol=5, loc=(0, 1.01))\n",
    "\n",
    "\n",
    "plt.savefig(f\"meoh-t-{scenario_name}.png\")"
   ]
  },
  {
   "cell_type": "code",
   "execution_count": null,
   "metadata": {},
   "outputs": [],
   "source": [
    "# end time series"
   ]
  },
  {
   "cell_type": "code",
   "execution_count": null,
   "metadata": {},
   "outputs": [],
   "source": [
    "meoh_co2_cost = weights @ meoh_co2.mul(co2_prices - co2_tax, axis=0)\n",
    "meoh_h2_cost = weights @ (h2_prices[meoh.index] * meoh_h2)\n",
    "meoh_ac_cost = weights @ (ac_prices[meoh.index] * meoh_ac)\n",
    "meoh_meoh_revenue = weights @ (\n",
    "    meoh_meoh.mul(meoh_prices, axis=0) - meoh_co2.mul(co2_tax, axis=0)\n",
    ")\n",
    "meoh_heat_revenue = weights @ (heat_prices[meoh.index] * meoh_heat)"
   ]
  },
  {
   "cell_type": "code",
   "execution_count": null,
   "metadata": {},
   "outputs": [],
   "source": [
    "meoh_cost = (\n",
    "    meoh_co2_cost + meoh_h2_cost + meoh_ac_cost + meoh_capex - meoh_heat_revenue\n",
    ") / meoh_meoh_output"
   ]
  },
  {
   "cell_type": "code",
   "execution_count": null,
   "metadata": {},
   "outputs": [],
   "source": [
    "meoh_revenue = meoh_meoh_revenue / meoh_meoh_output"
   ]
  },
  {
   "cell_type": "code",
   "execution_count": null,
   "metadata": {},
   "outputs": [],
   "source": [
    "meoh_balance = pd.DataFrame(\n",
    "    {\n",
    "        \"electricity cost\": meoh_ac_cost,\n",
    "        \"hydrogen cost\": meoh_h2_cost,\n",
    "        \"carbon dioxide cost\": meoh_co2_cost,\n",
    "        \"investment cost\": meoh_capex,\n",
    "        \"heat revenue\": -meoh_heat_revenue,\n",
    "        \"product revenue\": -meoh_meoh_revenue,\n",
    "    }\n",
    ").div(meoh_meoh_output, axis=0)\n",
    "\n",
    "try:\n",
    "    meoh_balance = pd.Series(\n",
    "        np.average(meoh_balance, weights=meoh_meoh_output, axis=0),\n",
    "        index=meoh_balance.columns,\n",
    "    )\n",
    "except:\n",
    "    meoh_balance = pd.Series(index=ft_balance.index)\n",
    "meoh_balance"
   ]
  },
  {
   "cell_type": "markdown",
   "metadata": {},
   "source": [
    "## Breakdown methane market value"
   ]
  },
  {
   "cell_type": "code",
   "execution_count": null,
   "metadata": {},
   "outputs": [],
   "source": [
    "mapper = n.links.bus0.map(n.buses.location)\n",
    "carrier = \"Sabatier\"\n",
    "threshold = 1\n",
    "weights = n.snapshot_weightings.generators"
   ]
  },
  {
   "cell_type": "code",
   "execution_count": null,
   "metadata": {},
   "outputs": [],
   "source": [
    "sab = n.links.query(\"carrier == @carrier and p_nom_opt > @threshold\").rename(\n",
    "    index=mapper\n",
    ")"
   ]
  },
  {
   "cell_type": "code",
   "execution_count": null,
   "metadata": {},
   "outputs": [],
   "source": [
    "sab_capex = sab.eval(\"p_nom_opt * capital_cost\").rename(index=mapper)"
   ]
  },
  {
   "cell_type": "code",
   "execution_count": null,
   "metadata": {},
   "outputs": [],
   "source": [
    "sel = (n.links.carrier == carrier) & (n.links.p_nom_opt > threshold)\n",
    "sab_h2 = n.links_t.p0.loc[:, sel].rename(columns=mapper)\n",
    "sab_gas = -n.links_t.p1.loc[:, sel].rename(columns=mapper)\n",
    "sab_co2 = n.links_t.p2.loc[:, sel].rename(columns=mapper)\n",
    "sab_heat = -n.links_t.p3.loc[:, sel].rename(columns=mapper)"
   ]
  },
  {
   "cell_type": "code",
   "execution_count": null,
   "metadata": {},
   "outputs": [],
   "source": [
    "sab_gas_output = weights @ sab_gas"
   ]
  },
  {
   "cell_type": "code",
   "execution_count": null,
   "metadata": {},
   "outputs": [],
   "source": [
    "## start time series"
   ]
  },
  {
   "cell_type": "code",
   "execution_count": null,
   "metadata": {},
   "outputs": [],
   "source": [
    "sab_co2_cost_t = sab_co2.mul(co2_prices - co2_tax, axis=0) / sab_gas\n",
    "sab_h2_cost_t = (h2_prices[sab.index] * sab_h2) / sab_gas\n",
    "sab_gas_revenue_t = (\n",
    "    (gas_prices[sab.index] * sab_gas) - sab_co2.mul(co2_tax, axis=0)\n",
    ") / sab_gas\n",
    "sab_heat_revenue_t = (heat_prices[sab.index] * sab_heat) / sab_gas\n",
    "sab_capex_t = (\n",
    "    sab_capex * sab_gas.mul(weights, axis=0).div(sab_gas_output)\n",
    ") / sab_gas_output"
   ]
  },
  {
   "cell_type": "code",
   "execution_count": null,
   "metadata": {},
   "outputs": [],
   "source": [
    "sab_cost_t = sab_co2_cost_t + sab_h2_cost_t + sab_heat_revenue_t + sab_capex_t"
   ]
  },
  {
   "cell_type": "code",
   "execution_count": null,
   "metadata": {},
   "outputs": [],
   "source": [
    "mean_values = (sab_cost_t * sab_gas_output).sum(axis=1) / sab_gas_output.sum()\n",
    "min_values = sab_cost_t.min(axis=1)\n",
    "max_values = sab_cost_t.max(axis=1)\n",
    "\n",
    "fig, ax = plt.subplots(figsize=(10, 4))\n",
    "\n",
    "mean_values.plot(\n",
    "    ax=ax, label=\"weighted mean\", color=tech_colors[\"Sabatier\"], linewidth=1\n",
    ")\n",
    "plt.fill_between(\n",
    "    sab_cost_t.index,\n",
    "    min_values,\n",
    "    max_values,\n",
    "    color=tech_colors[\"Sabatier\"],\n",
    "    alpha=0.3,\n",
    "    label=\"regional range\",\n",
    ")\n",
    "\n",
    "ax.axhline(\n",
    "    min_import_costs.at[\"methane\", \"min\"], color=\"black\", lw=1, label=\"import cost\"\n",
    ")\n",
    "\n",
    "\n",
    "ax_twin = ax.twinx()\n",
    "\n",
    "total_capacity = meoh.eval(\"p_nom_opt * efficiency\").sum()\n",
    "\n",
    "sab_gas.sum(axis=1).div(total_capacity).mul(100).plot(\n",
    "    ax=ax_twin, linewidth=1, color=\"coral\", label=\"total production\"\n",
    ")\n",
    "\n",
    "ax_twin.axhline(100, lw=1, label=\"total capacity\", linestyle=\":\", color=\"coral\")\n",
    "\n",
    "ax_twin.grid(False)\n",
    "\n",
    "ax_twin.set_ylim(0, 500)\n",
    "\n",
    "ax_twin.set_ylabel(\"capacity utilisation rate [%]\", color=\"coral\")\n",
    "\n",
    "\n",
    "import matplotlib.dates as mdates\n",
    "\n",
    "ax.xaxis.set_major_formatter(mdates.DateFormatter(\"%b\"))\n",
    "for label in ax.get_xticklabels():\n",
    "    label.set_rotation(0)\n",
    "    label.set_horizontalalignment(\"left\")\n",
    "\n",
    "ax.set_ylim(0, 250)\n",
    "\n",
    "ax.set_ylabel(\"domestic production cost [€/MWh]\", color=tech_colors[\"methanolisation\"])\n",
    "ax.set_xlabel(\"\")\n",
    "ax.set_xlim(\"2013-01-01 00:00\", \"2013-12-31 23:00\")\n",
    "\n",
    "handles, labels = [], []\n",
    "for ax in [ax, ax_twin]:\n",
    "    h, l = ax.get_legend_handles_labels()\n",
    "    handles.extend(h)\n",
    "    labels.extend(l)\n",
    "\n",
    "# Create a single combined legend\n",
    "plt.legend(handles, labels, ncol=5, loc=(0, 1.01))\n",
    "\n",
    "\n",
    "plt.savefig(f\"sab-t-{scenario_name}.png\")"
   ]
  },
  {
   "cell_type": "code",
   "execution_count": null,
   "metadata": {},
   "outputs": [],
   "source": [
    "# end time series"
   ]
  },
  {
   "cell_type": "code",
   "execution_count": null,
   "metadata": {},
   "outputs": [],
   "source": [
    "sab_co2_cost = weights @ sab_co2.mul(co2_prices - co2_tax, axis=0)\n",
    "sab_h2_cost = weights @ (h2_prices[sab.index] * sab_h2)\n",
    "sab_gas_revenue = weights @ (\n",
    "    (gas_prices[sab.index] * sab_gas) - sab_co2.mul(co2_tax, axis=0)\n",
    ")\n",
    "sab_heat_revenue = weights @ (heat_prices[sab.index] * sab_heat)"
   ]
  },
  {
   "cell_type": "code",
   "execution_count": null,
   "metadata": {},
   "outputs": [],
   "source": [
    "sab_cost = (sab_co2_cost + sab_h2_cost + sab_capex - sab_heat_revenue) / sab_gas_output"
   ]
  },
  {
   "cell_type": "code",
   "execution_count": null,
   "metadata": {},
   "outputs": [],
   "source": [
    "sab_revenue = sab_gas_revenue / sab_gas_output"
   ]
  },
  {
   "cell_type": "code",
   "execution_count": null,
   "metadata": {},
   "outputs": [],
   "source": [
    "sab_balance = pd.DataFrame(\n",
    "    {\n",
    "        \"hydrogen cost\": sab_h2_cost,\n",
    "        \"carbon dioxide cost\": sab_co2_cost,\n",
    "        \"investment cost\": sab_capex,\n",
    "        \"heat revenue\": -sab_heat_revenue,\n",
    "        \"product revenue\": -sab_gas_revenue,\n",
    "    }\n",
    ").div(sab_gas_output, axis=0)\n",
    "\n",
    "try:\n",
    "    sab_balance = pd.Series(\n",
    "        np.average(sab_balance, weights=sab_gas_output, axis=0),\n",
    "        index=sab_balance.columns,\n",
    "    )\n",
    "except:\n",
    "    sab_balance = pd.Series(index=ft_balance.index)\n",
    "sab_balance"
   ]
  },
  {
   "cell_type": "markdown",
   "metadata": {},
   "source": [
    "## Biomethane market value"
   ]
  },
  {
   "cell_type": "code",
   "execution_count": null,
   "metadata": {},
   "outputs": [],
   "source": [
    "mapper = n.links.bus0.map(n.buses.location)\n",
    "carrier = \"biogas to gas CC\"\n",
    "threshold = 1\n",
    "weights = n.snapshot_weightings.generators"
   ]
  },
  {
   "cell_type": "code",
   "execution_count": null,
   "metadata": {},
   "outputs": [],
   "source": [
    "bio = n.links.query(\"carrier == @carrier and p_nom_opt > @threshold\").rename(\n",
    "    index=mapper\n",
    ")"
   ]
  },
  {
   "cell_type": "code",
   "execution_count": null,
   "metadata": {},
   "outputs": [],
   "source": [
    "sel = (n.links.carrier == carrier) & (n.links.p_nom_opt > threshold)\n",
    "bio_gas = -n.links_t.p1.loc[:, sel].rename(columns=mapper)"
   ]
  },
  {
   "cell_type": "code",
   "execution_count": null,
   "metadata": {},
   "outputs": [],
   "source": [
    "bio_gas_output = weights @ bio_gas"
   ]
  },
  {
   "cell_type": "code",
   "execution_count": null,
   "metadata": {},
   "outputs": [],
   "source": [
    "bio_gas_revenue = weights @ (gas_prices[bio.index] * bio_gas)"
   ]
  },
  {
   "cell_type": "code",
   "execution_count": null,
   "metadata": {},
   "outputs": [],
   "source": [
    "bio_revenue = bio_gas_revenue / bio_gas_output"
   ]
  },
  {
   "cell_type": "code",
   "execution_count": null,
   "metadata": {},
   "outputs": [],
   "source": [
    "bio_bid = (bio_revenue * bio_gas_output).sum() / bio_gas_output.sum()\n",
    "bio_bid"
   ]
  },
  {
   "cell_type": "markdown",
   "metadata": {},
   "source": [
    "### Fossil gas"
   ]
  },
  {
   "cell_type": "code",
   "execution_count": null,
   "metadata": {},
   "outputs": [],
   "source": [
    "n.generators.query(\"carrier=='gas'\").marginal_cost.mean()"
   ]
  },
  {
   "cell_type": "markdown",
   "metadata": {},
   "source": [
    "## Breakdown steel market value"
   ]
  },
  {
   "cell_type": "code",
   "execution_count": null,
   "metadata": {},
   "outputs": [],
   "source": [
    "mapper = n.links.bus0.map(n.buses.location)\n",
    "carrier = \"DRI + Electric arc\"\n",
    "threshold = 1\n",
    "weights = n.snapshot_weightings.generators"
   ]
  },
  {
   "cell_type": "code",
   "execution_count": null,
   "metadata": {},
   "outputs": [],
   "source": [
    "drieaf = n.links.query(\"carrier == @carrier and p_nom_opt > @threshold\").rename(\n",
    "    index=mapper\n",
    ")"
   ]
  },
  {
   "cell_type": "code",
   "execution_count": null,
   "metadata": {},
   "outputs": [],
   "source": [
    "drieaf_capex = drieaf.eval(\"p_nom_opt * capital_cost\").rename(index=mapper)"
   ]
  },
  {
   "cell_type": "code",
   "execution_count": null,
   "metadata": {},
   "outputs": [],
   "source": [
    "sel = (n.links.carrier == carrier) & (n.links.p_nom_opt > threshold)\n",
    "drieaf_ac = n.links_t.p0.loc[:, sel].rename(columns=mapper)\n",
    "drieaf_steel = -n.links_t.p1.loc[:, sel].rename(columns=mapper)\n",
    "drieaf_h2 = n.links_t.p2.loc[:, sel].rename(columns=mapper)"
   ]
  },
  {
   "cell_type": "code",
   "execution_count": null,
   "metadata": {},
   "outputs": [],
   "source": [
    "drieaf_steel_output = weights @ drieaf_steel"
   ]
  },
  {
   "cell_type": "code",
   "execution_count": null,
   "metadata": {},
   "outputs": [],
   "source": [
    "drieaf_h2_cost = weights @ (h2_prices[drieaf.index] * drieaf_h2)\n",
    "drieaf_ac_cost = weights @ (ac_prices[drieaf.index] * drieaf_ac)\n",
    "drieaf_ore_cost = weights @ (drieaf.marginal_cost * drieaf_ac)  # since AC is bus0\n",
    "drieaf_steel_revenue = weights @ drieaf_steel.mul(steel_prices, axis=0)"
   ]
  },
  {
   "cell_type": "code",
   "execution_count": null,
   "metadata": {},
   "outputs": [],
   "source": [
    "drieaf_cost = (\n",
    "    drieaf_h2_cost + drieaf_ac_cost + drieaf_ore_cost + drieaf_capex\n",
    ") / drieaf_steel_output"
   ]
  },
  {
   "cell_type": "code",
   "execution_count": null,
   "metadata": {},
   "outputs": [],
   "source": [
    "drieaf_revenue = drieaf_steel_revenue / drieaf_steel_output"
   ]
  },
  {
   "cell_type": "code",
   "execution_count": null,
   "metadata": {},
   "outputs": [],
   "source": [
    "drieaf_balance = pd.DataFrame(\n",
    "    {\n",
    "        \"electricity cost\": drieaf_ac_cost,\n",
    "        \"hydrogen cost\": drieaf_h2_cost,\n",
    "        \"iron ore\": drieaf_ore_cost,\n",
    "        \"investment cost\": drieaf_capex,\n",
    "        \"product revenue\": -drieaf_steel_revenue,\n",
    "    }\n",
    ").div(drieaf_steel_output, axis=0)\n",
    "\n",
    "try:\n",
    "    drieaf_balance = pd.Series(\n",
    "        np.average(drieaf_balance, weights=drieaf_steel_output, axis=0),\n",
    "        index=drieaf_balance.columns,\n",
    "    )\n",
    "except:\n",
    "    drieaf_balance = pd.Series(\n",
    "        index=[\n",
    "            \"electricity cost\",\n",
    "            \"hydrogen cost\",\n",
    "            \"iron ore\",\n",
    "            \"investment cost\",\n",
    "            \"product revenue\",\n",
    "        ]\n",
    "    )\n",
    "drieaf_balance"
   ]
  },
  {
   "cell_type": "code",
   "execution_count": null,
   "metadata": {},
   "outputs": [],
   "source": [
    "import seaborn as sns\n",
    "\n",
    "pal = sns.color_palette(\"colorblind\", 10)\n",
    "pal"
   ]
  },
  {
   "cell_type": "code",
   "execution_count": null,
   "metadata": {},
   "outputs": [],
   "source": [
    "colors = {\n",
    "    \"heat revenue\": \"#d55e00\",\n",
    "    \"investment cost\": \"#de8f05\",\n",
    "    \"electricity cost\": \"#0173b2\",\n",
    "    \"hydrogen cost\": \"#029e73\",\n",
    "    \"carbon dioxide cost\": \"#cc78bc\",\n",
    "    \"iron ore\": \"#ca9161\",\n",
    "}"
   ]
  },
  {
   "cell_type": "code",
   "execution_count": null,
   "metadata": {},
   "outputs": [],
   "source": [
    "fig, ax = plt.subplots(figsize=(10, 3.5))\n",
    "\n",
    "fig.set_tight_layout(False)\n",
    "\n",
    "composition = pd.concat(\n",
    "    {\n",
    "        \"hydrogen\": electrolysers_balance,\n",
    "        \"ammonia\": haberbosch_balance,\n",
    "        \"methane\": sab_balance,\n",
    "        \"Fischer-Tropsch\": ft_balance,\n",
    "        \"methanol\": meoh_balance,\n",
    "        \"steel\": drieaf_balance,\n",
    "    },\n",
    "    axis=1,\n",
    ").drop(\"product revenue\")\n",
    "\n",
    "composition = composition.loc[colors.keys()]\n",
    "\n",
    "costs = composition.sum()\n",
    "costs = costs.where(costs > 0)\n",
    "\n",
    "barh = composition.T.plot.barh(ax=ax, stacked=True, width=0.75, color=colors)\n",
    "\n",
    "for container in ax.containers:\n",
    "    ax.bar_label(\n",
    "        container,\n",
    "        label_type=\"center\",\n",
    "        color=\"white\",\n",
    "        fmt=lambda x: x.astype(int) if x > 25 else \"\",\n",
    "    )\n",
    "\n",
    "errors = (\n",
    "    pd.concat(\n",
    "        {\n",
    "            \"hydrogen\": electrolysers_cost,\n",
    "            \"ammonia\": haberbosch_cost,\n",
    "            \"methane\": sab_cost,\n",
    "            \"Fischer-Tropsch\": ft_cost,\n",
    "            \"methanol\": meoh_cost,\n",
    "            \"steel\": drieaf_cost,\n",
    "        },\n",
    "        axis=1,\n",
    "    )\n",
    "    .describe()\n",
    "    .loc[[\"min\", \"max\"]]\n",
    "    .sub(costs)\n",
    "    .T.abs()\n",
    ")\n",
    "\n",
    "from matplotlib.transforms import Affine2D\n",
    "\n",
    "trans1 = Affine2D().translate(0.0, 0.15) + ax.transData\n",
    "trans2 = Affine2D().translate(0.0, -0.15) + ax.transData\n",
    "\n",
    "ax.errorbar(\n",
    "    costs,\n",
    "    composition.columns,\n",
    "    xerr=errors.T.values,\n",
    "    fmt=\".\",\n",
    "    capsize=4,\n",
    "    elinewidth=2,\n",
    "    capthick=2,\n",
    "    color=\"#ece133\",\n",
    "    transform=trans1,\n",
    "    markersize=8,\n",
    "    label=\"domestic cost (regional range)\",\n",
    ")\n",
    "\n",
    "imports = min_import_costs.reindex_like(errors)\n",
    "\n",
    "ax.errorbar(\n",
    "    imports.min(axis=1),\n",
    "    composition.columns,\n",
    "    xerr=(imports.T - imports.min(axis=1)).values,\n",
    "    fmt=\"None\",\n",
    "    capsize=4,\n",
    "    elinewidth=2,\n",
    "    capthick=2,\n",
    "    color=\"k\",\n",
    "    transform=trans2,\n",
    "    markersize=8,\n",
    "    label=\"import cost (regional range)\",\n",
    ")\n",
    "\n",
    "# ax.scatter(\n",
    "#     bio_bid,\n",
    "#     2,\n",
    "#     marker='o',\n",
    "#     color=tech_colors[\"biogas to gas CC\"],\n",
    "#     s=14,\n",
    "#     label=\"biogas bid\"\n",
    "# )\n",
    "\n",
    "# ax.scatter(\n",
    "#     bio_bid,\n",
    "#     2,\n",
    "#     marker='o',\n",
    "#     color=\"blue\",\n",
    "#     s=14,\n",
    "#     label=\"fossil bid\"\n",
    "# )\n",
    "\n",
    "ax.axvline(0, color=\"k\", lw=1)\n",
    "\n",
    "plt.xlim(-50, 600)\n",
    "plt.grid(axis=\"y\")\n",
    "plt.xlabel(\"unit cost [€/MWh or €/t steel]\", fontsize=11)\n",
    "\n",
    "plt.legend(ncol=4, loc=(0, 1.05))\n",
    "\n",
    "plt.xticks(range(-50, 600, 25), minor=True)\n",
    "\n",
    "ax_inset = ax.inset_axes([0.05, 0, 0.8, 0.8])\n",
    "\n",
    "regions_fn = \"/home/fneum/bwss/papers/import-benefits/workflow/pypsa-eur/resources/20231025-zecm/regions_onshore_elec_s_110.geojson\"\n",
    "crs = ccrs.EqualEarth()\n",
    "regions = gpd.read_file(regions_fn).set_index(\"name\").to_crs(crs.proj4_init)\n",
    "\n",
    "left, bottom, width, height = [0.92, 0.1, 0.015, 0.8]\n",
    "ax_cbar = fig.add_axes([left, bottom, width, height])\n",
    "ax_cbar.grid(False)\n",
    "\n",
    "regions_plot = regions.plot(\n",
    "    ax=ax_inset,\n",
    "    cmap=\"Greens_r\",\n",
    "    column=electrolysers_cost.reindex(regions.index),\n",
    "    missing_kwds=dict(color=\"lightgrey\", label=\"no electrolysers\"),\n",
    "    linewidth=0.3,\n",
    "    edgecolor=\"#efefef\",\n",
    "    cax=ax_cbar,\n",
    "    vmin=56,\n",
    "    vmax=70,\n",
    "    legend=True,\n",
    "    legend_kwds={\n",
    "        \"label\": \"time-weighted domestic\\nhydrogen production cost [€/MWh]\",\n",
    "        \"shrink\": 0.9,\n",
    "        \"extend\": \"both\",\n",
    "        \"pad\": 0,\n",
    "        \"aspect\": 35,\n",
    "    },\n",
    ")\n",
    "\n",
    "regions.representative_point().plot(\n",
    "    ax=ax_inset,\n",
    "    markersize=electrolysers_h2_output.reindex(regions.index) / 3e6,\n",
    "    color=\"orange\",\n",
    "    alpha=0.8,\n",
    ")\n",
    "circle = Circle(\n",
    "    (0.32, 0.77), 0.025, color=\"orange\", alpha=0.8, transform=ax_inset.transAxes\n",
    ")\n",
    "ax_inset.add_patch(circle)\n",
    "\n",
    "ax_inset.text(\n",
    "    0.05, 0.75, \"hydrogen\\nproduction\\nvolume\", transform=ax_inset.transAxes, fontsize=9\n",
    ")\n",
    "\n",
    "ax_inset.axis(\"off\")\n",
    "ax_inset.set_facecolor(\"none\")\n",
    "\n",
    "ax_inset2 = ax.inset_axes([0.65, 0.12, 0.33, 0.5])\n",
    "\n",
    "mean_values = (electrolysers_cost_t * electrolysers_h2_output).sum(\n",
    "    axis=1\n",
    ") / electrolysers_h2_output.sum()\n",
    "min_values = electrolysers_cost_t.min(axis=1)\n",
    "max_values = electrolysers_cost_t.max(axis=1)\n",
    "\n",
    "mean_values.plot(ax=ax_inset2, label=r\"H$_2$\", color=\"#f5daf1\", linewidth=1)\n",
    "ax_inset2.fill_between(\n",
    "    electrolysers_cost_t.index, min_values, max_values, color=\"#f5daf1\", alpha=0.3\n",
    ")\n",
    "\n",
    "ax_inset2.axhline(\n",
    "    min_import_costs.at[\"hydrogen\", \"min\"],\n",
    "    color=\"#a67ea0\",\n",
    "    lw=1,\n",
    "    linestyle=\":\",\n",
    "    label=\"import\",\n",
    ")\n",
    "\n",
    "mean_values = (ft_cost_t * ft_oil_output).sum(axis=1) / ft_oil_output.sum()\n",
    "min_values = ft_cost_t.min(axis=1)\n",
    "max_values = ft_cost_t.max(axis=1)\n",
    "\n",
    "mean_values.plot(\n",
    "    ax=ax_inset2, label=\"FTF\", color=tech_colors[\"Fischer-Tropsch\"], linewidth=0.75\n",
    ")\n",
    "ax_inset2.fill_between(\n",
    "    ft_cost_t.index,\n",
    "    min_values,\n",
    "    max_values,\n",
    "    color=tech_colors[\"Fischer-Tropsch\"],\n",
    "    alpha=0.3,\n",
    ")\n",
    "\n",
    "ax_inset2.axhline(\n",
    "    min_import_costs.at[\"Fischer-Tropsch\", \"min\"],\n",
    "    color=\"#178266\",\n",
    "    lw=1,\n",
    "    linestyle=\":\",\n",
    "    label=\"import\",\n",
    ")\n",
    "\n",
    "ax_inset2.legend(fontsize=8, ncol=2, labelspacing=0, columnspacing=0.8)\n",
    "\n",
    "import matplotlib.dates as mdates\n",
    "import matplotlib.ticker as ticker\n",
    "\n",
    "\n",
    "class FirstLetterOfMonthFormatter(ticker.Formatter):\n",
    "    def __init__(self):\n",
    "        super().__init__()\n",
    "\n",
    "    def __call__(self, x, pos=None):\n",
    "        dt = mdates.num2date(x)\n",
    "        return dt.strftime(\"%b\")[0]\n",
    "\n",
    "\n",
    "ax_inset2.xaxis.set_major_formatter(FirstLetterOfMonthFormatter())\n",
    "for label in ax_inset2.get_xticklabels():\n",
    "    label.set_rotation(0)\n",
    "    label.set_horizontalalignment(\"left\")\n",
    "\n",
    "ax_inset2.set_ylim(0, 300)\n",
    "\n",
    "ax_inset2.set_title(\n",
    "    \"domestic production cost over time\\n(weighted average & regional range)\",\n",
    "    fontsize=9,\n",
    ")\n",
    "ax_inset2.set_ylabel(\"€/MWh\", fontsize=10)\n",
    "ax_inset2.set_xlabel(\"\")\n",
    "ax_inset2.set_xlim(\"2013-01-01 00:00\", \"2013-12-31 23:00\")\n",
    "ax_inset2.grid(False)\n",
    "ax_inset2.set_facecolor(\"white\")\n",
    "ax_inset2.set_yticks(range(0, 300, 25), minor=True)\n",
    "for i in [\"top\", \"right\", \"left\", \"bottom\"]:\n",
    "    ax_inset2.spines[i].set_visible(False)\n",
    "\n",
    "\n",
    "handles, labels = ax_inset2.get_legend_handles_labels()\n",
    "\n",
    "ax.grid(False)\n",
    "\n",
    "for ext in [\".png\", \".pdf\"]:\n",
    "    plt.savefig(f\"{RUN}/market-values-{scenario_name}{ext}\", bbox_inches=\"tight\")"
   ]
  },
  {
   "cell_type": "code",
   "execution_count": null,
   "metadata": {},
   "outputs": [],
   "source": [
    "csc = (\n",
    "    pd.concat(\n",
    "        {\n",
    "            \"mv\": electrolysers_cost_t.stack(),\n",
    "            \"vol\": electrolysers_h2.mul(n.snapshot_weightings.generators, axis=0)\n",
    "            .stack()\n",
    "            .div(1e6),  # TWh\n",
    "        },\n",
    "        axis=1,\n",
    "    )\n",
    "    .sort_values(by=\"mv\")\n",
    "    .reset_index(drop=True)\n",
    ")\n",
    "\n",
    "csc[\"cum_vol\"] = csc[\"vol\"].cumsum()\n",
    "fig, ax = plt.subplots(figsize=(4.3, 3.1))\n",
    "plt.plot(\n",
    "    csc[\"cum_vol\"],\n",
    "    csc[\"mv\"],\n",
    "    marker=\"none\",\n",
    "    linestyle=\"-\",\n",
    "    color=tech_colors[\"H2 Electrolysis\"],\n",
    "    label=\"domestic cost curve\",\n",
    ")\n",
    "plt.ylabel(\"production cost [€/MWh]\")\n",
    "plt.xlabel(\"production volume [TWh]\")\n",
    "ax.set_xlim(0, 2100)\n",
    "ax.set_ylim(-2, 150)\n",
    "ax.fill_between(\n",
    "    csc[\"mv\"] * 2,\n",
    "    min_import_costs.at[\"hydrogen\", \"min\"],\n",
    "    min_import_costs.at[\"hydrogen\", \"max\"],\n",
    "    color=tech_colors[\"import pipeline-h2\"],\n",
    "    alpha=0.5,\n",
    "    label=\"import cost range (pipeline)\",\n",
    ")\n",
    "ax.fill_between(\n",
    "    csc[\"mv\"] * 2,\n",
    "    min_import_costs.at[\"hydrogen (ship)\", \"min\"],\n",
    "    min_import_costs.at[\"hydrogen (ship)\", \"max\"],\n",
    "    color=tech_colors[\"import shipping-lh2\"],\n",
    "    alpha=0.5,\n",
    "    label=\"import cost range (ship)\",\n",
    ")\n",
    "\n",
    "plt.legend(frameon=True, facecolor=\"white\", framealpha=1)\n",
    "\n",
    "for ext in [\".png\", \".pdf\"]:\n",
    "    plt.savefig(f\"{RUN}/csc-h2-{scenario_name}{ext}\", bbox_inches=\"tight\")"
   ]
  },
  {
   "cell_type": "code",
   "execution_count": null,
   "metadata": {},
   "outputs": [],
   "source": [
    "csc = (\n",
    "    pd.concat(\n",
    "        {\n",
    "            \"mv\": ft_cost_t.stack(),\n",
    "            \"vol\": ft_oil.mul(n.snapshot_weightings.generators, axis=0)\n",
    "            .stack()\n",
    "            .div(1e6),  # TWh\n",
    "        },\n",
    "        axis=1,\n",
    "    )\n",
    "    .sort_values(by=\"mv\")\n",
    "    .reset_index(drop=True)\n",
    ")\n",
    "\n",
    "csc[\"cum_vol\"] = csc[\"vol\"].cumsum()\n",
    "fig, ax = plt.subplots(figsize=(4.3, 3.1))\n",
    "plt.plot(\n",
    "    csc[\"cum_vol\"],\n",
    "    csc[\"mv\"],\n",
    "    marker=\"none\",\n",
    "    linestyle=\"-\",\n",
    "    color=tech_colors[\"Fischer-Tropsch\"],\n",
    "    label=\"domestic cost curve\",\n",
    ")\n",
    "plt.ylabel(\"production cost [€/MWh]\")\n",
    "plt.xlabel(\"production volume [TWh]\")\n",
    "ax.set_xlim(0, 1100)\n",
    "ax.set_ylim(0, 260)\n",
    "ax.axhline(\n",
    "    min_import_costs.at[\"Fischer-Tropsch\", \"min\"],\n",
    "    color=tech_colors[\"import shipping-ftfuel\"],\n",
    "    label=\"import cost (ship)\",\n",
    "    linestyle=\":\",\n",
    ")\n",
    "\n",
    "\n",
    "plt.legend(frameon=True, facecolor=\"white\", framealpha=1)\n",
    "\n",
    "for ext in [\".png\", \".pdf\"]:\n",
    "    plt.savefig(f\"{RUN}/csc-ftf-{scenario_name}{ext}\", bbox_inches=\"tight\")"
   ]
  },
  {
   "cell_type": "code",
   "execution_count": null,
   "metadata": {},
   "outputs": [],
   "source": [
    "csc = (\n",
    "    pd.concat(\n",
    "        {\n",
    "            \"mv\": meoh_cost_t.stack(),\n",
    "            \"vol\": meoh_meoh.mul(n.snapshot_weightings.generators, axis=0)\n",
    "            .stack()\n",
    "            .div(1e6),  # TWh\n",
    "        },\n",
    "        axis=1,\n",
    "    )\n",
    "    .sort_values(by=\"mv\")\n",
    "    .reset_index(drop=True)\n",
    ")\n",
    "\n",
    "csc[\"cum_vol\"] = csc[\"vol\"].cumsum()\n",
    "fig, ax = plt.subplots(figsize=(4.3, 3.1))\n",
    "plt.plot(\n",
    "    csc[\"cum_vol\"],\n",
    "    csc[\"mv\"],\n",
    "    marker=\"none\",\n",
    "    linestyle=\"-\",\n",
    "    color=tech_colors[\"methanolisation\"],\n",
    "    label=\"domestic cost curve\",\n",
    ")\n",
    "plt.ylabel(\"production cost [€/MWh]\")\n",
    "plt.xlabel(\"production volume [TWh]\")\n",
    "ax.set_xlim(0, 600)\n",
    "ax.set_ylim(0, 260)\n",
    "ax.axhline(\n",
    "    min_import_costs.at[\"methanol\", \"min\"],\n",
    "    color=tech_colors[\"import shipping-meoh\"],\n",
    "    label=\"import cost (ship)\",\n",
    "    linestyle=\":\",\n",
    ")\n",
    "\n",
    "\n",
    "plt.legend(frameon=True, facecolor=\"white\", framealpha=1)\n",
    "\n",
    "for ext in [\".png\", \".pdf\"]:\n",
    "    plt.savefig(f\"{RUN}/csc-meoh-{scenario_name}{ext}\", bbox_inches=\"tight\")"
   ]
  },
  {
   "cell_type": "code",
   "execution_count": null,
   "metadata": {},
   "outputs": [],
   "source": [
    "csc = (\n",
    "    pd.concat(\n",
    "        {\n",
    "            \"mv\": sab_cost_t.stack(),\n",
    "            \"vol\": sab_gas.mul(n.snapshot_weightings.generators, axis=0)\n",
    "            .stack()\n",
    "            .div(1e6),  # TWh\n",
    "        },\n",
    "        axis=1,\n",
    "    )\n",
    "    .sort_values(by=\"mv\")\n",
    "    .reset_index(drop=True)\n",
    ")\n",
    "\n",
    "csc[\"cum_vol\"] = csc[\"vol\"].cumsum()\n",
    "fig, ax = plt.subplots(figsize=(4.3, 3.1))\n",
    "plt.plot(\n",
    "    csc[\"cum_vol\"],\n",
    "    csc[\"mv\"],\n",
    "    marker=\"none\",\n",
    "    linestyle=\"-\",\n",
    "    color=tech_colors[\"Sabatier\"],\n",
    "    label=\"domestic cost curve\",\n",
    ")\n",
    "plt.ylabel(\"production cost [€/MWh]\")\n",
    "plt.xlabel(\"production volume [TWh]\")\n",
    "ax.set_xlim(0, 260)\n",
    "ax.set_ylim(0, 150)\n",
    "ax.axhline(\n",
    "    min_import_costs.at[\"methane\", \"min\"],\n",
    "    color=tech_colors[\"import shipping-lch4\"],\n",
    "    label=\"import cost (ship)\",\n",
    "    linestyle=\":\",\n",
    ")\n",
    "\n",
    "\n",
    "plt.legend(frameon=True, facecolor=\"white\", framealpha=1)\n",
    "\n",
    "for ext in [\".png\", \".pdf\"]:\n",
    "    plt.savefig(f\"{RUN}/csc-sab-{scenario_name}{ext}\", bbox_inches=\"tight\")"
   ]
  },
  {
   "cell_type": "code",
   "execution_count": null,
   "metadata": {},
   "outputs": [],
   "source": []
  }
 ],
 "metadata": {
  "kernelspec": {
   "display_name": "pypsa-eur-20230725",
   "language": "python",
   "name": "python3"
  },
  "language_info": {
   "codemirror_mode": {
    "name": "ipython",
    "version": 3
   },
   "file_extension": ".py",
   "mimetype": "text/x-python",
   "name": "python",
   "nbconvert_exporter": "python",
   "pygments_lexer": "ipython3",
   "version": "3.11.8"
  }
 },
 "nbformat": 4,
 "nbformat_minor": 2
}
